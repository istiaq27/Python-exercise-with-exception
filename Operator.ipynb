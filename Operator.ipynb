{
  "nbformat": 4,
  "nbformat_minor": 0,
  "metadata": {
    "colab": {
      "name": "Operator.ipynb",
      "provenance": [],
      "collapsed_sections": [
        "RWbIWgWJfhjG",
        "io9QLvnefnCm",
        "USzgY1NciyBR",
        "8fBLdLqalLd6",
        "FOmFab9kJk8u"
      ],
      "authorship_tag": "ABX9TyOjVLB6rT/RHV9IQQM2qidS",
      "include_colab_link": true
    },
    "kernelspec": {
      "name": "python3",
      "display_name": "Python 3"
    }
  },
  "cells": [
    {
      "cell_type": "markdown",
      "metadata": {
        "id": "view-in-github",
        "colab_type": "text"
      },
      "source": [
        "<a href=\"https://colab.research.google.com/github/istiaq27/python-basic-code-example-with-exception/blob/main/Operator.ipynb\" target=\"_parent\"><img src=\"https://colab.research.google.com/assets/colab-badge.svg\" alt=\"Open In Colab\"/></a>"
      ]
    },
    {
      "cell_type": "markdown",
      "metadata": {
        "id": "X3WCZ4ZsaQQ9"
      },
      "source": [
        "**Operator is a symbol that performs certain operations.**"
      ]
    },
    {
      "cell_type": "markdown",
      "metadata": {
        "id": "fpnm3DZ2aWqW"
      },
      "source": [
        "1. Arithmetic Operators\r\n",
        "2. Relational Operators or Comparison Operators\r\n",
        "3. Logical operators\r\n",
        "4. Bitwise oeprators\r\n",
        "5. Assignment operators\r\n",
        "6. Special operators"
      ]
    },
    {
      "cell_type": "markdown",
      "metadata": {
        "id": "RWbIWgWJfhjG"
      },
      "source": [
        "# **Arithmetic Operators**"
      ]
    },
    {
      "cell_type": "markdown",
      "metadata": {
        "id": "KSVEAaHTakGQ"
      },
      "source": [
        "* (+) --- Addition\r\n",
        "* (-) --- Subtraction\r\n",
        "* (*) --- Multiplication\r\n",
        "* (/) --- Division operator\r\n",
        "* (%) --- Modulo operator\r\n",
        "* (//) --- Floor Division operator\r\n",
        "* (**) --- Exponent operator or power operator"
      ]
    },
    {
      "cell_type": "code",
      "metadata": {
        "id": "uRYepuvXbby5"
      },
      "source": [
        "a = 6\r\n",
        "b = 4"
      ],
      "execution_count": null,
      "outputs": []
    },
    {
      "cell_type": "code",
      "metadata": {
        "id": "NpQD-8WZbd91"
      },
      "source": [
        "print(a+b)\r\n",
        "print(a-b)\r\n",
        "print(a*b)\r\n",
        "print(a/b)\r\n",
        "print(a//b)\r\n",
        "print(a%b)\r\n",
        "print(2**3)"
      ],
      "execution_count": null,
      "outputs": []
    },
    {
      "cell_type": "markdown",
      "metadata": {
        "id": "iHb8EDkBcmX9"
      },
      "source": [
        "**(/) --- Division operator always performs floating point arithmetic. Hence it will always returns\r\n",
        "float value**"
      ]
    },
    {
      "cell_type": "code",
      "metadata": {
        "id": "FsdhIvebIn8w"
      },
      "source": [
        "print(4/2)\r\n",
        "print(4.0/2)\r\n",
        "print(4/2.0)"
      ],
      "execution_count": null,
      "outputs": []
    },
    {
      "cell_type": "markdown",
      "metadata": {
        "id": "M2_5sj5Hdh_c"
      },
      "source": [
        "**Floor division (//) can perform both floating point and integral arithmetic. If\r\n",
        "arguments are int type then result is int type. If atleast one argument is float type then\r\n",
        "result is float type.**"
      ]
    },
    {
      "cell_type": "code",
      "metadata": {
        "id": "WpET1HxpdS7J"
      },
      "source": [
        "print(4//2)\r\n",
        "print(4.0//2)\r\n",
        "print(4//2.0)"
      ],
      "execution_count": null,
      "outputs": []
    },
    {
      "cell_type": "markdown",
      "metadata": {
        "id": "g9Zi62RjeD2K"
      },
      "source": [
        "**If we want to use + operator for str type then compulsory both arguments should be str\r\n",
        "type only otherwise we will get error.**"
      ]
    },
    {
      "cell_type": "code",
      "metadata": {
        "id": "0TYt_nB-eJsg"
      },
      "source": [
        "print(\"ab\"+\"cd\")\r\n",
        "print(\"ab\"+\"10\")"
      ],
      "execution_count": null,
      "outputs": []
    },
    {
      "cell_type": "code",
      "metadata": {
        "id": "6OgVNzWjejwI"
      },
      "source": [
        "# TypeError \r\n",
        "print(\"ab\"+2)"
      ],
      "execution_count": null,
      "outputs": []
    },
    {
      "cell_type": "markdown",
      "metadata": {
        "id": "G1hw8dsRefsz"
      },
      "source": [
        "**If we use * operator for str type then compulsory one argument should be int and other\r\n",
        "argument should be str type.**"
      ]
    },
    {
      "cell_type": "code",
      "metadata": {
        "id": "ljEST5lpeU-3"
      },
      "source": [
        "print(\"ab\"*3)\r\n",
        "print(3*\"ab\")"
      ],
      "execution_count": null,
      "outputs": []
    },
    {
      "cell_type": "code",
      "metadata": {
        "id": "AaHYxgPJe1pS"
      },
      "source": [
        "# TypeError: can't multiply sequence by non-int of type 'float\r\n",
        "print(\"ab\"*3.6)"
      ],
      "execution_count": null,
      "outputs": []
    },
    {
      "cell_type": "code",
      "metadata": {
        "id": "jXdtHj5PfKrC"
      },
      "source": [
        "# ZeroDivisionError: division by zero\r\n",
        "print(10/0)\r\n",
        "print(10%0)"
      ],
      "execution_count": null,
      "outputs": []
    },
    {
      "cell_type": "markdown",
      "metadata": {
        "id": "io9QLvnefnCm"
      },
      "source": [
        "# **Relational Operators**"
      ]
    },
    {
      "cell_type": "markdown",
      "metadata": {
        "id": "fBLqyKKfftVi"
      },
      "source": [
        "* **>**\r\n",
        "* **>=**\r\n",
        "* **<**\r\n",
        "* **<=**"
      ]
    },
    {
      "cell_type": "code",
      "metadata": {
        "id": "H1ds8HIXgTjc"
      },
      "source": [
        "a = 5\r\n",
        "b = 6"
      ],
      "execution_count": null,
      "outputs": []
    },
    {
      "cell_type": "code",
      "metadata": {
        "id": "Xz0Q60CIgYN0"
      },
      "source": [
        "print(a>b)\r\n",
        "print(a>=b)\r\n",
        "print(a<b)\r\n",
        "print(a<=b)\r\n"
      ],
      "execution_count": null,
      "outputs": []
    },
    {
      "cell_type": "code",
      "metadata": {
        "id": "4gJZsq3igudo"
      },
      "source": [
        "print('abcd'>='abc')\r\n",
        "print('ab'>='abc')\r\n",
        "print('abcd'<'abc')\r\n"
      ],
      "execution_count": null,
      "outputs": []
    },
    {
      "cell_type": "code",
      "metadata": {
        "id": "6r8dWUbshKBB"
      },
      "source": [
        "print(1>=True)\r\n",
        "print(0>=False)"
      ],
      "execution_count": null,
      "outputs": []
    },
    {
      "cell_type": "markdown",
      "metadata": {
        "id": "5ngURO-khx-X"
      },
      "source": [
        "**Chaining of relational operators is possible. In the chaining, if all comparisons\r\n",
        "returns True then only result is True. If atleast one comparison returns False then the\r\n",
        "result is False**"
      ]
    },
    {
      "cell_type": "code",
      "metadata": {
        "id": "9t3lw_B9hzmo"
      },
      "source": [
        "print(1<2)\r\n",
        "print(1<2<3)\r\n",
        "print(1<2<4<6)\r\n",
        "print(1<2<3<6<4)\r\n",
        "print(1<2<3<=4)"
      ],
      "execution_count": null,
      "outputs": []
    },
    {
      "cell_type": "markdown",
      "metadata": {
        "id": "USzgY1NciyBR"
      },
      "source": [
        "# **Equality operators**"
      ]
    },
    {
      "cell_type": "markdown",
      "metadata": {
        "id": "orJcFTWai5xw"
      },
      "source": [
        "* **==**\r\n",
        "* **!=**"
      ]
    },
    {
      "cell_type": "code",
      "metadata": {
        "id": "Ka3VifNiixoC"
      },
      "source": [
        "print(10==20)\r\n",
        "print(10!=20)\r\n",
        "print(1==True)\r\n",
        "print(0 == False)\r\n",
        "print(0!=True)"
      ],
      "execution_count": null,
      "outputs": []
    },
    {
      "cell_type": "markdown",
      "metadata": {
        "id": "_uPjsvNmk3GJ"
      },
      "source": [
        "**Chaining concept is applicable for equality operators. If atleast one comparison\r\n",
        "returns False then the result is False. otherwise the result is True.**"
      ]
    },
    {
      "cell_type": "code",
      "metadata": {
        "id": "VqHdze3kk41P"
      },
      "source": [
        "print(10==10!=20)\r\n",
        "print(10!=20==10)\r\n"
      ],
      "execution_count": null,
      "outputs": []
    },
    {
      "cell_type": "markdown",
      "metadata": {
        "id": "8fBLdLqalLd6"
      },
      "source": [
        "# **Logical Operators**"
      ]
    },
    {
      "cell_type": "markdown",
      "metadata": {
        "id": "odB7V3V1lNgt"
      },
      "source": [
        "1.   and\r\n",
        "2.   or\r\n",
        "3.   not\r\n",
        "\r\n",
        "\r\n"
      ]
    },
    {
      "cell_type": "code",
      "metadata": {
        "id": "VsfoXz8tlo7s"
      },
      "source": [
        "print(True or False)\r\n",
        "print(True and False)\r\n",
        "print(not False)"
      ],
      "execution_count": null,
      "outputs": []
    },
    {
      "cell_type": "markdown",
      "metadata": {
        "id": "6wmH9EcJotc8"
      },
      "source": [
        "**x and y:**\r\n"
      ]
    },
    {
      "cell_type": "code",
      "metadata": {
        "id": "DB32GgN9mduT"
      },
      "source": [
        "# if x is evaluates to false return x otherwise return y\r\n",
        "# If first argument is zero then result is zero otherwise result is y\r\n",
        "print(10 and 20)\r\n",
        "print(0 and 11)\r\n",
        "print('ass' and 'hass')\r\n",
        "print('' and 'ass')\r\n",
        "print('ass' and '')\r\n",
        "print"
      ],
      "execution_count": null,
      "outputs": []
    },
    {
      "cell_type": "markdown",
      "metadata": {
        "id": "8bj8NbXOG3jI"
      },
      "source": [
        "**x or y:**"
      ]
    },
    {
      "cell_type": "code",
      "metadata": {
        "id": "st2_6IzcHEMR"
      },
      "source": [
        "# If x evaluates to True then result is x otherwise result is y\r\n",
        "print( 1 or 2)\r\n",
        "print(1 or 0)\r\n",
        "print(0 or 11)\r\n",
        "print('' or 'aaaa')\r\n",
        "print('aa' or 'aaaaa')"
      ],
      "execution_count": null,
      "outputs": []
    },
    {
      "cell_type": "markdown",
      "metadata": {
        "id": "K-2vl-Y_Hf4i"
      },
      "source": [
        "**not x:**"
      ]
    },
    {
      "cell_type": "code",
      "metadata": {
        "colab": {
          "base_uri": "https://localhost:8080/"
        },
        "id": "uDtSc0JjHKz7",
        "outputId": "c66218e4-f052-4754-b30a-62b99b35c8b8"
      },
      "source": [
        "# If x is evalutates to False then result is True otherwise False\r\n",
        "print(not 0)\r\n",
        "print(not 11)\r\n",
        "print(not 'ass')\r\n",
        "print(not '')"
      ],
      "execution_count": 11,
      "outputs": [
        {
          "output_type": "stream",
          "text": [
            "True\n",
            "False\n",
            "False\n",
            "True\n"
          ],
          "name": "stdout"
        }
      ]
    },
    {
      "cell_type": "markdown",
      "metadata": {
        "id": "FOmFab9kJk8u"
      },
      "source": [
        "# **Bitwise Operators**"
      ]
    },
    {
      "cell_type": "markdown",
      "metadata": {
        "id": "64ZC4CfVJnVG"
      },
      "source": [
        "**These operators are applicable only for int and boolean types.**\r\n",
        "* **&**\r\n",
        "* **|**\r\n",
        "* **^**\r\n",
        "* **~**\r\n",
        "* **<<** \r\n",
        "* **>>**\r\n"
      ]
    },
    {
      "cell_type": "markdown",
      "metadata": {
        "id": "SgAPK_bUQVBj"
      },
      "source": [
        "![bit.PNG](data:image/png;base64,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)"
      ]
    },
    {
      "cell_type": "markdown",
      "metadata": {
        "id": "YgmtRoOpSuyt"
      },
      "source": [
        "![bit.PNG](data:image/png;base64,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)"
      ]
    },
    {
      "cell_type": "markdown",
      "metadata": {
        "id": "4-yoBNA8QrKT"
      },
      "source": [
        "[Learn more about bitwise operators](https://www.geeksforgeeks.org/python-bitwise-operators/)"
      ]
    },
    {
      "cell_type": "code",
      "metadata": {
        "id": "5TQ4D1AIJrPY"
      },
      "source": [
        "#  Returns 1 if both the bits are 1 else 0\r\n",
        "print(4&5)\r\n",
        "# Returns 1 if either of the bit is 1 else 0.\r\n",
        "print(4|5)\r\n",
        "# If bits are different then only result is 1 otherwise result is 0\r\n",
        "print(4^5)\r\n",
        "# one's complement\r\n",
        "print(~6)"
      ],
      "execution_count": null,
      "outputs": []
    },
    {
      "cell_type": "markdown",
      "metadata": {
        "id": "6RCn0wlYT3Gp"
      },
      "source": [
        "The most significant bit acts as sign bit. 0 value represents +ve number where as 1\r\n",
        "represents -ve value.\r\n",
        "positive numbers will be repesented directly in the memory where as -ve numbers will be\r\n",
        "represented indirectly in 2's complement form."
      ]
    },
    {
      "cell_type": "markdown",
      "metadata": {
        "id": "9pYd9EdWVUC5"
      },
      "source": [
        "**<< Left shift operator**"
      ]
    },
    {
      "cell_type": "markdown",
      "metadata": {
        "id": "s2WD82_gVWxu"
      },
      "source": [
        "After shifting the empty cells we have to fill with zero\r\n",
        "![bit.PNG](data:image/png;base64,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)"
      ]
    },
    {
      "cell_type": "code",
      "metadata": {
        "id": "aus9npfqT4T4"
      },
      "source": [
        "print(10<<2)\r\n",
        "print(10<<4)\r\n"
      ],
      "execution_count": null,
      "outputs": []
    },
    {
      "cell_type": "markdown",
      "metadata": {
        "id": "ByVw3urZVqQq"
      },
      "source": [
        "**>> Right Shift operator**"
      ]
    },
    {
      "cell_type": "markdown",
      "metadata": {
        "id": "RMWhPSSxVth7"
      },
      "source": [
        "After shifting the empty cells we have to fill with sign bit.( 0 for +ve and 1 for -ve)\r\n",
        "![bit.PNG](data:image/png;base64,iVBORw0KGgoAAAANSUhEUgAAAnwAAACkCAYAAAANH/M9AAAAAXNSR0IArs4c6QAAAARnQU1BAACxjwv8YQUAAAAJcEhZcwAADsMAAA7DAcdvqGQAABWNSURBVHhe7d1PiCNnesfxvuewh8CygoAPfQsNJsz6kgSsU7MwB58GcpLDMDAHE4ZssKBPnsvmUjAT8DXC44VcYgqTQ8BuECbgEAYKfFiWQScb0wjMMAxNg4ehEU/0Sirp1dOlarnrVbXe9/l+4CFGral+3sk8qt/WPx0IAAAAkkbgAwAASByBDwAAIHEEPgAAgMQR+AAAABJH4AMAAEgcgQ8AACBxBD4AAIDEEfgAAAASR+ADAABIHIEPAAAgcQQ+AACAxBH4AAAAEkfgAwAASByBDwAAIHEEvqnJaCDHBwdycPBQ8vHl4tXEXBaSHbo13pH+8OXiRQAAYMGeB76JXBRPpOvCWOcjyc/eLl4P6bUU2d1pEDqQTn8o54tX0/NGRoN783Xez+VssngZAAAkb88D36WM84ezkHJwcCi9/MfF6wGdD6XfqTnydTGS4aA/D501PUzGheRZTzqz97k6lv5gKKOLXSertzIu/lu+WPvdR9LLcinG6wF5dSTzngxGbxav7qPt1wQAAK5n4Ajf6sjWwWEmhTpje1lkclgVgiZjKZ6VQa+s6sA3GZ/KSbfjvc+r7hMpdhb6JtO8euKFIlX6dy9P63bkePBi+qf30S9cEwAAuJaBa/gupMi687BwJfB5YfB4ICM/R4xz6ZVH6UZfTP/bBY6qwPdShv07izDyWIazI1BvZTx8vAiLR3I//2EWrly4POpl8sVwNO2qhgtmRz3JvvjmmiOE7gjo79eOfK2HT93vqtfWT1/vbE0AAOA6uwl85ZGkzokMz1/L6PSJ9GanTafV7cuzYrw6urQ86vRQ8tGfJO8frwWS1RG41Q0Vy9d6uZytnUrtSLf/x9Vpv+XpWl1dyQoXuX6UvHc4e602AM3Cn/tzFWFj+TvUUbPJCxkcz0NKue3VKdVpTf8eBpuCn/dnf/mpYS/ETuswK6YRqlR/tHOndrYmAABwnd0Gvmmw6vUWR9fW6u40cL1W770j3e48fM1qGubGsx/XBL6/7Uq3ItAtb0q4LvAtf/c1IaIm8K1CXBkiS96RPy9cXbnWb1Pwc6eU82wVlLcOSX440v36p0vr7kj2et9Us///XHP6dVbe79nJmgAAwHV2HPgWO/X8xTTQTOTixbPlzn55RG3tvUfSG/xpLfzUBj5Xy9Ooq7tt16/HqzmluwyE14SImsC36kUHvrpTyTsMfhfPJStPf1Zc97i5X9+OAl8p8JoAAEC9HQe+jnSz516I8YLE7HTvdAfvBb6q06r1gW/9Rovqo201wavuVK1vB4GvNBk/l2eL09i1IUzdRFJ9RNIPvatrB32bj0jegkBrAgAA9XYc+HRA8h+zsghwG987Vx/41NGjZTCLJfBN5GL0lWS9o/n76kLYxUhOvSOCV8PRWznLP1r8fBq0T05lXJWMKv+ObkmoNQEAgFoEvtn7dxz49B3As6A3lMHyyN60Np3SXXsOoKuq05/+XcEH0uk9kxcbTo9ud4Rvx6d0A68JAADU2/kp3fXnvVXcyHCbgS/ANXyrn11/l274oOf8smC0OaD6dhT4drQmAABQr92bNsqHKLud+JWbNnYV+LyjivqCf6/Pm96lu/a4keUNJOcyyk8Wa13dkRz+sSzqRphrg9G2d+nuwM7WBAAArtNC4KsoP3jtPPBNI4QftNZ+XvMcvo2PdFnU8jTtepBdr/XrzmZ91wW90uzvpC4UlbY4ElfeHDNzi8/h29maAADAdXZ/Dd8X/7d2J2an90ROR160aiHwrR9xm9YycNYEoK0Dn+NO1fo3X0yr05MsL3Z8k8EvDUer91fdEb0fCHwAAITW8k0b+2cVHtV36aZoGWL3+bt0AQBAaOYDn6UQtDq1bSDcAgCAJQKff1r3yuNTUrJ6gPHyq+cAAIAJBL6p1ZGvlu9cbdPy/yd3pD98uXgRAABYsJvABwAAgL1B4AMAAEgcgQ8AACBxBD4AAIDEEfgAAAASR+ADAABIHIEPAAAgcQQ+AACAxBH4AAAAEkfgAwAASByBDwAAIHEEPgAAgMQR+AAAABJH4AMAAEgcgQ8AACBxBD4AAIDEEfgAAAASR+ADAABIHIEPAAAgcQQ+AACAxBH4AAAAEkfggxkHBwcURVGU8bKKwAczqgafoiiKslVWEfhgRtXgUxRFUbbKKgIfzKgafIqiKMpWWUXggxlVg09RFEXZKqsIfDAj9sFPrf+Y6N7pv130347PPvtMfvWrX1X269c+e/36tXz44YeVfZdlld2Vw5zYBz+1/mOie6f/dtH/bn3zzTfy7rvvVvZZFZ721SeffBJ9YN0luyuHObEPfmr9x0T3Tv/tov/d+P777+WDDz6o7O/999+fBUFH/2zffPnll/LOO+9c6dPVo0ePrrxmld2Vwxw99LENfmr9x0T3Tv/tov+w3GlPdzSsqi8XnNypXZ9+z7747rvvZsFU9+fKve4CraN/ZpXdlcMcPfSxDX5q/cdE907/7aL/cDZdp+decyHQhUFNv/e2uR6rjty5coHVHfHz6fdYZXflMEcPfWyDn1r/MdG903+76L+5uuv03Gnd8mhYFf3+2/T06dPawFpFv9cquyuHOXroQw7+ZFxInvWks9z2sfQHQxldTBbvaE737iqMtzIucsl6R6ttd/syGI7kYvGOEPy+XYWz+/79vssKZjKWIs+k1ym33ZFufyDD0fniDc3p3l0FdTGS4aAv3dm2D6WX/7j4QRi77D/u2XUm07/+oQz6x4ttP5R8fLn4mcirV6823rXqAmB5nV4d/efC2X52XZ+brtNz66s6MlnS77fK7sphjh76UIM/GZ/KSbdTuf2D7hMpAu04qrbf3PQDd/h4saPWNQ0e2fOdhaYw2un/6rYD9T85k+FJuaPWdVeyYvNO7Jeo2n4QLqw+K4NeWfEEvrhn1/X/XJ4tg15Z88D3888/S57n8t5776mfz4+G6ev06ug/H8Z2s+sCa911eu46vuvoP2eV3ZXDHD30YQb/pQz7d+bb6z6W4fjt9DX/g+xI7uc/TP83eHO6d1eNnQ+lPzuyNP2APTmVsWvUDyGdjyQ/c2tqLnjvTkv9695dNTeZtn+yOLJ0LCfDs9m/Ez+EdO7nchbgH4/u3VUQ41x65RGx0RfT/3bbjiXwRT67cjn963+4OCL2Zxm5/55t+6H84b/+Z+Pdt5uu06ujtxHEdbP7m4fyT/82WPu9ZVVdp1dH/3mr7K4c5uihDzL43ofW8eDFaucweSGD48VOuz+UECfndO+umvEDxz0ZjN4sXp/+ZDSQ49nrd6Q/fLl4tZmwvTvt9a97D9O/FziOBzJa/uN5I6PBvfnrnRMZnjePHH7fZQU3C39u25EEvqhnV1uEv9m2b3adXh29rebqZ/fO7PW/WPudruqu06ujt2OV3ZXDHD30IQZ/FSy6khX+yUNvZ36YSbG6pObGdO+umvGChe5xuTM8kMOsmO5OmvP7dtVce/37fZfVmBcs1nv0d4b639XN6N5dBRdZ4It7dte9evWT/OHB31f+ngcPHmx1nV4dvc3mqmd3NBrJB3f/7srvc3XddXp19LassrtymKOHPsTgXxaZHM62pXcaF1Jk3fnv2dudRk2Pl4Vkh/Pfsb+Br73+/b7Laqymx83/rm5G9+4quMgCX9yzO7e6Tu+3V7bvrt379ttvF+9sRm+7ufW/4+FPr+Tjjz++8ntc/cv09W2u06ujt2mV3ZXDHD30IQafwLc9v29XzRH4tqV7dxUcgW8j3burplyY23Sd3sf//p+zMBiK3n5z3t/xr//hyvbL+qt//o89/eyJk92Vwxw99CEGn8C3Pb9vV80R+Lale3cVHIFvI927q5typ2c3HQ2b1z+uPZYlBP07mruQwUd/c2W7rt777V9L7zfz/97fz5442V05zNFDH2Lwt9pprF2Qf3O6d1fNbBOY1AXtDYTt3Wmvf927q8a2CnzrF7TflO7dVXApBr49ml13/dqm5+k9eHBfvv20PFK2/hy+EPTva8IF1gcPqtfx6aefyqufhhF89sTJ7sphjh76IIO/3MnFeKeff2dfjHfptte/7t1Vcz9K3jucb4+7dGvtpP+IZtfdmVr17RLuOr2vv/56+g5/FvYz8Lk7hDedgv7dg9/Pbthw4vjsiZPdlcMcPfRBBt/bOaye5XUuo/xk8Syv/X547urD1XsW1sULycuHue7w4bMhtNW/7t1Vc16wWz6Hz31rQi792XP4pmva9wdH+2ILfBHMrnvW3KZvl/j888+96/T2N/C5I5MusOptuPr17P/+ZZSfPTGyu3KYo4c+zOBPd9DFk81Piy8/yAK4uv0Q/b+WIrtbuW3/YcAh6O2H0U7/VdsP4uK5ZBu/6aEMIc1VbT8I7/E3lbW3lzM4+zu77q7Uum+XcN8+4fpfPb6nqm7/lKj7No9NRybz/I/yv//6uys/m1cMnz3xsbtymKOHPtzgu6MyX61/H2SnJ1leBNthOH7fZYVxLqPTJ953uR5Ip5dJXoyDfeA6ft+uwtl9/37fZQVzMZLTte9yPZJelksRKOw5undXQUQd+Jz9mt266/Tckb715+ntb+Bzfbrv6dV/zpVb3zywOrF/9sTF7sphjh762AY/tf5jonun/3ZZ6H/TdXrutadPny7edTt0T5vUXafnjkw2fQD0TelerLK7cpijhz62wU+t/5jo3um/XSn3X3ed3qNHj2787RIh6b60uuv03Nrcqd3bpHuyyu7KYY4e+tgGP7X+Y6J7p/92pdj/ddfp3fR7b3dB9+fbdJ2ee82FwBgCqxV2Vw5z9NDHNvip9R8T3Tv9tyvF/qvq6nV6+0H36dRdp+dO68YSWC2xu3KYo4c+tsFPrf+Y6N7pv10p9u/XPlynV0f3u+nGEhcAYwmsFtldOczRQx/b4KfWf0x07/TfrhT7L8uFp3047Vmnqm+/XGC97ev06uh+rbK7cpijh56iKIqyV1YR+GBG1eBTFEVRtsoqAh/MqBp8iqIoylZZReCDGVWDT1EURdkqqwh8AAAAiSPwAQAAJI7ABwAAkDgCHwAAQOIIfAAAAIkj8AEAACSOwAcAAJA4Ah8AAEDiCHwAAACJI/ABAAAkjsAHAACQOAIfAABA4gh8AAAAiSPwAQAAJI7ABwAAkDgCHwAAQOIIfAAAAIkj8AEAACSOwAcAAJA4Ah8AAEDiCHwAAACJI/ABAAAkjsAHAACQOAIfAABA4gh8AAAAiSPwAQAAJI7ABzMODg4oiqIo42UVgQ9mVA0+RVEUZausIvDBjKrBpyiKomyVVQQ+mFE1+BRFUZStsorABzOqBp+iKIqyVVYR+GBG7IOfWv8x0b3Tf7vo/3bF3LsTe/+h2F05zNFDH9vgp9Z/THTv9N8u+r9dMffuxN5/KHZXDnP00Mc2+Kn1HxPdO/23i/5vV8y9O7H3H4rdlcMcPfSxDX5q/cdE907/7aL/2xVz707s/Ydid+UwRw99bIOfWv8x0b3Tf7vo/3bF3LsTe/+h2F05zNFDH9vgp9Z/THTv9N8u+r9dMffuxN5/KHZXDnP00Icc/Mm4kDzrSWe57WPpD4Yyupgs3tGc7t1VGG9lXOSS9Y5W2+72ZTAcycXiHSH4fbsKZ/f9+32XFcxkLEWeSa9Tbrsj3f5AhqPzxRua0727Ciby/uOeXWciF6OhDPrHi20/lHx8ufhZGLvrPfbPnrjYXTnM0UMfavAn41M56XYqt3/QfSJFoB1H1fabm37gDh9Lt2Lbsx139nxnoSmMdvq/uu1A/U/OZHhS7qh13ZWseL14YzNV2w8i8v7jnl3X/3N5tgx6ZcUS+GL/7ImP3ZXDHD30YQb/pQz7d+bb6z6W4fjt9DX/g+xI7uc/TP83eHO6d1eNnQ+lPzsyM/2APTmVsWvU34l3PpL8zK2pueC9Oy31r3t31dxk2v7J4sjSsZwMz2b/TvwQ0rmfy1mAfzy6d1fNxd5/5LMrlzLOHy6OiP1ZRu6/Z9uOJPDF/tkTIbsrhzl66IMMvvehdTx4sdo5TF7I4Hix0+sPJcTJLd27q2b8HfY9GYzeLF6f/mQ0kOPZ63ekP3y5eLWZsL077fWvew/Tvxc4jgcyWv7jeSOjwb35650TGZ43jxx+32U1F3n/Uc+utgh/s23HEPhi/+yJk92Vwxw99CEGf/Xh1JWs8E9AeDvDw0yKAJ+/undXzXg7Zt3jcmd4IIdZMd2dNOf37aq59vr3+y6rMS9YrPfo7wz1v6ub0b27aizy/uOeXS22wBf7Z0+c7K4c5uihDzH4l0Umh7Nt6Z3GhRRZd/579nanUdPjZSHZ4fx37O+Hbnv9+32X1VhNj5v/Xd2M7t1VY5H3H/fsarEFvtg/e+Jkd+UwRw99iMEn8G3P79tVcwS+beneXTVG4Nua7t1VWAS+On7vrqyyu3KYo4c+xOAT+Lbn9+2qOQLftnTvrhoj8G1N9+4qLAJfHb93V1bZXTnM0UMfYvC32mmsXdB+c7p3V81s86GrLmhvIGzvTnv9695dNbZVYFq/oP2mdO+uGou8/7hnV0sx8O3zZ0+c7K4c5uihDzL441x6s23FeKefv5OI8U659vrXvbtq7kfJe4fz7UV5l27k/Uc9u1psgS/2z5442V05zNFDH2TwvZ3D6lle5zLKTxbP8trvh8+uPly9Z2FdvJC8fJjrDh8+G0Jb/eveXTXnBaPlc+zctybk0p89x266pr1+cHTk/Uc+u+tiC3zxf/bEyO7KYY4e+jCDP93BFU82Py2+/CAL4Or2Q/T/WorsbuW2/YfphqC3H0Y7/VdtP4iL55Jt/KaHMoQ0V7X9IKLuP/bZ9R9/U1X7fko09s+e+NhdOczRQx9u8N1Rja/Wvw+y05MsL4LtMBy/77LCOJfR6RPvu1APpNPLJC/GwT5wHb9vV+Hsvn+/77KCuRjJ6dp3uR5JL8ulCBSWHN27q2Ci7j/m2Y098Dmxf/bExe7KYY4e+tgGP7X+Y6J7p/920f/tirl3J/b+Q7G7cpijhz62wU+t/5jo3um/XfR/u2Lu3Ym9/1Dsrhzm6KGPbfBT6z8munf6bxf9366Ye3di7z8UuyuHOXroYxv81PqPie6d/ttF/7cr5t6d2PsPxe7KYY4e+tgGP7X+Y6J7p/920f/tirl3J/b+Q7G7cpijhz62wU+t/5jo3um/XfR/u2Lu3Ym9/1Dsrhzm6KGnKIqi7JVVBD6YUTX4FEVRlK2yisAHM6oGn6IoirJVVhH4YEbV4FMURVG2yioCHwAAQOIIfAAAAIkj8AEAACSOwAcAAJA4Ah8AAEDiCHwAAACJI/ABAAAkjsAHAACQOAIfAABA4gh8AAAAiSPwAQAAJI7ABwAAkDgCHwAAQOIIfAAAAIkj8AEAACRN5P8BoXR2Z2gmbMsAAAAASUVORK5CYII=)"
      ]
    },
    {
      "cell_type": "code",
      "metadata": {
        "id": "946jFgZ0Wajf"
      },
      "source": [
        "print(10>>2)\r\n",
        "print(10>>3)"
      ],
      "execution_count": null,
      "outputs": []
    },
    {
      "cell_type": "code",
      "metadata": {
        "id": "QuN6MAK4XnHW"
      },
      "source": [
        "print(True & False)\r\n",
        "print(True | False)\r\n",
        "print(True ^ False)\r\n",
        "print(~True)\r\n",
        "print(True<<2)\r\n",
        "print(True>>2)"
      ],
      "execution_count": null,
      "outputs": []
    },
    {
      "cell_type": "markdown",
      "metadata": {
        "id": "HxNntbZfXx2G"
      },
      "source": [
        "# **Assignment Operators**"
      ]
    },
    {
      "cell_type": "markdown",
      "metadata": {
        "id": "yz7ZQdDTXzd0"
      },
      "source": [
        "* **+=**\r\n",
        "* **-=**\r\n",
        "* ***=**\r\n",
        "* **/=**\r\n",
        "* **%=**\r\n",
        "* **//=**\r\n",
        "* ****=**\r\n",
        "* **&=**\r\n",
        "* **|=**\r\n",
        "* **^=**\r\n",
        "* **>>=**\r\n",
        "* **<<=**"
      ]
    }
  ]
}