{
  "nbformat": 4,
  "nbformat_minor": 0,
  "metadata": {
    "colab": {
      "name": "Operator.ipynb",
      "provenance": [],
      "authorship_tag": "ABX9TyNvJKR8c/MI5KWOEHgW4we2",
      "include_colab_link": true
    },
    "kernelspec": {
      "name": "python3",
      "display_name": "Python 3"
    }
  },
  "cells": [
    {
      "cell_type": "markdown",
      "metadata": {
        "id": "view-in-github",
        "colab_type": "text"
      },
      "source": [
        "<a href=\"https://colab.research.google.com/github/istiaq27/python-basic-code-example-with-exception/blob/main/Operator.ipynb\" target=\"_parent\"><img src=\"https://colab.research.google.com/assets/colab-badge.svg\" alt=\"Open In Colab\"/></a>"
      ]
    },
    {
      "cell_type": "markdown",
      "metadata": {
        "id": "X3WCZ4ZsaQQ9"
      },
      "source": [
        "**Operator is a symbol that performs certain operations.**"
      ]
    },
    {
      "cell_type": "markdown",
      "metadata": {
        "id": "fpnm3DZ2aWqW"
      },
      "source": [
        "1. Arithmetic Operators\r\n",
        "2. Relational Operators or Comparison Operators\r\n",
        "3. Logical operators\r\n",
        "4. Bitwise oeprators\r\n",
        "5. Assignment operators\r\n",
        "6. Special operators"
      ]
    },
    {
      "cell_type": "markdown",
      "metadata": {
        "id": "RWbIWgWJfhjG"
      },
      "source": [
        "# **Arithmetic Operators**"
      ]
    },
    {
      "cell_type": "markdown",
      "metadata": {
        "id": "KSVEAaHTakGQ"
      },
      "source": [
        "* (+) --- Addition\r\n",
        "* (-) --- Subtraction\r\n",
        "* (*) --- Multiplication\r\n",
        "* (/) --- Division operator\r\n",
        "* (%) --- Modulo operator\r\n",
        "* (//) --- Floor Division operator\r\n",
        "* (**) --- Exponent operator or power operator"
      ]
    },
    {
      "cell_type": "code",
      "metadata": {
        "id": "uRYepuvXbby5"
      },
      "source": [
        "a = 6\r\n",
        "b = 4"
      ],
      "execution_count": null,
      "outputs": []
    },
    {
      "cell_type": "code",
      "metadata": {
        "id": "NpQD-8WZbd91"
      },
      "source": [
        "print(a+b)\r\n",
        "print(a-b)\r\n",
        "print(a*b)\r\n",
        "print(a/b)\r\n",
        "print(a//b)\r\n",
        "print(a%b)\r\n",
        "print(2**3)"
      ],
      "execution_count": null,
      "outputs": []
    },
    {
      "cell_type": "markdown",
      "metadata": {
        "id": "iHb8EDkBcmX9"
      },
      "source": [
        "**(/) --- Division operator always performs floating point arithmetic. Hence it will always returns\r\n",
        "float value**"
      ]
    },
    {
      "cell_type": "code",
      "metadata": {
        "id": "FsdhIvebIn8w"
      },
      "source": [
        "print(4/2)\r\n",
        "print(4.0/2)\r\n",
        "print(4/2.0)"
      ],
      "execution_count": null,
      "outputs": []
    },
    {
      "cell_type": "markdown",
      "metadata": {
        "id": "M2_5sj5Hdh_c"
      },
      "source": [
        "**Floor division (//) can perform both floating point and integral arithmetic. If\r\n",
        "arguments are int type then result is int type. If atleast one argument is float type then\r\n",
        "result is float type.**"
      ]
    },
    {
      "cell_type": "code",
      "metadata": {
        "id": "WpET1HxpdS7J"
      },
      "source": [
        "print(4//2)\r\n",
        "print(4.0//2)\r\n",
        "print(4//2.0)"
      ],
      "execution_count": null,
      "outputs": []
    },
    {
      "cell_type": "markdown",
      "metadata": {
        "id": "g9Zi62RjeD2K"
      },
      "source": [
        "**If we want to use + operator for str type then compulsory both arguments should be str\r\n",
        "type only otherwise we will get error.**"
      ]
    },
    {
      "cell_type": "code",
      "metadata": {
        "id": "0TYt_nB-eJsg"
      },
      "source": [
        "print(\"ab\"+\"cd\")\r\n",
        "print(\"ab\"+\"10\")"
      ],
      "execution_count": null,
      "outputs": []
    },
    {
      "cell_type": "code",
      "metadata": {
        "id": "6OgVNzWjejwI"
      },
      "source": [
        "# TypeError \r\n",
        "print(\"ab\"+2)"
      ],
      "execution_count": null,
      "outputs": []
    },
    {
      "cell_type": "markdown",
      "metadata": {
        "id": "G1hw8dsRefsz"
      },
      "source": [
        "**If we use * operator for str type then compulsory one argument should be int and other\r\n",
        "argument should be str type.**"
      ]
    },
    {
      "cell_type": "code",
      "metadata": {
        "id": "ljEST5lpeU-3"
      },
      "source": [
        "print(\"ab\"*3)\r\n",
        "print(3*\"ab\")"
      ],
      "execution_count": null,
      "outputs": []
    },
    {
      "cell_type": "code",
      "metadata": {
        "id": "AaHYxgPJe1pS"
      },
      "source": [
        "# TypeError: can't multiply sequence by non-int of type 'float\r\n",
        "print(\"ab\"*3.6)"
      ],
      "execution_count": null,
      "outputs": []
    },
    {
      "cell_type": "code",
      "metadata": {
        "id": "jXdtHj5PfKrC"
      },
      "source": [
        "# ZeroDivisionError: division by zero\r\n",
        "print(10/0)\r\n",
        "print(10%0)"
      ],
      "execution_count": null,
      "outputs": []
    },
    {
      "cell_type": "markdown",
      "metadata": {
        "id": "io9QLvnefnCm"
      },
      "source": [
        "# **Relational Operators**"
      ]
    },
    {
      "cell_type": "markdown",
      "metadata": {
        "id": "fBLqyKKfftVi"
      },
      "source": [
        "* **>**\r\n",
        "* **>=**\r\n",
        "* **<**\r\n",
        "* **<=**"
      ]
    },
    {
      "cell_type": "code",
      "metadata": {
        "id": "H1ds8HIXgTjc"
      },
      "source": [
        "a = 5\r\n",
        "b = 6"
      ],
      "execution_count": null,
      "outputs": []
    },
    {
      "cell_type": "code",
      "metadata": {
        "id": "Xz0Q60CIgYN0"
      },
      "source": [
        "print(a>b)\r\n",
        "print(a>=b)\r\n",
        "print(a<b)\r\n",
        "print(a<=b)\r\n"
      ],
      "execution_count": null,
      "outputs": []
    },
    {
      "cell_type": "code",
      "metadata": {
        "id": "4gJZsq3igudo"
      },
      "source": [
        "print('abcd'>='abc')\r\n",
        "print('ab'>='abc')\r\n",
        "print('abcd'<'abc')\r\n"
      ],
      "execution_count": null,
      "outputs": []
    },
    {
      "cell_type": "code",
      "metadata": {
        "id": "6r8dWUbshKBB"
      },
      "source": [
        "print(1>=True)\r\n",
        "print(0>=False)"
      ],
      "execution_count": null,
      "outputs": []
    },
    {
      "cell_type": "markdown",
      "metadata": {
        "id": "5ngURO-khx-X"
      },
      "source": [
        "**Chaining of relational operators is possible. In the chaining, if all comparisons\r\n",
        "returns True then only result is True. If atleast one comparison returns False then the\r\n",
        "result is False**"
      ]
    },
    {
      "cell_type": "code",
      "metadata": {
        "id": "9t3lw_B9hzmo"
      },
      "source": [
        "print(1<2)\r\n",
        "print(1<2<3)\r\n",
        "print(1<2<4<6)\r\n",
        "print(1<2<3<6<4)\r\n",
        "print(1<2<3<=4)"
      ],
      "execution_count": null,
      "outputs": []
    },
    {
      "cell_type": "markdown",
      "metadata": {
        "id": "USzgY1NciyBR"
      },
      "source": [
        "# **Equality operators**"
      ]
    },
    {
      "cell_type": "markdown",
      "metadata": {
        "id": "orJcFTWai5xw"
      },
      "source": [
        "* **==**\r\n",
        "* **!=**"
      ]
    },
    {
      "cell_type": "code",
      "metadata": {
        "id": "Ka3VifNiixoC"
      },
      "source": [
        "print(10==20)\r\n",
        "print(10!=20)\r\n",
        "print(1==True)\r\n",
        "print(0 == False)\r\n",
        "print(0!=True)"
      ],
      "execution_count": null,
      "outputs": []
    },
    {
      "cell_type": "markdown",
      "metadata": {
        "id": "_uPjsvNmk3GJ"
      },
      "source": [
        "**Chaining concept is applicable for equality operators. If atleast one comparison\r\n",
        "returns False then the result is False. otherwise the result is True.**"
      ]
    },
    {
      "cell_type": "code",
      "metadata": {
        "id": "VqHdze3kk41P"
      },
      "source": [
        "print(10==10!=20)\r\n",
        "print(10!=20==10)\r\n"
      ],
      "execution_count": null,
      "outputs": []
    },
    {
      "cell_type": "markdown",
      "metadata": {
        "id": "8fBLdLqalLd6"
      },
      "source": [
        "# **Logical Operators**"
      ]
    },
    {
      "cell_type": "markdown",
      "metadata": {
        "id": "odB7V3V1lNgt"
      },
      "source": [
        "1.   and\r\n",
        "2.   or\r\n",
        "3.   not\r\n",
        "\r\n",
        "\r\n"
      ]
    },
    {
      "cell_type": "code",
      "metadata": {
        "id": "VsfoXz8tlo7s"
      },
      "source": [
        "print(True or False)\r\n",
        "print(True and False)\r\n",
        "print(not False)"
      ],
      "execution_count": null,
      "outputs": []
    },
    {
      "cell_type": "markdown",
      "metadata": {
        "id": "6wmH9EcJotc8"
      },
      "source": [
        "**x and y:**\r\n"
      ]
    },
    {
      "cell_type": "code",
      "metadata": {
        "id": "DB32GgN9mduT"
      },
      "source": [
        "# if x is evaluates to false return x otherwise return y\r\n",
        "# If first argument is zero then result is zero otherwise result is y\r\n",
        "print(10 and 20)\r\n",
        "print(0 and 11)\r\n",
        "print('ass' and 'hass')\r\n",
        "print('' and 'ass')\r\n",
        "print('ass' and '')\r\n",
        "print"
      ],
      "execution_count": null,
      "outputs": []
    },
    {
      "cell_type": "markdown",
      "metadata": {
        "id": "8bj8NbXOG3jI"
      },
      "source": [
        "**x or y:**"
      ]
    },
    {
      "cell_type": "code",
      "metadata": {
        "id": "st2_6IzcHEMR"
      },
      "source": [
        "# If x evaluates to True then result is x otherwise result is y\r\n",
        "print( 1 or 2)\r\n",
        "print(1 or 0)\r\n",
        "print(0 or 11)\r\n",
        "print('' or 'aaaa')\r\n",
        "print('aa' or 'aaaaa')"
      ],
      "execution_count": null,
      "outputs": []
    },
    {
      "cell_type": "markdown",
      "metadata": {
        "id": "K-2vl-Y_Hf4i"
      },
      "source": [
        "**not x:**"
      ]
    },
    {
      "cell_type": "code",
      "metadata": {
        "colab": {
          "base_uri": "https://localhost:8080/"
        },
        "id": "uDtSc0JjHKz7",
        "outputId": "c66218e4-f052-4754-b30a-62b99b35c8b8"
      },
      "source": [
        "# If x is evalutates to False then result is True otherwise False\r\n",
        "print(not 0)\r\n",
        "print(not 11)\r\n",
        "print(not 'ass')\r\n",
        "print(not '')"
      ],
      "execution_count": 11,
      "outputs": [
        {
          "output_type": "stream",
          "text": [
            "True\n",
            "False\n",
            "False\n",
            "True\n"
          ],
          "name": "stdout"
        }
      ]
    },
    {
      "cell_type": "markdown",
      "metadata": {
        "id": "FOmFab9kJk8u"
      },
      "source": [
        "# **Bitwise Operators**"
      ]
    },
    {
      "cell_type": "markdown",
      "metadata": {
        "id": "64ZC4CfVJnVG"
      },
      "source": [
        "**These operators are applicable only for int and boolean types.**\r\n",
        "* **&**\r\n",
        "* **|**\r\n",
        "* **^**\r\n",
        "* **~**\r\n",
        "* **<<** \r\n",
        "* **>>**\r\n"
      ]
    },
    {
      "cell_type": "markdown",
      "metadata": {
        "id": "SgAPK_bUQVBj"
      },
      "source": [
        "![bit.PNG](data:image/png;base64,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)"
      ]
    },
    {
      "cell_type": "markdown",
      "metadata": {
        "id": "4-yoBNA8QrKT"
      },
      "source": [
        "[Learn more about bitwise operators](https://www.geeksforgeeks.org/python-bitwise-operators/)"
      ]
    },
    {
      "cell_type": "code",
      "metadata": {
        "colab": {
          "base_uri": "https://localhost:8080/"
        },
        "id": "5TQ4D1AIJrPY",
        "outputId": "4d14b356-3b6f-451d-c7c3-c1f0ad8306b3"
      },
      "source": [
        "print(4&5)"
      ],
      "execution_count": 15,
      "outputs": [
        {
          "output_type": "stream",
          "text": [
            "4\n"
          ],
          "name": "stdout"
        }
      ]
    }
  ]
}