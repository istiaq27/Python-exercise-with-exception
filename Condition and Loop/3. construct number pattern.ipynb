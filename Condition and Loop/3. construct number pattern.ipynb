{
  "nbformat": 4,
  "nbformat_minor": 0,
  "metadata": {
    "kernelspec": {
      "display_name": "Python 2",
      "language": "python",
      "name": "python2"
    },
    "language_info": {
      "codemirror_mode": {
        "name": "ipython",
        "version": 2
      },
      "file_extension": ".py",
      "mimetype": "text/x-python",
      "name": "python",
      "nbconvert_exporter": "python",
      "pygments_lexer": "ipython2",
      "version": "2.7.13"
    },
    "colab": {
      "name": "3. construct_number_pattern.ipynb",
      "provenance": [],
      "include_colab_link": true
    }
  },
  "cells": [
    {
      "cell_type": "markdown",
      "metadata": {
        "id": "view-in-github",
        "colab_type": "text"
      },
      "source": [
        "<a href=\"https://colab.research.google.com/github/istiaq27/Python-exercise-with-exception/blob/main/Condition%20and%20Loop/3.%20construct%20number%20pattern.ipynb\" target=\"_parent\"><img src=\"https://colab.research.google.com/assets/colab-badge.svg\" alt=\"Open In Colab\"/></a>"
      ]
    },
    {
      "cell_type": "code",
      "metadata": {
        "id": "riFa4BWBhOzy"
      },
      "source": [
        "\n",
        "# Write a Python program to construct the following pattern, using a nested loop number.\n",
        "\n",
        "\n",
        "# 1                                                                                                             \n",
        "# 22                                                                                                            \n",
        "# 333                                                                                                           \n",
        "# 4444                                                                                                          \n",
        "# 55555                                                                                                         \n",
        "# 666666                                                                                                        \n",
        "# 7777777                                                                                                       \n",
        "# 88888888                                                                                                      \n",
        "# 999999999"
      ],
      "execution_count": 2,
      "outputs": []
    },
    {
      "cell_type": "code",
      "metadata": {
        "colab": {
          "base_uri": "https://localhost:8080/"
        },
        "id": "ggHymoIMi06g",
        "outputId": "3dddd88d-9e64-43ba-b9c9-52915dc86a2d"
      },
      "source": [
        "for num in range(10):\n",
        "    print(str(num)*num)"
      ],
      "execution_count": 3,
      "outputs": [
        {
          "output_type": "stream",
          "name": "stdout",
          "text": [
            "\n",
            "1\n",
            "22\n",
            "333\n",
            "4444\n",
            "55555\n",
            "666666\n",
            "7777777\n",
            "88888888\n",
            "999999999\n"
          ]
        }
      ]
    }
  ]
}