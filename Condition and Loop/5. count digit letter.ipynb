{
  "nbformat": 4,
  "nbformat_minor": 0,
  "metadata": {
    "kernelspec": {
      "name": "python3",
      "display_name": "Python 3"
    },
    "colab": {
      "name": "5. count_digit_letter.ipynb",
      "provenance": [],
      "collapsed_sections": [],
      "include_colab_link": true
    },
    "language_info": {
      "name": "python"
    }
  },
  "cells": [
    {
      "cell_type": "markdown",
      "metadata": {
        "id": "view-in-github",
        "colab_type": "text"
      },
      "source": [
        "<a href=\"https://colab.research.google.com/github/istiaq27/Python-exercise-with-exception/blob/main/Condition%20and%20Loop/5.%20count%20digit%20letter.ipynb\" target=\"_parent\"><img src=\"https://colab.research.google.com/assets/colab-badge.svg\" alt=\"Open In Colab\"/></a>"
      ]
    },
    {
      "cell_type": "code",
      "metadata": {
        "collapsed": true,
        "id": "pTMZnK62ncov"
      },
      "source": [
        "\n",
        "# Write a Python program that accepts a string and calculate the number of digits and letters\n",
        "# Sample Data : \"Python 3.9\"\n",
        "# Expected Output :\n",
        "# Letters 6 \n",
        "# Digits 2"
      ],
      "execution_count": 8,
      "outputs": []
    },
    {
      "cell_type": "code",
      "metadata": {
        "colab": {
          "base_uri": "https://localhost:8080/"
        },
        "id": "9gP-eqnFsE3R",
        "outputId": "fd618909-7596-4ed4-9f47-acebaeac1aca"
      },
      "source": [
        "st = input(\"Input a string \")\n",
        "digit=letter=0\n",
        "for s in st:\n",
        "    if s.isdigit():\n",
        "        digit+=1\n",
        "    elif s.isalpha():\n",
        "        letter+=1\n",
        "    else:\n",
        "        pass\n",
        "print(\"Letters\", letter)\n",
        "print(\"Digits\", digit)"
      ],
      "execution_count": 9,
      "outputs": [
        {
          "output_type": "stream",
          "name": "stdout",
          "text": [
            "Input a string python 3.9\n",
            "Letters 6\n",
            "Digits 2\n"
          ]
        }
      ]
    }
  ]
}