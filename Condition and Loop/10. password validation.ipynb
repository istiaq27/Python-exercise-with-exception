{
  "nbformat": 4,
  "nbformat_minor": 0,
  "metadata": {
    "kernelspec": {
      "display_name": "Python 3",
      "language": "python",
      "name": "python3"
    },
    "language_info": {
      "codemirror_mode": {
        "name": "ipython",
        "version": 3
      },
      "file_extension": ".py",
      "mimetype": "text/x-python",
      "name": "python",
      "nbconvert_exporter": "python",
      "pygments_lexer": "ipython3",
      "version": "3.6.1"
    },
    "colab": {
      "name": "10. password_validation.ipynb",
      "provenance": [],
      "collapsed_sections": [],
      "include_colab_link": true
    }
  },
  "cells": [
    {
      "cell_type": "markdown",
      "metadata": {
        "id": "view-in-github",
        "colab_type": "text"
      },
      "source": [
        "<a href=\"https://colab.research.google.com/github/istiaq27/Python-exercise-with-exception/blob/main/Condition%20and%20Loop/10.%20password%20validation.ipynb\" target=\"_parent\"><img src=\"https://colab.research.google.com/assets/colab-badge.svg\" alt=\"Open In Colab\"/></a>"
      ]
    },
    {
      "cell_type": "code",
      "metadata": {
        "collapsed": true,
        "id": "Z_XEG2qgz9ww"
      },
      "source": [
        "# Write a Python program to check the validity of a password (input from users).\n",
        "\n",
        "# Validation :\n",
        "\n",
        "# At least 1 letter between [a-z] and 1 letter between [A-Z].\n",
        "# At least 1 number between [0-9].\n",
        "# At least 1 character from [$#@].\n",
        "# Minimum length 6 characters.\n",
        "# Maximum length 16 characters.\n",
        "\n",
        "# Input\n",
        "# W3r@100a\n",
        "# Output\n",
        "# Valid password"
      ],
      "execution_count": 1,
      "outputs": []
    },
    {
      "cell_type": "code",
      "metadata": {
        "colab": {
          "base_uri": "https://localhost:8080/"
        },
        "id": "JB-TNfhd0Bpz",
        "outputId": "d06e7c58-979d-40f9-e946-dbd8aec8babe"
      },
      "source": [
        "import re\n",
        "\n",
        "while True:\n",
        "    password = input('Input a Password: ')\n",
        "    is_valid = False\n",
        "\n",
        "    if len(password)>16 or len(password)<6:\n",
        "        print(\"Not valid ! Total characters should be between 6 and 12\")\n",
        "        continue\n",
        "    elif not re.search(\"[a-z]\",password):\n",
        "        print(\"Not valid ! It should contain one letter between [a-z]\")\n",
        "        continue\n",
        "    elif not re.search(\"[A-Z]\",password):\n",
        "        print(\"Not valid ! It should contain one letter between [A-Z]\")\n",
        "        continue\n",
        "    elif not re.search(\"[0-9]\",password):\n",
        "        print(\"Not valid ! It should contain one letter between [0-9]\")\n",
        "        continue\n",
        "    elif not re.search(\"[$#@]\",password):\n",
        "        print(\"Not valid ! It should contain one letter between [$#@]\")\n",
        "        continue\n",
        "    elif re.search(\"[\\s]\",password):\n",
        "        print(\"Not valid ! It should not contain any space\")\n",
        "        continue\n",
        "    else:\n",
        "        is_valid = True\n",
        "        break\n",
        "\n",
        "\n",
        "if is_valid:\n",
        "    print(\"Valid Password!\")\n",
        "\n",
        "    \n",
        "    \n",
        "\n",
        "    "
      ],
      "execution_count": 6,
      "outputs": [
        {
          "output_type": "stream",
          "name": "stdout",
          "text": [
            "Input a Password: W3r100a\n",
            "Not valid ! It should contain one letter between [$#@]\n",
            "Input a Password: 3r@100a\n",
            "Not valid ! It should contain one letter between [A-Z]\n",
            "Input a Password: W3r@100a\n",
            "Valid Password!\n"
          ]
        }
      ]
    },
    {
      "cell_type": "code",
      "metadata": {
        "id": "qvYUz3lb0PqV"
      },
      "source": [
        ""
      ],
      "execution_count": null,
      "outputs": []
    }
  ]
}