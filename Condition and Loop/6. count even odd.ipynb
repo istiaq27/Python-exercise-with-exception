{
  "nbformat": 4,
  "nbformat_minor": 0,
  "metadata": {
    "kernelspec": {
      "display_name": "Python 3",
      "language": "python",
      "name": "python3"
    },
    "language_info": {
      "codemirror_mode": {
        "name": "ipython",
        "version": 3
      },
      "file_extension": ".py",
      "mimetype": "text/x-python",
      "name": "python",
      "nbconvert_exporter": "python",
      "pygments_lexer": "ipython3",
      "version": "3.6.1"
    },
    "colab": {
      "name": "6. count_even_odd.ipynb",
      "provenance": [],
      "collapsed_sections": [],
      "include_colab_link": true
    }
  },
  "cells": [
    {
      "cell_type": "markdown",
      "metadata": {
        "id": "view-in-github",
        "colab_type": "text"
      },
      "source": [
        "<a href=\"https://colab.research.google.com/github/istiaq27/Python-exercise-with-exception/blob/main/Condition%20and%20Loop/6.%20count%20even%20odd.ipynb\" target=\"_parent\"><img src=\"https://colab.research.google.com/assets/colab-badge.svg\" alt=\"Open In Colab\"/></a>"
      ]
    },
    {
      "cell_type": "code",
      "metadata": {
        "collapsed": true,
        "id": "bsJ_5cKx7XSb"
      },
      "source": [
        "# Count the number of even and odd numbers from a series of numbers\n",
        "# Input \n",
        "# numbers = (1, 2, 3, 4, 5, 6, 7, 8, 9) # Declaring the tuple\n",
        "# Output\n",
        "# Number of even numbers : 4                                                                                    \n",
        "# Number of odd numbers : 5 "
      ],
      "execution_count": 1,
      "outputs": []
    },
    {
      "cell_type": "code",
      "metadata": {
        "colab": {
          "base_uri": "https://localhost:8080/"
        },
        "id": "wp_vAXiO70pv",
        "outputId": "70c484d1-958e-460d-dd3b-7f3d3a5250e3"
      },
      "source": [
        "numbers = (1, 2, 3, 4, 5, 6, 7, 8, 9)\n",
        "odd_num = even_num = 0\n",
        "for number in numbers:\n",
        "    if number%2==0:\n",
        "        even_num += 1\n",
        "    elif number%2==1:\n",
        "        odd_num += 1\n",
        "    else:\n",
        "        pass\n",
        "\n",
        "print(\"Number of even numbers : \", even_num)\n",
        "print(\"Number of odd numbers : \", odd_num)"
      ],
      "execution_count": 3,
      "outputs": [
        {
          "output_type": "stream",
          "name": "stdout",
          "text": [
            "Number of even numbers :  4\n",
            "Number of odd numbers :  5\n"
          ]
        }
      ]
    }
  ]
}