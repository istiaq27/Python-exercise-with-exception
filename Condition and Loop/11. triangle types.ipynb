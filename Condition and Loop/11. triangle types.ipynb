{
  "nbformat": 4,
  "nbformat_minor": 0,
  "metadata": {
    "kernelspec": {
      "display_name": "Python 3",
      "language": "python",
      "name": "python3"
    },
    "language_info": {
      "codemirror_mode": {
        "name": "ipython",
        "version": 3
      },
      "file_extension": ".py",
      "mimetype": "text/x-python",
      "name": "python",
      "nbconvert_exporter": "python",
      "pygments_lexer": "ipython3",
      "version": "3.6.1"
    },
    "colab": {
      "name": "11. triangle_types.ipynb",
      "provenance": [],
      "collapsed_sections": [],
      "include_colab_link": true
    }
  },
  "cells": [
    {
      "cell_type": "markdown",
      "metadata": {
        "id": "view-in-github",
        "colab_type": "text"
      },
      "source": [
        "<a href=\"https://colab.research.google.com/github/istiaq27/Python-exercise-with-exception/blob/main/Condition%20and%20Loop/11.%20triangle%20types.ipynb\" target=\"_parent\"><img src=\"https://colab.research.google.com/assets/colab-badge.svg\" alt=\"Open In Colab\"/></a>"
      ]
    },
    {
      "cell_type": "code",
      "metadata": {
        "collapsed": true,
        "id": "ccfnv_KxkUt3"
      },
      "source": [
        "# Write a Python program to check a triangle is equilateral, isosceles or scalene.\n",
        "# Note :\n",
        "# An equilateral triangle is a triangle in which all three sides are equal.\n",
        "# A scalene triangle is a triangle that has three unequal sides.\n",
        "# An isosceles triangle is a triangle with (at least) two equal sides."
      ],
      "execution_count": null,
      "outputs": []
    },
    {
      "cell_type": "code",
      "metadata": {
        "colab": {
          "base_uri": "https://localhost:8080/"
        },
        "id": "UqTw-c6TkmGq",
        "outputId": "4296ebbc-739b-4019-b74b-b06c30eb890f"
      },
      "source": [
        "print(\"Input lengths of the triangle sides: \")\n",
        "l1 = int(input(\"length 1: \"))\n",
        "l2 = int(input(\"length 2: \"))\n",
        "l3 = int(input(\"length 3: \"))\n",
        "\n",
        "if l1 == l2 == l3:\n",
        "    print(\"Equilateral triangle\")\n",
        "elif l1 != l2 != l3:\n",
        "\tprint(\"Scalene triangle\")\n",
        "else:\n",
        "\tprint(\"isosceles triangle\") "
      ],
      "execution_count": 3,
      "outputs": [
        {
          "output_type": "stream",
          "name": "stdout",
          "text": [
            "Input lengths of the triangle sides: \n",
            "length 1: 2\n",
            "length 2: 2\n",
            "length 3: 3\n",
            "isosceles triangle\n"
          ]
        }
      ]
    }
  ]
}