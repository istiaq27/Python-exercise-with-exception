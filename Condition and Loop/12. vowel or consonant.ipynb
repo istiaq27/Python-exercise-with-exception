{
  "nbformat": 4,
  "nbformat_minor": 0,
  "metadata": {
    "kernelspec": {
      "display_name": "Python 3",
      "language": "python",
      "name": "python3"
    },
    "language_info": {
      "codemirror_mode": {
        "name": "ipython",
        "version": 3
      },
      "file_extension": ".py",
      "mimetype": "text/x-python",
      "name": "python",
      "nbconvert_exporter": "python",
      "pygments_lexer": "ipython3",
      "version": "3.6.1"
    },
    "colab": {
      "name": "12. vowel_or_consonal.ipynb",
      "provenance": [],
      "collapsed_sections": [],
      "include_colab_link": true
    }
  },
  "cells": [
    {
      "cell_type": "markdown",
      "metadata": {
        "id": "view-in-github",
        "colab_type": "text"
      },
      "source": [
        "<a href=\"https://colab.research.google.com/github/istiaq27/Python-exercise-with-exception/blob/main/Condition%20and%20Loop/12.%20vowel%20or%20consonant.ipynb\" target=\"_parent\"><img src=\"https://colab.research.google.com/assets/colab-badge.svg\" alt=\"Open In Colab\"/></a>"
      ]
    },
    {
      "cell_type": "code",
      "metadata": {
        "collapsed": true,
        "id": "5QO0DuYyn59Q"
      },
      "source": [
        "# Write a Python program to check whether an alphabet is a vowel or consonant"
      ],
      "execution_count": null,
      "outputs": []
    },
    {
      "cell_type": "code",
      "metadata": {
        "colab": {
          "base_uri": "https://localhost:8080/"
        },
        "id": "lv7cURddn9ky",
        "outputId": "b9f54cd9-4402-41e4-af05-0578a8157f9f"
      },
      "source": [
        "l = input(\"Input a letter of the alphabet: \")\n",
        "if l in('a','e','i','o','u','A','E','I','O','U'):\n",
        "    print(f\"{l} is a vowel!\")\n",
        "else:\n",
        "    print(f\"{l} is consonant!\")"
      ],
      "execution_count": 2,
      "outputs": [
        {
          "output_type": "stream",
          "name": "stdout",
          "text": [
            "Input a letter of the alphabet: U\n",
            "U is a vowel!\n"
          ]
        }
      ]
    }
  ]
}