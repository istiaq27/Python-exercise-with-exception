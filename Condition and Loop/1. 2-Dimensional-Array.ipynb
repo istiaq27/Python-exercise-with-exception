{
  "nbformat": 4,
  "nbformat_minor": 0,
  "metadata": {
    "kernelspec": {
      "name": "python3",
      "display_name": "Python 3"
    },
    "colab": {
      "name": "1. 2 Dimensional_Array.ipynb",
      "provenance": [],
      "collapsed_sections": [],
      "include_colab_link": true
    },
    "language_info": {
      "name": "python"
    }
  },
  "cells": [
    {
      "cell_type": "markdown",
      "metadata": {
        "id": "view-in-github",
        "colab_type": "text"
      },
      "source": [
        "<a href=\"https://colab.research.google.com/github/istiaq27/Python-exercise-with-exception/blob/main/Condition%20and%20Loop/1.%202-Dimensional-Array.ipynb\" target=\"_parent\"><img src=\"https://colab.research.google.com/assets/colab-badge.svg\" alt=\"Open In Colab\"/></a>"
      ]
    },
    {
      "cell_type": "markdown",
      "metadata": {
        "id": "Rscfk6fAobx8"
      },
      "source": [
        "Write a Python program which takes two digits m (row) and n (column) as input and generates a two-dimensional array. \n",
        "The element value in the i-th row and j-th column of the array should be i*j.\n",
        "# Note :\n",
        "* i = 0,1.., m-1 \n",
        "* j = 0,1, n-1.\n",
        "\n",
        "# Input\n",
        "* Input number of rows: 3                                                                                       \n",
        "* Input number of columns: 4  \n",
        "\n",
        "# Output\n",
        "* [[0, 0, 0, 0], [0, 1, 2, 3], [0, 2, 4, 6]]"
      ]
    },
    {
      "cell_type": "code",
      "metadata": {
        "collapsed": true,
        "id": "WTeM7S81niqw",
        "colab": {
          "base_uri": "https://localhost:8080/"
        },
        "outputId": "094914ce-8f59-4228-c4af-be0d466d1a9e"
      },
      "source": [
        "row_num = int(input(\"Input number of rows: \"))\n",
        "col_num = int(input(\"Input number of columns: \"))\n",
        "multi_list = [[0 for col in range(col_num)] for row in range(row_num)]\n",
        "\n",
        "for row in range(row_num):\n",
        "    for col in range(col_num):\n",
        "        multi_list[row][col]= row*col\n",
        "\n",
        "print(multi_list)"
      ],
      "execution_count": null,
      "outputs": [
        {
          "output_type": "stream",
          "name": "stdout",
          "text": [
            "Input number of rows: 3\n",
            "Input number of columns: 2\n",
            "[[0, 0], [0, 1], [0, 2]]\n"
          ]
        }
      ]
    }
  ]
}