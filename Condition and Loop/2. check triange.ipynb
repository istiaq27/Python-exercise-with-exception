{
  "nbformat": 4,
  "nbformat_minor": 0,
  "metadata": {
    "kernelspec": {
      "display_name": "Python 2",
      "language": "python",
      "name": "python2"
    },
    "language_info": {
      "codemirror_mode": {
        "name": "ipython",
        "version": 2
      },
      "file_extension": ".py",
      "mimetype": "text/x-python",
      "name": "python",
      "nbconvert_exporter": "python",
      "pygments_lexer": "ipython2",
      "version": "2.7.13"
    },
    "colab": {
      "name": "2. check_triange.ipynb",
      "provenance": [],
      "collapsed_sections": [],
      "include_colab_link": true
    }
  },
  "cells": [
    {
      "cell_type": "markdown",
      "metadata": {
        "id": "view-in-github",
        "colab_type": "text"
      },
      "source": [
        "<a href=\"https://colab.research.google.com/github/istiaq27/Python-exercise-with-exception/blob/main/Condition%20and%20Loop/2.%20check%20triange.ipynb\" target=\"_parent\"><img src=\"https://colab.research.google.com/assets/colab-badge.svg\" alt=\"Open In Colab\"/></a>"
      ]
    },
    {
      "cell_type": "code",
      "metadata": {
        "colab": {
          "base_uri": "https://localhost:8080/"
        },
        "id": "U1A9M80hfJ7y",
        "outputId": "31864e8b-5b55-4483-84fc-b0ffdef87282"
      },
      "source": [
        "\n",
        "# Write a Python program to check a triangle is valid or not\n",
        "\n",
        "def triangle_check(l1,l2,l3):\n",
        "    if (l1>l2+l3) or (l2>l1+l3) or (l3>l1+l2):\n",
        "        print(\"No, the lengths won't form a triangle\")\n",
        "    elif (l1==l2+l3) or (l2==l1+l3) or (l3==l1+l2):\n",
        "        print('yes, it can form a degenerated triangle')\n",
        "    else:\n",
        "        print('Yes, a triangle can be formed out of it')\n",
        "\n",
        "length1 = int(input('enter side 1\\n'))\n",
        "length2 = int(input('enter side 2\\n'))\n",
        "length3 = int(input('enter side 3\\n'))\n",
        "\n",
        "triangle_check(length1,length2,length3)\n"
      ],
      "execution_count": 4,
      "outputs": [
        {
          "output_type": "stream",
          "name": "stdout",
          "text": [
            "enter side 1\n",
            "66\n",
            "enter side 2\n",
            "55\n",
            "enter side 3\n",
            "88\n",
            "Yes, a triangle can be formed out of it\n"
          ]
        }
      ]
    }
  ]
}