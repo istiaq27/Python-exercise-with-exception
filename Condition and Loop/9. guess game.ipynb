{
  "nbformat": 4,
  "nbformat_minor": 0,
  "metadata": {
    "kernelspec": {
      "display_name": "Python 3",
      "language": "python",
      "name": "python3"
    },
    "language_info": {
      "codemirror_mode": {
        "name": "ipython",
        "version": 3
      },
      "file_extension": ".py",
      "mimetype": "text/x-python",
      "name": "python",
      "nbconvert_exporter": "python",
      "pygments_lexer": "ipython3",
      "version": "3.6.1"
    },
    "colab": {
      "name": "9. guess_game.ipynb",
      "provenance": [],
      "include_colab_link": true
    }
  },
  "cells": [
    {
      "cell_type": "markdown",
      "metadata": {
        "id": "view-in-github",
        "colab_type": "text"
      },
      "source": [
        "<a href=\"https://colab.research.google.com/github/istiaq27/Python-exercise-with-exception/blob/main/Condition%20and%20Loop/9.%20guess%20game.ipynb\" target=\"_parent\"><img src=\"https://colab.research.google.com/assets/colab-badge.svg\" alt=\"Open In Colab\"/></a>"
      ]
    },
    {
      "cell_type": "code",
      "metadata": {
        "collapsed": true,
        "id": "jwNO0OJHvznw"
      },
      "source": [
        "# Generate a random number between 1 and 9 (including 1 and 9).\n",
        "# Ask the user to guess the number, then tell them whether they guessed too low, too high, or exactly right. \n"
      ],
      "execution_count": 1,
      "outputs": []
    },
    {
      "cell_type": "code",
      "metadata": {
        "colab": {
          "base_uri": "https://localhost:8080/"
        },
        "id": "YS5AyEImwIUj",
        "outputId": "05fd5970-a270-45ed-8f0f-0a0fc6a48503"
      },
      "source": [
        "import random\n",
        "\n",
        "number = random.randint(1,9)\n",
        "guess = 0\n",
        "count = 0\n",
        "\n",
        "while guess != number and guess != 'exit':\n",
        "    guess = input(\"What's your guess: \")\n",
        "\n",
        "    if guess == 'exit':\n",
        "        break\n",
        "    guess = int(guess)\n",
        "    count += 1\n",
        "\n",
        "    if guess<number:\n",
        "        print(\"Too Low\")\n",
        "    elif guess>number:\n",
        "        print(\"Too High\")\n",
        "    else:\n",
        "        print(f\"Correct guess at {count} attempts\")"
      ],
      "execution_count": 10,
      "outputs": [
        {
          "output_type": "stream",
          "name": "stdout",
          "text": [
            "What's your guess: 9\n",
            "Correct guess at 1 attempts\n"
          ]
        }
      ]
    }
  ]
}