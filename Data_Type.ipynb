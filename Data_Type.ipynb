{
  "nbformat": 4,
  "nbformat_minor": 0,
  "metadata": {
    "colab": {
      "name": "Data_Type.ipynb",
      "provenance": [],
      "collapsed_sections": [
        "S2VR4b8zp6ZI",
        "nXctQwas1orO",
        "CMcEyAfd-yL8",
        "qsr-F3FGC6HW",
        "PvpdhK68DhLT",
        "PkKaTh-3JjtW",
        "75E2samvL0Gw",
        "o7uzCPA8Oyce",
        "4LQjowkOS27I",
        "_N0crlmsUAhJ",
        "fywB1zVHYG1K",
        "Q7DXozHySmw6"
      ],
      "authorship_tag": "ABX9TyPptPPguLFD/Y8yogLDPOTs",
      "include_colab_link": true
    },
    "kernelspec": {
      "name": "python3",
      "display_name": "Python 3"
    }
  },
  "cells": [
    {
      "cell_type": "markdown",
      "metadata": {
        "id": "view-in-github",
        "colab_type": "text"
      },
      "source": [
        "<a href=\"https://colab.research.google.com/github/istiaq27/python-basic-code-example-with-exception/blob/main/Data_Type.ipynb\" target=\"_parent\"><img src=\"https://colab.research.google.com/assets/colab-badge.svg\" alt=\"Open In Colab\"/></a>"
      ]
    },
    {
      "cell_type": "markdown",
      "metadata": {
        "id": "Ikd2RplxofDn"
      },
      "source": [
        "**DATA TYPES**"
      ]
    },
    {
      "cell_type": "markdown",
      "metadata": {
        "id": "MAcKs_gQozLv"
      },
      "source": [
        "Data Type represent the type of data present inside a variable.\r\n",
        "\r\n",
        "Python contains the following inbuilt data types\r\n",
        "\r\n",
        "\r\n",
        "\r\n",
        "*  INT\r\n",
        "*  FLOAT\r\n",
        "*  BOOL\r\n",
        "*  STR\r\n",
        "*  BYTES\r\n",
        "*  BYTEARRAY\r\n",
        "*  COMPLEX\r\n",
        "*  LIST\r\n",
        "*  TUPPLE\r\n",
        "*  SET\r\n",
        "*  FROZENSET\r\n",
        "*  DICT\r\n",
        "*  RANGE\r\n",
        "*  NONE\r\n",
        "\r\n",
        "\r\n",
        "\r\n"
      ]
    },
    {
      "cell_type": "markdown",
      "metadata": {
        "id": "S2VR4b8zp6ZI"
      },
      "source": [
        "# **SOME INBUILT FUNCTION EXAMPLE**"
      ]
    },
    {
      "cell_type": "code",
      "metadata": {
        "id": "3orceHPrqF1g",
        "colab": {
          "base_uri": "https://localhost:8080/"
        },
        "outputId": "109c202f-abee-4bfa-8c45-f27da699c325"
      },
      "source": [
        "type(56)"
      ],
      "execution_count": 31,
      "outputs": [
        {
          "output_type": "execute_result",
          "data": {
            "text/plain": [
              "int"
            ]
          },
          "metadata": {
            "tags": []
          },
          "execution_count": 31
        }
      ]
    },
    {
      "cell_type": "code",
      "metadata": {
        "id": "vLyDDb0poUqM",
        "colab": {
          "base_uri": "https://localhost:8080/"
        },
        "outputId": "5fe46859-99d5-421f-e686-eb76b00a53c4"
      },
      "source": [
        "type(True)"
      ],
      "execution_count": 32,
      "outputs": [
        {
          "output_type": "execute_result",
          "data": {
            "text/plain": [
              "bool"
            ]
          },
          "metadata": {
            "tags": []
          },
          "execution_count": 32
        }
      ]
    },
    {
      "cell_type": "code",
      "metadata": {
        "id": "Gt1QOqcLqiGz",
        "colab": {
          "base_uri": "https://localhost:8080/"
        },
        "outputId": "32adee93-ebad-4ed2-8368-a9cd9c7709a2"
      },
      "source": [
        "type(3+3j)"
      ],
      "execution_count": 33,
      "outputs": [
        {
          "output_type": "execute_result",
          "data": {
            "text/plain": [
              "complex"
            ]
          },
          "metadata": {
            "tags": []
          },
          "execution_count": 33
        }
      ]
    },
    {
      "cell_type": "code",
      "metadata": {
        "id": "_72jyUVoqngx",
        "colab": {
          "base_uri": "https://localhost:8080/"
        },
        "outputId": "347e74a3-1413-421b-c099-7158d7d6b2f8"
      },
      "source": [
        "type([4,5,7])"
      ],
      "execution_count": 34,
      "outputs": [
        {
          "output_type": "execute_result",
          "data": {
            "text/plain": [
              "list"
            ]
          },
          "metadata": {
            "tags": []
          },
          "execution_count": 34
        }
      ]
    },
    {
      "cell_type": "code",
      "metadata": {
        "id": "k3tRSPXSqwBX",
        "colab": {
          "base_uri": "https://localhost:8080/"
        },
        "outputId": "8197f0db-b0fb-41d6-a8aa-3d4c0f2fdc5f"
      },
      "source": [
        "type((4,5,6))"
      ],
      "execution_count": 35,
      "outputs": [
        {
          "output_type": "execute_result",
          "data": {
            "text/plain": [
              "tuple"
            ]
          },
          "metadata": {
            "tags": []
          },
          "execution_count": 35
        }
      ]
    },
    {
      "cell_type": "code",
      "metadata": {
        "id": "pyu_tgFxq3Xc",
        "colab": {
          "base_uri": "https://localhost:8080/"
        },
        "outputId": "4de0e420-997a-497a-b22b-0fddd9891336"
      },
      "source": [
        "type(range(4))"
      ],
      "execution_count": 36,
      "outputs": [
        {
          "output_type": "execute_result",
          "data": {
            "text/plain": [
              "range"
            ]
          },
          "metadata": {
            "tags": []
          },
          "execution_count": 36
        }
      ]
    },
    {
      "cell_type": "code",
      "metadata": {
        "id": "DFiewc-QrGRJ",
        "colab": {
          "base_uri": "https://localhost:8080/"
        },
        "outputId": "c8c5c1d6-60e6-487d-89da-c014241e030e"
      },
      "source": [
        "type(set('khalid'))"
      ],
      "execution_count": 37,
      "outputs": [
        {
          "output_type": "execute_result",
          "data": {
            "text/plain": [
              "set"
            ]
          },
          "metadata": {
            "tags": []
          },
          "execution_count": 37
        }
      ]
    },
    {
      "cell_type": "code",
      "metadata": {
        "id": "zu4ns-EesKht",
        "colab": {
          "base_uri": "https://localhost:8080/"
        },
        "outputId": "1daf6986-5a5b-4a6f-b9e6-2fbea35cc85a"
      },
      "source": [
        "type(set([1,2,'ash',3]))"
      ],
      "execution_count": 38,
      "outputs": [
        {
          "output_type": "execute_result",
          "data": {
            "text/plain": [
              "set"
            ]
          },
          "metadata": {
            "tags": []
          },
          "execution_count": 38
        }
      ]
    },
    {
      "cell_type": "code",
      "metadata": {
        "id": "T0mYba-PsYvZ",
        "colab": {
          "base_uri": "https://localhost:8080/"
        },
        "outputId": "ee28deed-2175-4fe6-a74f-db758e54891d"
      },
      "source": [
        "type({1,3,4})"
      ],
      "execution_count": 39,
      "outputs": [
        {
          "output_type": "execute_result",
          "data": {
            "text/plain": [
              "set"
            ]
          },
          "metadata": {
            "tags": []
          },
          "execution_count": 39
        }
      ]
    },
    {
      "cell_type": "code",
      "metadata": {
        "id": "6pSGyQZDtBP3"
      },
      "source": [
        "set1 = set([\"Geeks\", \"For\", \"Geeks\", \"For\"])"
      ],
      "execution_count": 40,
      "outputs": []
    },
    {
      "cell_type": "code",
      "metadata": {
        "id": "1MvvRq32tGlv",
        "colab": {
          "base_uri": "https://localhost:8080/"
        },
        "outputId": "bcc46ceb-307e-4275-e7a7-c424628099ba"
      },
      "source": [
        "type(set1)"
      ],
      "execution_count": 41,
      "outputs": [
        {
          "output_type": "execute_result",
          "data": {
            "text/plain": [
              "set"
            ]
          },
          "metadata": {
            "tags": []
          },
          "execution_count": 41
        }
      ]
    },
    {
      "cell_type": "code",
      "metadata": {
        "id": "Trn-iuJ-w3xb",
        "colab": {
          "base_uri": "https://localhost:8080/"
        },
        "outputId": "17e4913d-eb2e-4f9e-f9b6-63b25e367e3d"
      },
      "source": [
        "type(b'(1,2,3)')"
      ],
      "execution_count": 42,
      "outputs": [
        {
          "output_type": "execute_result",
          "data": {
            "text/plain": [
              "bytes"
            ]
          },
          "metadata": {
            "tags": []
          },
          "execution_count": 42
        }
      ]
    },
    {
      "cell_type": "code",
      "metadata": {
        "id": "tADce52Dwt79",
        "colab": {
          "base_uri": "https://localhost:8080/"
        },
        "outputId": "d2a4f23c-6a63-4259-e966-90ddfb558522"
      },
      "source": [
        "type(bytes([1,2]))"
      ],
      "execution_count": 43,
      "outputs": [
        {
          "output_type": "execute_result",
          "data": {
            "text/plain": [
              "bytes"
            ]
          },
          "metadata": {
            "tags": []
          },
          "execution_count": 43
        }
      ]
    },
    {
      "cell_type": "code",
      "metadata": {
        "id": "1YxNDxPVwTFa",
        "colab": {
          "base_uri": "https://localhost:8080/"
        },
        "outputId": "de4491b5-6493-440f-bfdd-61d7008ff665"
      },
      "source": [
        "type(bytearray(4))"
      ],
      "execution_count": 44,
      "outputs": [
        {
          "output_type": "execute_result",
          "data": {
            "text/plain": [
              "bytearray"
            ]
          },
          "metadata": {
            "tags": []
          },
          "execution_count": 44
        }
      ]
    },
    {
      "cell_type": "code",
      "metadata": {
        "id": "xei8781pXmsw",
        "colab": {
          "base_uri": "https://localhost:8080/"
        },
        "outputId": "917a59b3-1562-4e02-d500-b2a236e13bf4"
      },
      "source": [
        "type(None)"
      ],
      "execution_count": 45,
      "outputs": [
        {
          "output_type": "execute_result",
          "data": {
            "text/plain": [
              "NoneType"
            ]
          },
          "metadata": {
            "tags": []
          },
          "execution_count": 45
        }
      ]
    },
    {
      "cell_type": "markdown",
      "metadata": {
        "id": "U0c3JAuPzwuG"
      },
      "source": [
        "**id()---**\r\n",
        "**to get address of object**"
      ]
    },
    {
      "cell_type": "code",
      "metadata": {
        "id": "oU5E8U8b0LYE"
      },
      "source": [
        " a = 12\r\n",
        " b =12"
      ],
      "execution_count": 46,
      "outputs": []
    },
    {
      "cell_type": "code",
      "metadata": {
        "id": "aV9KgjOs1DhH",
        "colab": {
          "base_uri": "https://localhost:8080/"
        },
        "outputId": "c38f72d3-4601-475b-8fc8-d6f19fcaa720"
      },
      "source": [
        "id(a)"
      ],
      "execution_count": 47,
      "outputs": [
        {
          "output_type": "execute_result",
          "data": {
            "text/plain": [
              "10914848"
            ]
          },
          "metadata": {
            "tags": []
          },
          "execution_count": 47
        }
      ]
    },
    {
      "cell_type": "code",
      "metadata": {
        "id": "ckPnFMPE1HmW",
        "colab": {
          "base_uri": "https://localhost:8080/"
        },
        "outputId": "6ff9eec8-6768-40f1-8e4d-ee4d4c516788"
      },
      "source": [
        "#same as a\r\n",
        "id(b)"
      ],
      "execution_count": 48,
      "outputs": [
        {
          "output_type": "execute_result",
          "data": {
            "text/plain": [
              "10914848"
            ]
          },
          "metadata": {
            "tags": []
          },
          "execution_count": 48
        }
      ]
    },
    {
      "cell_type": "markdown",
      "metadata": {
        "id": "j7pp7hRu1mpN"
      },
      "source": [
        ""
      ]
    },
    {
      "cell_type": "markdown",
      "metadata": {
        "id": "nXctQwas1orO"
      },
      "source": [
        "# **int data type**"
      ]
    },
    {
      "cell_type": "markdown",
      "metadata": {
        "id": "oyqwL6Tc1xgu"
      },
      "source": [
        "\r\n",
        "\r\n",
        "*   **Decimal** (Base 10 ----- 0 to 9 ----- eg, a = 5)\r\n",
        "*   **Hexa Decimal** (Base 16 ----- 0 to 9, a to f ----- eg, a = 0xeb83, b = 0X8cdf) ----> Literal value should be prefixed with 0x or 0X\r\n",
        "*   **Binary** (Base 2 ----- 0 & 1 ----- eg, a = 0b11, b = 0B11) ----> Literal value should be prefixed with 0b or 0B.\r\n",
        "*   **Octal** (Base 8 ----- 0 to 7 ----- eg, a =0o123, b = 0O345) ----> Literal value should be prefixed with 0o or 0O.\r\n",
        "\r\n",
        "\r\n",
        "** **PVM will always provide values only in decimal form.**\r\n",
        "\r\n"
      ]
    },
    {
      "cell_type": "markdown",
      "metadata": {
        "id": "S7Z2nS_R71FN"
      },
      "source": [
        "**Type Conversion**"
      ]
    },
    {
      "cell_type": "code",
      "metadata": {
        "id": "7A8grEwj4u5e",
        "colab": {
          "base_uri": "https://localhost:8080/"
        },
        "outputId": "a862d862-0d4e-432a-d1c4-a459b738b516"
      },
      "source": [
        "# By default is will print Decimal Value\r\n",
        "0x1234"
      ],
      "execution_count": 49,
      "outputs": [
        {
          "output_type": "execute_result",
          "data": {
            "text/plain": [
              "4660"
            ]
          },
          "metadata": {
            "tags": []
          },
          "execution_count": 49
        }
      ]
    },
    {
      "cell_type": "code",
      "metadata": {
        "id": "pdooOVAq8DV7",
        "colab": {
          "base_uri": "https://localhost:8080/",
          "height": 35
        },
        "outputId": "75891cdc-1ade-4dd5-cd0f-6ef8b250d4a6"
      },
      "source": [
        "bin(7)"
      ],
      "execution_count": 50,
      "outputs": [
        {
          "output_type": "execute_result",
          "data": {
            "application/vnd.google.colaboratory.intrinsic+json": {
              "type": "string"
            },
            "text/plain": [
              "'0b111'"
            ]
          },
          "metadata": {
            "tags": []
          },
          "execution_count": 50
        }
      ]
    },
    {
      "cell_type": "code",
      "metadata": {
        "id": "L7UtDNN_8I9l",
        "colab": {
          "base_uri": "https://localhost:8080/",
          "height": 35
        },
        "outputId": "f0fce6fb-82e5-49c4-ac93-4989cdc022a0"
      },
      "source": [
        "hex(15)"
      ],
      "execution_count": 51,
      "outputs": [
        {
          "output_type": "execute_result",
          "data": {
            "application/vnd.google.colaboratory.intrinsic+json": {
              "type": "string"
            },
            "text/plain": [
              "'0xf'"
            ]
          },
          "metadata": {
            "tags": []
          },
          "execution_count": 51
        }
      ]
    },
    {
      "cell_type": "code",
      "metadata": {
        "id": "X_ey64Cr8M03",
        "colab": {
          "base_uri": "https://localhost:8080/",
          "height": 35
        },
        "outputId": "9fad8f02-774e-40c0-a853-b4b15a6dd48f"
      },
      "source": [
        "oct(8)"
      ],
      "execution_count": 52,
      "outputs": [
        {
          "output_type": "execute_result",
          "data": {
            "application/vnd.google.colaboratory.intrinsic+json": {
              "type": "string"
            },
            "text/plain": [
              "'0o10'"
            ]
          },
          "metadata": {
            "tags": []
          },
          "execution_count": 52
        }
      ]
    },
    {
      "cell_type": "code",
      "metadata": {
        "id": "mViViM5L892w"
      },
      "source": [
        "#both a & b holds same value but different id\r\n",
        "a = 2e3\r\n",
        "b = 2000.0"
      ],
      "execution_count": 53,
      "outputs": []
    },
    {
      "cell_type": "code",
      "metadata": {
        "id": "8r5CZv_8-EZO",
        "colab": {
          "base_uri": "https://localhost:8080/"
        },
        "outputId": "94a61011-9257-4982-f887-fe55486c1da7"
      },
      "source": [
        "a"
      ],
      "execution_count": 54,
      "outputs": [
        {
          "output_type": "execute_result",
          "data": {
            "text/plain": [
              "2000.0"
            ]
          },
          "metadata": {
            "tags": []
          },
          "execution_count": 54
        }
      ]
    },
    {
      "cell_type": "markdown",
      "metadata": {
        "id": "CMcEyAfd-yL8"
      },
      "source": [
        "# **Complex data type**"
      ]
    },
    {
      "cell_type": "markdown",
      "metadata": {
        "id": "MbknE_VwALhn"
      },
      "source": [
        "* In the real part if we use int value then we can specify that either by decimal,octal,binary\r\n",
        "or hexa decimal form.\r\n",
        "* But imaginary part should be specified only by using decimal form."
      ]
    },
    {
      "cell_type": "code",
      "metadata": {
        "id": "gs0BeT9i-z8P"
      },
      "source": [
        "# Both real and imaginary part are decimal\r\n",
        "c = 4+3j"
      ],
      "execution_count": 55,
      "outputs": []
    },
    {
      "cell_type": "code",
      "metadata": {
        "id": "DuGupLwk-9th",
        "colab": {
          "base_uri": "https://localhost:8080/"
        },
        "outputId": "23b84b42-3a47-4c8a-b0de-a842093b3042"
      },
      "source": [
        "c"
      ],
      "execution_count": 56,
      "outputs": [
        {
          "output_type": "execute_result",
          "data": {
            "text/plain": [
              "(4+3j)"
            ]
          },
          "metadata": {
            "tags": []
          },
          "execution_count": 56
        }
      ]
    },
    {
      "cell_type": "markdown",
      "metadata": {
        "id": "3r9U8ww5EVn3"
      },
      "source": [
        "* **real and imag are used to retrieve the real and imaginary part**\r\n",
        "* **We can use complex type generally in scientific Applications and electrical engineering\r\n",
        "Applications.**"
      ]
    },
    {
      "cell_type": "code",
      "metadata": {
        "id": "Dqo5ecyODwfW",
        "colab": {
          "base_uri": "https://localhost:8080/"
        },
        "outputId": "28c0fb77-5e91-4500-9468-8c5259a447f2"
      },
      "source": [
        "c.real"
      ],
      "execution_count": 57,
      "outputs": [
        {
          "output_type": "execute_result",
          "data": {
            "text/plain": [
              "4.0"
            ]
          },
          "metadata": {
            "tags": []
          },
          "execution_count": 57
        }
      ]
    },
    {
      "cell_type": "code",
      "metadata": {
        "id": "lYn9WZs1ESPu",
        "colab": {
          "base_uri": "https://localhost:8080/"
        },
        "outputId": "b31d2326-ff7d-4e39-ca79-15a5fde9b67a"
      },
      "source": [
        "c.imag"
      ],
      "execution_count": 58,
      "outputs": [
        {
          "output_type": "execute_result",
          "data": {
            "text/plain": [
              "3.0"
            ]
          },
          "metadata": {
            "tags": []
          },
          "execution_count": 58
        }
      ]
    },
    {
      "cell_type": "code",
      "metadata": {
        "id": "y1juslFj_Al2"
      },
      "source": [
        "# real part binary\r\n",
        "# imaginary part decimal\r\n",
        "a = 0b100+3j"
      ],
      "execution_count": 59,
      "outputs": []
    },
    {
      "cell_type": "code",
      "metadata": {
        "id": "O7KDJXQ7_aW0",
        "colab": {
          "base_uri": "https://localhost:8080/"
        },
        "outputId": "65a9a6df-42e2-4d40-fe9f-bb9be27dbfa0"
      },
      "source": [
        "a"
      ],
      "execution_count": 60,
      "outputs": [
        {
          "output_type": "execute_result",
          "data": {
            "text/plain": [
              "(4+3j)"
            ]
          },
          "metadata": {
            "tags": []
          },
          "execution_count": 60
        }
      ]
    },
    {
      "cell_type": "code",
      "metadata": {
        "id": "dPd__1A7AdT1",
        "colab": {
          "base_uri": "https://localhost:8080/"
        },
        "outputId": "0cebaf75-8863-463e-ce4b-13ef7ad5b19b"
      },
      "source": [
        "type(a)"
      ],
      "execution_count": 61,
      "outputs": [
        {
          "output_type": "execute_result",
          "data": {
            "text/plain": [
              "complex"
            ]
          },
          "metadata": {
            "tags": []
          },
          "execution_count": 61
        }
      ]
    },
    {
      "cell_type": "code",
      "metadata": {
        "id": "5wbk4ibO_ioQ",
        "colab": {
          "base_uri": "https://localhost:8080/",
          "height": 129
        },
        "outputId": "8320ce41-969e-4354-81ad-f3b802a7246d"
      },
      "source": [
        "# real part decimal\r\n",
        "# imaginary part except decimal\r\n",
        "a = 4+ 0b111j"
      ],
      "execution_count": 62,
      "outputs": [
        {
          "output_type": "error",
          "ename": "SyntaxError",
          "evalue": "ignored",
          "traceback": [
            "\u001b[0;36m  File \u001b[0;32m\"<ipython-input-62-5b8baf7434ee>\"\u001b[0;36m, line \u001b[0;32m3\u001b[0m\n\u001b[0;31m    a = 4+ 0b111j\u001b[0m\n\u001b[0m                ^\u001b[0m\n\u001b[0;31mSyntaxError\u001b[0m\u001b[0;31m:\u001b[0m invalid syntax\n"
          ]
        }
      ]
    },
    {
      "cell_type": "markdown",
      "metadata": {
        "id": "qsr-F3FGC6HW"
      },
      "source": [
        "# **bool data type:**"
      ]
    },
    {
      "cell_type": "code",
      "metadata": {
        "id": "wsUrshPrDrRT"
      },
      "source": [
        "a = True"
      ],
      "execution_count": 63,
      "outputs": []
    },
    {
      "cell_type": "code",
      "metadata": {
        "id": "T9X-Jb-ODIAP",
        "colab": {
          "base_uri": "https://localhost:8080/"
        },
        "outputId": "d3564167-dce4-4ac1-89c9-962c3cffeda8"
      },
      "source": [
        "type(a)"
      ],
      "execution_count": 64,
      "outputs": [
        {
          "output_type": "execute_result",
          "data": {
            "text/plain": [
              "bool"
            ]
          },
          "metadata": {
            "tags": []
          },
          "execution_count": 64
        }
      ]
    },
    {
      "cell_type": "code",
      "metadata": {
        "id": "HlKAS0SaDMQ8",
        "colab": {
          "base_uri": "https://localhost:8080/"
        },
        "outputId": "e83b8b91-dd0c-4099-9263-c54f7aea6f69"
      },
      "source": [
        "True + True"
      ],
      "execution_count": 65,
      "outputs": [
        {
          "output_type": "execute_result",
          "data": {
            "text/plain": [
              "2"
            ]
          },
          "metadata": {
            "tags": []
          },
          "execution_count": 65
        }
      ]
    },
    {
      "cell_type": "code",
      "metadata": {
        "id": "MHKrjc0cDSiQ",
        "colab": {
          "base_uri": "https://localhost:8080/"
        },
        "outputId": "096d0290-6499-4468-84e4-adf8405bf855"
      },
      "source": [
        "False - True"
      ],
      "execution_count": 66,
      "outputs": [
        {
          "output_type": "execute_result",
          "data": {
            "text/plain": [
              "-1"
            ]
          },
          "metadata": {
            "tags": []
          },
          "execution_count": 66
        }
      ]
    },
    {
      "cell_type": "markdown",
      "metadata": {
        "id": "PvpdhK68DhLT"
      },
      "source": [
        "# **str data type**"
      ]
    },
    {
      "cell_type": "code",
      "metadata": {
        "id": "S-SOAg7lDfET"
      },
      "source": [
        "str1 = 'ash'"
      ],
      "execution_count": 67,
      "outputs": []
    },
    {
      "cell_type": "code",
      "metadata": {
        "id": "b0T_H8C-DoTt",
        "colab": {
          "base_uri": "https://localhost:8080/"
        },
        "outputId": "cc92adf0-2ae7-48e7-de31-6352fc4c0423"
      },
      "source": [
        "type(str1)"
      ],
      "execution_count": 68,
      "outputs": [
        {
          "output_type": "execute_result",
          "data": {
            "text/plain": [
              "str"
            ]
          },
          "metadata": {
            "tags": []
          },
          "execution_count": 68
        }
      ]
    },
    {
      "cell_type": "code",
      "metadata": {
        "id": "LnIRmMy9DrA5"
      },
      "source": [
        "str2 = '''hello \r\n",
        "python\r\n",
        "what's \r\n",
        "up'''"
      ],
      "execution_count": 69,
      "outputs": []
    },
    {
      "cell_type": "code",
      "metadata": {
        "id": "1MkAZlpWD_5Z",
        "colab": {
          "base_uri": "https://localhost:8080/"
        },
        "outputId": "9a936021-b0a6-4a06-f959-25b1fdac999b"
      },
      "source": [
        "type(str2)"
      ],
      "execution_count": 70,
      "outputs": [
        {
          "output_type": "execute_result",
          "data": {
            "text/plain": [
              "str"
            ]
          },
          "metadata": {
            "tags": []
          },
          "execution_count": 70
        }
      ]
    },
    {
      "cell_type": "code",
      "metadata": {
        "id": "f6eXLx7tEKNp"
      },
      "source": [
        "str3 = 'a'"
      ],
      "execution_count": 71,
      "outputs": []
    },
    {
      "cell_type": "code",
      "metadata": {
        "id": "XPAkhk4iEMQh",
        "colab": {
          "base_uri": "https://localhost:8080/"
        },
        "outputId": "59247fe2-aacc-4882-a10f-76dfa154b2fb"
      },
      "source": [
        "type(str3)"
      ],
      "execution_count": 72,
      "outputs": [
        {
          "output_type": "execute_result",
          "data": {
            "text/plain": [
              "str"
            ]
          },
          "metadata": {
            "tags": []
          },
          "execution_count": 72
        }
      ]
    },
    {
      "cell_type": "markdown",
      "metadata": {
        "id": "PkKaTh-3JjtW"
      },
      "source": [
        "# **bytes data type**"
      ]
    },
    {
      "cell_type": "markdown",
      "metadata": {
        "id": "cAZxnfaPJmS2"
      },
      "source": [
        "* bytes data type represens a group of byte numbers just like an array.\r\n",
        "* The only allowed values for byte data type are 0 to 256. \r\n",
        "* By mistake if we are trying to provide any other values then we will get value error.\r\n",
        "* In general we can use bytes and bytearray data types to represent binary information\r\n",
        "like images,video files etc"
      ]
    },
    {
      "cell_type": "code",
      "metadata": {
        "id": "0PMKTlxTKE0F"
      },
      "source": [
        "list1 = [1,2,3,4]"
      ],
      "execution_count": 73,
      "outputs": []
    },
    {
      "cell_type": "code",
      "metadata": {
        "id": "g7Pw8_f9KQjO"
      },
      "source": [
        "byte1 = bytes(list1)"
      ],
      "execution_count": 74,
      "outputs": []
    },
    {
      "cell_type": "code",
      "metadata": {
        "id": "1LHUnxXkKaSI",
        "colab": {
          "base_uri": "https://localhost:8080/"
        },
        "outputId": "d0ae7c4d-befd-4914-d9e7-770ddee9e43c"
      },
      "source": [
        "type(byte1)"
      ],
      "execution_count": 75,
      "outputs": [
        {
          "output_type": "execute_result",
          "data": {
            "text/plain": [
              "bytes"
            ]
          },
          "metadata": {
            "tags": []
          },
          "execution_count": 75
        }
      ]
    },
    {
      "cell_type": "code",
      "metadata": {
        "id": "XsgaOhgxKd5m",
        "colab": {
          "base_uri": "https://localhost:8080/"
        },
        "outputId": "5a8e9ce2-50cd-4da2-f34d-875deeed2db3"
      },
      "source": [
        "byte1[0]"
      ],
      "execution_count": 76,
      "outputs": [
        {
          "output_type": "execute_result",
          "data": {
            "text/plain": [
              "1"
            ]
          },
          "metadata": {
            "tags": []
          },
          "execution_count": 76
        }
      ]
    },
    {
      "cell_type": "code",
      "metadata": {
        "id": "bqpfROACKiA2",
        "colab": {
          "base_uri": "https://localhost:8080/"
        },
        "outputId": "165abe82-4fe1-4ed4-9780-6d63570700e8"
      },
      "source": [
        "byte1[:]"
      ],
      "execution_count": 77,
      "outputs": [
        {
          "output_type": "execute_result",
          "data": {
            "text/plain": [
              "b'\\x01\\x02\\x03\\x04'"
            ]
          },
          "metadata": {
            "tags": []
          },
          "execution_count": 77
        }
      ]
    },
    {
      "cell_type": "code",
      "metadata": {
        "id": "4g_VXvECLEk9",
        "colab": {
          "base_uri": "https://localhost:8080/"
        },
        "outputId": "f1c8af6b-68a7-4120-db3d-b03ca59000cc"
      },
      "source": [
        "for b in byte1:\r\n",
        "  print(b)"
      ],
      "execution_count": 78,
      "outputs": [
        {
          "output_type": "stream",
          "text": [
            "1\n",
            "2\n",
            "3\n",
            "4\n"
          ],
          "name": "stdout"
        }
      ]
    },
    {
      "cell_type": "markdown",
      "metadata": {
        "id": "XkQi6bi8Lh1e"
      },
      "source": [
        "Once we creates bytes data type value, we cannot change its values,otherwise we will get\r\n",
        "TypeError."
      ]
    },
    {
      "cell_type": "code",
      "metadata": {
        "id": "KDYNKdHBLjxG",
        "colab": {
          "base_uri": "https://localhost:8080/",
          "height": 180
        },
        "outputId": "3b0e5037-dca5-48cc-991c-935097af7d4e"
      },
      "source": [
        "#'bytes' object does not support item assignment\r\n",
        "byte1[0] =111"
      ],
      "execution_count": 79,
      "outputs": [
        {
          "output_type": "error",
          "ename": "TypeError",
          "evalue": "ignored",
          "traceback": [
            "\u001b[0;31m---------------------------------------------------------------------------\u001b[0m",
            "\u001b[0;31mTypeError\u001b[0m                                 Traceback (most recent call last)",
            "\u001b[0;32m<ipython-input-79-80f1059e6e3d>\u001b[0m in \u001b[0;36m<module>\u001b[0;34m()\u001b[0m\n\u001b[1;32m      1\u001b[0m \u001b[0;31m#'bytes' object does not support item assignment\u001b[0m\u001b[0;34m\u001b[0m\u001b[0;34m\u001b[0m\u001b[0;34m\u001b[0m\u001b[0m\n\u001b[0;32m----> 2\u001b[0;31m \u001b[0mbyte1\u001b[0m\u001b[0;34m[\u001b[0m\u001b[0;36m0\u001b[0m\u001b[0;34m]\u001b[0m \u001b[0;34m=\u001b[0m\u001b[0;36m111\u001b[0m\u001b[0;34m\u001b[0m\u001b[0;34m\u001b[0m\u001b[0m\n\u001b[0m",
            "\u001b[0;31mTypeError\u001b[0m: 'bytes' object does not support item assignment"
          ]
        }
      ]
    },
    {
      "cell_type": "markdown",
      "metadata": {
        "id": "h0ibQQHyMWoG"
      },
      "source": [
        "The only allowed values for byte data type are 0 to 256."
      ]
    },
    {
      "cell_type": "code",
      "metadata": {
        "id": "tFEYOS53MQ31"
      },
      "source": [
        "#bytes must be in range(0, 256)\r\n",
        "byte2 = bytes([1,2,3,260])"
      ],
      "execution_count": null,
      "outputs": []
    },
    {
      "cell_type": "markdown",
      "metadata": {
        "id": "75E2samvL0Gw"
      },
      "source": [
        "# **bytearray data type**"
      ]
    },
    {
      "cell_type": "markdown",
      "metadata": {
        "id": "kbQ7vtrfL2Gj"
      },
      "source": [
        "* bytearray is exactly same as bytes data type except that its elements can be modified.\r\n",
        "* In general we can use bytes and bytearray data types to represent binary information\r\n",
        "like images,video files etc"
      ]
    },
    {
      "cell_type": "code",
      "metadata": {
        "id": "KJ9aMXbjL4c7"
      },
      "source": [
        "bytearray1 = bytearray([1,2,3,4])"
      ],
      "execution_count": 80,
      "outputs": []
    },
    {
      "cell_type": "code",
      "metadata": {
        "id": "BCpO2h_rNjFm",
        "colab": {
          "base_uri": "https://localhost:8080/"
        },
        "outputId": "b58642ba-f5d9-4a4f-bc87-be06564b8301"
      },
      "source": [
        "type(bytearray1)"
      ],
      "execution_count": 81,
      "outputs": [
        {
          "output_type": "execute_result",
          "data": {
            "text/plain": [
              "bytearray"
            ]
          },
          "metadata": {
            "tags": []
          },
          "execution_count": 81
        }
      ]
    },
    {
      "cell_type": "code",
      "metadata": {
        "id": "sM1P3seUNl8m",
        "colab": {
          "base_uri": "https://localhost:8080/"
        },
        "outputId": "745fa7d5-73ce-418f-9352-1e45e8294190"
      },
      "source": [
        "bytearray1[:]"
      ],
      "execution_count": 82,
      "outputs": [
        {
          "output_type": "execute_result",
          "data": {
            "text/plain": [
              "bytearray(b'\\x01\\x02\\x03\\x04')"
            ]
          },
          "metadata": {
            "tags": []
          },
          "execution_count": 82
        }
      ]
    },
    {
      "cell_type": "code",
      "metadata": {
        "id": "NoCBO6l7NrUe",
        "colab": {
          "base_uri": "https://localhost:8080/"
        },
        "outputId": "0ee76b0c-470e-45b7-8813-1a82be335227"
      },
      "source": [
        "bytearray1[2]"
      ],
      "execution_count": 83,
      "outputs": [
        {
          "output_type": "execute_result",
          "data": {
            "text/plain": [
              "3"
            ]
          },
          "metadata": {
            "tags": []
          },
          "execution_count": 83
        }
      ]
    },
    {
      "cell_type": "code",
      "metadata": {
        "id": "x4okhmNcNtz2"
      },
      "source": [
        "# its elements can be modified\r\n",
        "bytearray1[0] = 111"
      ],
      "execution_count": 84,
      "outputs": []
    },
    {
      "cell_type": "code",
      "metadata": {
        "id": "zqjOJ4zGN1F_",
        "colab": {
          "base_uri": "https://localhost:8080/"
        },
        "outputId": "9cb93081-e99c-4853-9b45-fa0e547bc1b8"
      },
      "source": [
        "for ba in bytearray1:\r\n",
        "  print(ba)"
      ],
      "execution_count": 85,
      "outputs": [
        {
          "output_type": "stream",
          "text": [
            "111\n",
            "2\n",
            "3\n",
            "4\n"
          ],
          "name": "stdout"
        }
      ]
    },
    {
      "cell_type": "code",
      "metadata": {
        "id": "HHZcUoKWOBuq",
        "colab": {
          "base_uri": "https://localhost:8080/",
          "height": 180
        },
        "outputId": "bc4bc7a9-ea04-471a-b05e-1b1773eb917d"
      },
      "source": [
        "#bytearray must be in range(0, 256) like bytes data type\r\n",
        "bytearray2 = bytearray([1,2,257])"
      ],
      "execution_count": 86,
      "outputs": [
        {
          "output_type": "error",
          "ename": "ValueError",
          "evalue": "ignored",
          "traceback": [
            "\u001b[0;31m---------------------------------------------------------------------------\u001b[0m",
            "\u001b[0;31mValueError\u001b[0m                                Traceback (most recent call last)",
            "\u001b[0;32m<ipython-input-86-e8c574f3bac4>\u001b[0m in \u001b[0;36m<module>\u001b[0;34m()\u001b[0m\n\u001b[1;32m      1\u001b[0m \u001b[0;31m#bytearray must be in range(0, 256) like bytes data type\u001b[0m\u001b[0;34m\u001b[0m\u001b[0;34m\u001b[0m\u001b[0;34m\u001b[0m\u001b[0m\n\u001b[0;32m----> 2\u001b[0;31m \u001b[0mbytearray2\u001b[0m \u001b[0;34m=\u001b[0m \u001b[0mbytearray\u001b[0m\u001b[0;34m(\u001b[0m\u001b[0;34m[\u001b[0m\u001b[0;36m1\u001b[0m\u001b[0;34m,\u001b[0m\u001b[0;36m2\u001b[0m\u001b[0;34m,\u001b[0m\u001b[0;36m257\u001b[0m\u001b[0;34m]\u001b[0m\u001b[0;34m)\u001b[0m\u001b[0;34m\u001b[0m\u001b[0;34m\u001b[0m\u001b[0m\n\u001b[0m",
            "\u001b[0;31mValueError\u001b[0m: byte must be in range(0, 256)"
          ]
        }
      ]
    },
    {
      "cell_type": "markdown",
      "metadata": {
        "id": "o7uzCPA8Oyce"
      },
      "source": [
        "# **list data type**"
      ]
    },
    {
      "cell_type": "markdown",
      "metadata": {
        "id": "usXUOXlcOujV"
      },
      "source": [
        "List is a collection data type. It allows multiple values to be stored within the same field. In Table Design, you must configure the List data type with all the values that the field stores."
      ]
    },
    {
      "cell_type": "markdown",
      "metadata": {
        "id": "jTIx7ZK_O-Xp"
      },
      "source": [
        "1. insertion order is preserved\r\n",
        "2. heterogeneous objects are allowed\r\n",
        "3. duplicates are allowed\r\n",
        "4. Growable in nature\r\n",
        "5. values should be enclosed within square brackets."
      ]
    },
    {
      "cell_type": "code",
      "metadata": {
        "id": "W3TVZ21gPMt2"
      },
      "source": [
        "#heterogeneous objects are allowed\r\n",
        "l = [1,1.3, 'ash',  True]"
      ],
      "execution_count": 101,
      "outputs": []
    },
    {
      "cell_type": "code",
      "metadata": {
        "id": "uoiAL37aPWow",
        "colab": {
          "base_uri": "https://localhost:8080/"
        },
        "outputId": "eef1e492-4c71-4327-ef4b-4ce6f9848ada"
      },
      "source": [
        "type(l)"
      ],
      "execution_count": 102,
      "outputs": [
        {
          "output_type": "execute_result",
          "data": {
            "text/plain": [
              "list"
            ]
          },
          "metadata": {
            "tags": []
          },
          "execution_count": 102
        }
      ]
    },
    {
      "cell_type": "code",
      "metadata": {
        "id": "volGqwFTPYXL",
        "colab": {
          "base_uri": "https://localhost:8080/"
        },
        "outputId": "b8c46baf-d4b1-4159-ffda-f4ccbdca9e60"
      },
      "source": [
        "l[3]"
      ],
      "execution_count": 103,
      "outputs": [
        {
          "output_type": "execute_result",
          "data": {
            "text/plain": [
              "True"
            ]
          },
          "metadata": {
            "tags": []
          },
          "execution_count": 103
        }
      ]
    },
    {
      "cell_type": "code",
      "metadata": {
        "id": "sojpF1CdPb8A",
        "colab": {
          "base_uri": "https://localhost:8080/"
        },
        "outputId": "63830946-feff-4e0c-e28b-72c934bff741"
      },
      "source": [
        "for li in l:\r\n",
        "  print(li)"
      ],
      "execution_count": 104,
      "outputs": [
        {
          "output_type": "stream",
          "text": [
            "1\n",
            "1.3\n",
            "ash\n",
            "True\n"
          ],
          "name": "stdout"
        }
      ]
    },
    {
      "cell_type": "code",
      "metadata": {
        "id": "pHodxnlIP1Kv"
      },
      "source": [
        "l[0::3] = [444, 'hash']"
      ],
      "execution_count": 105,
      "outputs": []
    },
    {
      "cell_type": "code",
      "metadata": {
        "id": "XnMwjB-WP-AP",
        "colab": {
          "base_uri": "https://localhost:8080/"
        },
        "outputId": "6d04ce96-93c1-4887-a48a-744408953fa9"
      },
      "source": [
        "for li in l:\r\n",
        "  print(li)"
      ],
      "execution_count": 106,
      "outputs": [
        {
          "output_type": "stream",
          "text": [
            "444\n",
            "1.3\n",
            "ash\n",
            "hash\n"
          ],
          "name": "stdout"
        }
      ]
    },
    {
      "cell_type": "code",
      "metadata": {
        "id": "QtSnStoMRNO3"
      },
      "source": [
        "#change value using zip\r\n",
        "target = [333,555]\r\n",
        "pos = [1,2]\r\n",
        "for x,y in zip(pos, target):\r\n",
        "  l[x] = y"
      ],
      "execution_count": 107,
      "outputs": []
    },
    {
      "cell_type": "code",
      "metadata": {
        "id": "Z6sme8_rRsmn",
        "colab": {
          "base_uri": "https://localhost:8080/"
        },
        "outputId": "69175433-363c-4eed-bf3d-7bb27789ec5c"
      },
      "source": [
        "l"
      ],
      "execution_count": 108,
      "outputs": [
        {
          "output_type": "execute_result",
          "data": {
            "text/plain": [
              "[444, 333, 555, 'hash']"
            ]
          },
          "metadata": {
            "tags": []
          },
          "execution_count": 108
        }
      ]
    },
    {
      "cell_type": "markdown",
      "metadata": {
        "id": "2f8KuX7CSRf6"
      },
      "source": [
        "append"
      ]
    },
    {
      "cell_type": "code",
      "metadata": {
        "id": "uGPPT4GNR931"
      },
      "source": [
        "l.append('mash')"
      ],
      "execution_count": 109,
      "outputs": []
    },
    {
      "cell_type": "code",
      "metadata": {
        "colab": {
          "base_uri": "https://localhost:8080/"
        },
        "id": "Rq0zHXUNSD-v",
        "outputId": "d5dcddc9-cbc4-4c69-fe7a-0da854445300"
      },
      "source": [
        "l"
      ],
      "execution_count": 110,
      "outputs": [
        {
          "output_type": "execute_result",
          "data": {
            "text/plain": [
              "[444, 333, 555, 'hash', 'mash']"
            ]
          },
          "metadata": {
            "tags": []
          },
          "execution_count": 110
        }
      ]
    },
    {
      "cell_type": "markdown",
      "metadata": {
        "id": "0qY2P9DFSTja"
      },
      "source": [
        "remove"
      ]
    },
    {
      "cell_type": "code",
      "metadata": {
        "id": "LZjwviALSIEI"
      },
      "source": [
        "l.remove(333)"
      ],
      "execution_count": 111,
      "outputs": []
    },
    {
      "cell_type": "code",
      "metadata": {
        "id": "UTrHTUQDSN7m",
        "colab": {
          "base_uri": "https://localhost:8080/"
        },
        "outputId": "15c523f3-f1b9-4a66-a45d-7878cb655d0b"
      },
      "source": [
        "l"
      ],
      "execution_count": 112,
      "outputs": [
        {
          "output_type": "execute_result",
          "data": {
            "text/plain": [
              "[444, 555, 'hash', 'mash']"
            ]
          },
          "metadata": {
            "tags": []
          },
          "execution_count": 112
        }
      ]
    },
    {
      "cell_type": "markdown",
      "metadata": {
        "id": "dGhwhdltShJp"
      },
      "source": [
        "Multiplication"
      ]
    },
    {
      "cell_type": "code",
      "metadata": {
        "id": "pDQfvMiMSbNP"
      },
      "source": [
        "l2 = l*3"
      ],
      "execution_count": 113,
      "outputs": []
    },
    {
      "cell_type": "code",
      "metadata": {
        "id": "jEfr2BkLSbLW",
        "colab": {
          "base_uri": "https://localhost:8080/"
        },
        "outputId": "d37c7d99-a876-46db-cfae-ac67cd998709"
      },
      "source": [
        "l2"
      ],
      "execution_count": 114,
      "outputs": [
        {
          "output_type": "execute_result",
          "data": {
            "text/plain": [
              "[444, 555, 'hash', 'mash', 444, 555, 'hash', 'mash', 444, 555, 'hash', 'mash']"
            ]
          },
          "metadata": {
            "tags": []
          },
          "execution_count": 114
        }
      ]
    },
    {
      "cell_type": "markdown",
      "metadata": {
        "id": "4LQjowkOS27I"
      },
      "source": [
        "# **tuple data type**"
      ]
    },
    {
      "cell_type": "markdown",
      "metadata": {
        "id": "jttVQgR9S4yJ"
      },
      "source": [
        "* Tuple data type is exactly same as list data type except that it is immutable.i.e we cannot chage values.\r\n",
        "* Tuple elements can be represented within parenthesis."
      ]
    },
    {
      "cell_type": "code",
      "metadata": {
        "id": "LQnLDFdPTEmw"
      },
      "source": [
        "t1 = (1,2,3,4)"
      ],
      "execution_count": 115,
      "outputs": []
    },
    {
      "cell_type": "code",
      "metadata": {
        "id": "H7DfhQToTQL8",
        "colab": {
          "base_uri": "https://localhost:8080/"
        },
        "outputId": "cfacd971-3536-4a04-b2e1-949e1e5e8910"
      },
      "source": [
        "type(t1)"
      ],
      "execution_count": 116,
      "outputs": [
        {
          "output_type": "execute_result",
          "data": {
            "text/plain": [
              "tuple"
            ]
          },
          "metadata": {
            "tags": []
          },
          "execution_count": 116
        }
      ]
    },
    {
      "cell_type": "code",
      "metadata": {
        "id": "d_eaDj91TSQT",
        "colab": {
          "base_uri": "https://localhost:8080/"
        },
        "outputId": "0883e704-94dd-4d34-934e-0299f9efc23e"
      },
      "source": [
        "for t in t1:\r\n",
        "  print(t)"
      ],
      "execution_count": 117,
      "outputs": [
        {
          "output_type": "stream",
          "text": [
            "1\n",
            "2\n",
            "3\n",
            "4\n"
          ],
          "name": "stdout"
        }
      ]
    },
    {
      "cell_type": "code",
      "metadata": {
        "id": "ycSgv1-6TvOl"
      },
      "source": [
        "t2 = t1*2"
      ],
      "execution_count": 118,
      "outputs": []
    },
    {
      "cell_type": "code",
      "metadata": {
        "id": "rJNaGgAZTyj-",
        "colab": {
          "base_uri": "https://localhost:8080/"
        },
        "outputId": "5edb83b3-f335-4d84-947e-5ea23f4a96d5"
      },
      "source": [
        "t2"
      ],
      "execution_count": 119,
      "outputs": [
        {
          "output_type": "execute_result",
          "data": {
            "text/plain": [
              "(1, 2, 3, 4, 1, 2, 3, 4)"
            ]
          },
          "metadata": {
            "tags": []
          },
          "execution_count": 119
        }
      ]
    },
    {
      "cell_type": "code",
      "metadata": {
        "id": "xeZORbqqTYCf",
        "colab": {
          "base_uri": "https://localhost:8080/",
          "height": 180
        },
        "outputId": "5b8a93fa-4b8c-4912-ed28-396c62b2e418"
      },
      "source": [
        "#'tuple' object does not support item assignment\r\n",
        "t1[0] = 666"
      ],
      "execution_count": 120,
      "outputs": [
        {
          "output_type": "error",
          "ename": "TypeError",
          "evalue": "ignored",
          "traceback": [
            "\u001b[0;31m---------------------------------------------------------------------------\u001b[0m",
            "\u001b[0;31mTypeError\u001b[0m                                 Traceback (most recent call last)",
            "\u001b[0;32m<ipython-input-120-e570f6e9f33d>\u001b[0m in \u001b[0;36m<module>\u001b[0;34m()\u001b[0m\n\u001b[1;32m      1\u001b[0m \u001b[0;31m#'tuple' object does not support item assignment\u001b[0m\u001b[0;34m\u001b[0m\u001b[0;34m\u001b[0m\u001b[0;34m\u001b[0m\u001b[0m\n\u001b[0;32m----> 2\u001b[0;31m \u001b[0mt1\u001b[0m\u001b[0;34m[\u001b[0m\u001b[0;36m0\u001b[0m\u001b[0;34m]\u001b[0m \u001b[0;34m=\u001b[0m \u001b[0;36m666\u001b[0m\u001b[0;34m\u001b[0m\u001b[0;34m\u001b[0m\u001b[0m\n\u001b[0m",
            "\u001b[0;31mTypeError\u001b[0m: 'tuple' object does not support item assignment"
          ]
        }
      ]
    },
    {
      "cell_type": "code",
      "metadata": {
        "id": "jFPT-tAfTg0Z"
      },
      "source": [
        "#'tuple' object has no attribute 'append'\r\n",
        "t1.append('assss')"
      ],
      "execution_count": null,
      "outputs": []
    },
    {
      "cell_type": "code",
      "metadata": {
        "id": "u9SXImNkTnbh"
      },
      "source": [
        "#'tuple' object has no attribute 'remove\r\n",
        "t1.remove(3)"
      ],
      "execution_count": null,
      "outputs": []
    },
    {
      "cell_type": "markdown",
      "metadata": {
        "id": "_N0crlmsUAhJ"
      },
      "source": [
        "# **range Data Type**"
      ]
    },
    {
      "cell_type": "markdown",
      "metadata": {
        "id": "dxsdHyB2UEar"
      },
      "source": [
        "* Range Data Type represents a sequence of numbers.\r\n",
        "* The elements present in range Data type are not modifiable. i.e range Data type is immutable."
      ]
    },
    {
      "cell_type": "markdown",
      "metadata": {
        "id": "PKGmJFlTUllL"
      },
      "source": [
        "* Type-1: range(20)\r\n",
        "* generate numbers from 0 to 19"
      ]
    },
    {
      "cell_type": "code",
      "metadata": {
        "id": "3fttgOKZUhvj"
      },
      "source": [
        "r1 = range(20)"
      ],
      "execution_count": 121,
      "outputs": []
    },
    {
      "cell_type": "code",
      "metadata": {
        "colab": {
          "base_uri": "https://localhost:8080/"
        },
        "id": "_11tvIw_Y6qZ",
        "outputId": "5635c6a1-6a3e-4862-bbfb-1f6f3bd71587"
      },
      "source": [
        "type(r1)"
      ],
      "execution_count": 122,
      "outputs": [
        {
          "output_type": "execute_result",
          "data": {
            "text/plain": [
              "range"
            ]
          },
          "metadata": {
            "tags": []
          },
          "execution_count": 122
        }
      ]
    },
    {
      "cell_type": "code",
      "metadata": {
        "id": "iKSYhwgDUtfB",
        "colab": {
          "base_uri": "https://localhost:8080/"
        },
        "outputId": "fcdd174f-36e4-4aad-fc72-e73eddaed7a0"
      },
      "source": [
        "for i in r1:\r\n",
        "  print(i)"
      ],
      "execution_count": 123,
      "outputs": [
        {
          "output_type": "stream",
          "text": [
            "0\n",
            "1\n",
            "2\n",
            "3\n",
            "4\n",
            "5\n",
            "6\n",
            "7\n",
            "8\n",
            "9\n",
            "10\n",
            "11\n",
            "12\n",
            "13\n",
            "14\n",
            "15\n",
            "16\n",
            "17\n",
            "18\n",
            "19\n"
          ],
          "name": "stdout"
        }
      ]
    },
    {
      "cell_type": "markdown",
      "metadata": {
        "id": "1POlYDGuU0ev"
      },
      "source": [
        "* Type-2: \r\n",
        "* range(5,9)"
      ]
    },
    {
      "cell_type": "code",
      "metadata": {
        "id": "trMLy1YEU3Ei"
      },
      "source": [
        "r2 = range(5,9)"
      ],
      "execution_count": 124,
      "outputs": []
    },
    {
      "cell_type": "code",
      "metadata": {
        "id": "iJNvhUVRU-hS",
        "colab": {
          "base_uri": "https://localhost:8080/"
        },
        "outputId": "96ed2cdf-bfac-435b-9ae1-523f4a949fe3"
      },
      "source": [
        "for i in r2:\r\n",
        "  print(i)"
      ],
      "execution_count": 125,
      "outputs": [
        {
          "output_type": "stream",
          "text": [
            "5\n",
            "6\n",
            "7\n",
            "8\n"
          ],
          "name": "stdout"
        }
      ]
    },
    {
      "cell_type": "markdown",
      "metadata": {
        "id": "LXIg559PVIH7"
      },
      "source": [
        "* Type -3:\r\n",
        "* range(5,15,2)"
      ]
    },
    {
      "cell_type": "code",
      "metadata": {
        "id": "IW4oxK2GVVA0"
      },
      "source": [
        "r3 = range(5,15,2)"
      ],
      "execution_count": 126,
      "outputs": []
    },
    {
      "cell_type": "code",
      "metadata": {
        "id": "VeNztdM4VYr-",
        "colab": {
          "base_uri": "https://localhost:8080/"
        },
        "outputId": "a71f856f-3de0-4aa5-fd6e-e14af0ca6cad"
      },
      "source": [
        "for i in r3:\r\n",
        "  print(i)"
      ],
      "execution_count": 127,
      "outputs": [
        {
          "output_type": "stream",
          "text": [
            "5\n",
            "7\n",
            "9\n",
            "11\n",
            "13\n"
          ],
          "name": "stdout"
        }
      ]
    },
    {
      "cell_type": "markdown",
      "metadata": {
        "id": "YmA_t-ywVtql"
      },
      "source": [
        "**We can access elements present in the range Data Type by using index.**"
      ]
    },
    {
      "cell_type": "code",
      "metadata": {
        "id": "1J1SVbxnVwaO",
        "colab": {
          "base_uri": "https://localhost:8080/"
        },
        "outputId": "c2e88272-a90b-4d20-ae79-8a3378b47dfb"
      },
      "source": [
        "r3[3]"
      ],
      "execution_count": 128,
      "outputs": [
        {
          "output_type": "execute_result",
          "data": {
            "text/plain": [
              "11"
            ]
          },
          "metadata": {
            "tags": []
          },
          "execution_count": 128
        }
      ]
    },
    {
      "cell_type": "code",
      "metadata": {
        "id": "ZZ_aCJp4V8ha",
        "colab": {
          "base_uri": "https://localhost:8080/"
        },
        "outputId": "c5ebdbe2-6317-4aac-d7c4-d11f18f07482"
      },
      "source": [
        "r3[:]"
      ],
      "execution_count": 129,
      "outputs": [
        {
          "output_type": "execute_result",
          "data": {
            "text/plain": [
              "range(5, 15, 2)"
            ]
          },
          "metadata": {
            "tags": []
          },
          "execution_count": 129
        }
      ]
    },
    {
      "cell_type": "code",
      "metadata": {
        "id": "iJ-09ZVqWBMt",
        "colab": {
          "base_uri": "https://localhost:8080/"
        },
        "outputId": "ad59ce8f-4142-4e79-f8e6-0df2d04ac285"
      },
      "source": [
        "r3[-1]"
      ],
      "execution_count": 130,
      "outputs": [
        {
          "output_type": "execute_result",
          "data": {
            "text/plain": [
              "13"
            ]
          },
          "metadata": {
            "tags": []
          },
          "execution_count": 130
        }
      ]
    },
    {
      "cell_type": "code",
      "metadata": {
        "id": "2_OaC5ZAWItI",
        "colab": {
          "base_uri": "https://localhost:8080/",
          "height": 180
        },
        "outputId": "9ac4243d-721f-410d-8371-83fdf7d564b9"
      },
      "source": [
        "#We cannot modify the values of range data type\r\n",
        "r3[2]=44"
      ],
      "execution_count": 131,
      "outputs": [
        {
          "output_type": "error",
          "ename": "TypeError",
          "evalue": "ignored",
          "traceback": [
            "\u001b[0;31m---------------------------------------------------------------------------\u001b[0m",
            "\u001b[0;31mTypeError\u001b[0m                                 Traceback (most recent call last)",
            "\u001b[0;32m<ipython-input-131-2058b547aa31>\u001b[0m in \u001b[0;36m<module>\u001b[0;34m()\u001b[0m\n\u001b[1;32m      1\u001b[0m \u001b[0;31m#We cannot modify the values of range data type\u001b[0m\u001b[0;34m\u001b[0m\u001b[0;34m\u001b[0m\u001b[0;34m\u001b[0m\u001b[0m\n\u001b[0;32m----> 2\u001b[0;31m \u001b[0mr3\u001b[0m\u001b[0;34m[\u001b[0m\u001b[0;36m2\u001b[0m\u001b[0;34m]\u001b[0m\u001b[0;34m=\u001b[0m\u001b[0;36m44\u001b[0m\u001b[0;34m\u001b[0m\u001b[0;34m\u001b[0m\u001b[0m\n\u001b[0m",
            "\u001b[0;31mTypeError\u001b[0m: 'range' object does not support item assignment"
          ]
        }
      ]
    },
    {
      "cell_type": "code",
      "metadata": {
        "id": "Gi6qatXtWiiW"
      },
      "source": [
        "#We can create a list of values with range data type\r\n",
        "l = list(r3)"
      ],
      "execution_count": null,
      "outputs": []
    },
    {
      "cell_type": "markdown",
      "metadata": {
        "id": "fywB1zVHYG1K"
      },
      "source": [
        "# **set data type:**"
      ]
    },
    {
      "cell_type": "markdown",
      "metadata": {
        "id": "PChyz9YNYB-f"
      },
      "source": [
        "If we want to represent a group of values without duplicates where order is not important\r\n",
        "then we should go for set Data Type."
      ]
    },
    {
      "cell_type": "markdown",
      "metadata": {
        "id": "6gxoRNbnYTAI"
      },
      "source": [
        "1. insertion order is not preserved\r\n",
        "2. duplicates are not allowed\r\n",
        "3. heterogeneous objects are allowed\r\n",
        "4. index concept is not applicable\r\n",
        "5. It is mutable collection\r\n",
        "6. Growable in nature"
      ]
    },
    {
      "cell_type": "code",
      "metadata": {
        "id": "fAVcGeqbYnYQ"
      },
      "source": [
        "s1 = {1,2,1.44, 'ash',2}"
      ],
      "execution_count": 132,
      "outputs": []
    },
    {
      "cell_type": "code",
      "metadata": {
        "id": "ZzeHbL1UYsEp",
        "colab": {
          "base_uri": "https://localhost:8080/"
        },
        "outputId": "3921e9a2-3687-4888-c17f-9a878fbcf193"
      },
      "source": [
        "s1"
      ],
      "execution_count": 133,
      "outputs": [
        {
          "output_type": "execute_result",
          "data": {
            "text/plain": [
              "{1, 1.44, 2, 'ash'}"
            ]
          },
          "metadata": {
            "tags": []
          },
          "execution_count": 133
        }
      ]
    },
    {
      "cell_type": "code",
      "metadata": {
        "id": "QK_fVLINYvUD",
        "colab": {
          "base_uri": "https://localhost:8080/"
        },
        "outputId": "cb39ff72-1326-4e08-ee6b-1eb1faa52556"
      },
      "source": [
        "type(s1)"
      ],
      "execution_count": 134,
      "outputs": [
        {
          "output_type": "execute_result",
          "data": {
            "text/plain": [
              "set"
            ]
          },
          "metadata": {
            "tags": []
          },
          "execution_count": 134
        }
      ]
    },
    {
      "cell_type": "code",
      "metadata": {
        "id": "M7a9MRxpZGLA"
      },
      "source": [
        "s1.add(555)"
      ],
      "execution_count": 135,
      "outputs": []
    },
    {
      "cell_type": "code",
      "metadata": {
        "id": "JYIx0phtZI1a",
        "colab": {
          "base_uri": "https://localhost:8080/"
        },
        "outputId": "c8dd4760-e7b5-4145-d7ef-0f44bd1437c6"
      },
      "source": [
        "s1"
      ],
      "execution_count": 136,
      "outputs": [
        {
          "output_type": "execute_result",
          "data": {
            "text/plain": [
              "{1, 1.44, 2, 555, 'ash'}"
            ]
          },
          "metadata": {
            "tags": []
          },
          "execution_count": 136
        }
      ]
    },
    {
      "cell_type": "code",
      "metadata": {
        "id": "mVzntdQ1ZWdY"
      },
      "source": [
        "s1.remove(555)"
      ],
      "execution_count": 137,
      "outputs": []
    },
    {
      "cell_type": "code",
      "metadata": {
        "id": "OJKOSFFpZc9Z",
        "colab": {
          "base_uri": "https://localhost:8080/"
        },
        "outputId": "999da841-9c5a-4e82-80b2-8fc656c8773f"
      },
      "source": [
        "s1"
      ],
      "execution_count": 138,
      "outputs": [
        {
          "output_type": "execute_result",
          "data": {
            "text/plain": [
              "{1, 1.44, 2, 'ash'}"
            ]
          },
          "metadata": {
            "tags": []
          },
          "execution_count": 138
        }
      ]
    },
    {
      "cell_type": "code",
      "metadata": {
        "id": "F2j4RcAFZtJq"
      },
      "source": [
        "l = list(s1)"
      ],
      "execution_count": 139,
      "outputs": []
    },
    {
      "cell_type": "code",
      "metadata": {
        "id": "GIb_FJ4FZwa0",
        "colab": {
          "base_uri": "https://localhost:8080/"
        },
        "outputId": "4bf9900e-f61d-494d-95a8-48360eb5eacb"
      },
      "source": [
        "l"
      ],
      "execution_count": 140,
      "outputs": [
        {
          "output_type": "execute_result",
          "data": {
            "text/plain": [
              "[1, 2, 1.44, 'ash']"
            ]
          },
          "metadata": {
            "tags": []
          },
          "execution_count": 140
        }
      ]
    },
    {
      "cell_type": "code",
      "metadata": {
        "id": "SmeoR0HDZkrY",
        "colab": {
          "base_uri": "https://localhost:8080/",
          "height": 180
        },
        "outputId": "061d0e48-106d-4788-97db-35cbd4e9a167"
      },
      "source": [
        "#'set' object does not support indexing\r\n",
        "s1[2]"
      ],
      "execution_count": 141,
      "outputs": [
        {
          "output_type": "error",
          "ename": "TypeError",
          "evalue": "ignored",
          "traceback": [
            "\u001b[0;31m---------------------------------------------------------------------------\u001b[0m",
            "\u001b[0;31mTypeError\u001b[0m                                 Traceback (most recent call last)",
            "\u001b[0;32m<ipython-input-141-3afc24bc8133>\u001b[0m in \u001b[0;36m<module>\u001b[0;34m()\u001b[0m\n\u001b[1;32m      1\u001b[0m \u001b[0;31m#'set' object does not support indexing\u001b[0m\u001b[0;34m\u001b[0m\u001b[0;34m\u001b[0m\u001b[0;34m\u001b[0m\u001b[0m\n\u001b[0;32m----> 2\u001b[0;31m \u001b[0ms1\u001b[0m\u001b[0;34m[\u001b[0m\u001b[0;36m2\u001b[0m\u001b[0;34m]\u001b[0m\u001b[0;34m\u001b[0m\u001b[0;34m\u001b[0m\u001b[0m\n\u001b[0m",
            "\u001b[0;31mTypeError\u001b[0m: 'set' object does not support indexing"
          ]
        }
      ]
    },
    {
      "cell_type": "code",
      "metadata": {
        "id": "qXKIvXkAZz36"
      },
      "source": [
        "#unsupported operand type(s) for *: 'set' and 'int\r\n",
        "s2 = s1*3"
      ],
      "execution_count": null,
      "outputs": []
    },
    {
      "cell_type": "code",
      "metadata": {
        "id": "FiEDAtfWaQCo"
      },
      "source": [
        "#'set' object does not support item assignment\r\n",
        "s1[2] = 4"
      ],
      "execution_count": null,
      "outputs": []
    },
    {
      "cell_type": "markdown",
      "metadata": {
        "id": "Q7DXozHySmw6"
      },
      "source": [
        "# **frozenset Data Type:**"
      ]
    },
    {
      "cell_type": "markdown",
      "metadata": {
        "id": "hZcumg2cSpSo"
      },
      "source": [
        "* It is exactly same as set except that it is immutable.\r\n",
        "* Hence we cannot use add or remove functions."
      ]
    },
    {
      "cell_type": "code",
      "metadata": {
        "id": "nWZgn9GwSzCs"
      },
      "source": [
        "fs = frozenset({1,2,3,4})"
      ],
      "execution_count": 142,
      "outputs": []
    },
    {
      "cell_type": "code",
      "metadata": {
        "colab": {
          "base_uri": "https://localhost:8080/"
        },
        "id": "NUUCPFgoTX3w",
        "outputId": "83664a57-0ac4-455c-f661-0c66d8cea2eb"
      },
      "source": [
        "type(fs)"
      ],
      "execution_count": 143,
      "outputs": [
        {
          "output_type": "execute_result",
          "data": {
            "text/plain": [
              "frozenset"
            ]
          },
          "metadata": {
            "tags": []
          },
          "execution_count": 143
        }
      ]
    },
    {
      "cell_type": "code",
      "metadata": {
        "colab": {
          "base_uri": "https://localhost:8080/"
        },
        "id": "73GFKtwGTafR",
        "outputId": "658dfbab-3a6c-4bf0-fbfe-f1f8412da08d"
      },
      "source": [
        "for f in fs:\r\n",
        "  print(f)"
      ],
      "execution_count": 144,
      "outputs": [
        {
          "output_type": "stream",
          "text": [
            "1\n",
            "2\n",
            "3\n",
            "4\n"
          ],
          "name": "stdout"
        }
      ]
    },
    {
      "cell_type": "code",
      "metadata": {
        "colab": {
          "base_uri": "https://localhost:8080/",
          "height": 180
        },
        "id": "zlx0J8EhTeLk",
        "outputId": "d760a42f-2f1f-4ac0-b6c4-888c74c6d74e"
      },
      "source": [
        "#'frozenset' object has no attribute 'add'\r\n",
        "fs.add(77)"
      ],
      "execution_count": 145,
      "outputs": [
        {
          "output_type": "error",
          "ename": "AttributeError",
          "evalue": "ignored",
          "traceback": [
            "\u001b[0;31m---------------------------------------------------------------------------\u001b[0m",
            "\u001b[0;31mAttributeError\u001b[0m                            Traceback (most recent call last)",
            "\u001b[0;32m<ipython-input-145-fed0b01c481a>\u001b[0m in \u001b[0;36m<module>\u001b[0;34m()\u001b[0m\n\u001b[1;32m      1\u001b[0m \u001b[0;31m#'frozenset' object has no attribute 'add'\u001b[0m\u001b[0;34m\u001b[0m\u001b[0;34m\u001b[0m\u001b[0;34m\u001b[0m\u001b[0m\n\u001b[0;32m----> 2\u001b[0;31m \u001b[0mfs\u001b[0m\u001b[0;34m.\u001b[0m\u001b[0madd\u001b[0m\u001b[0;34m(\u001b[0m\u001b[0;36m77\u001b[0m\u001b[0;34m)\u001b[0m\u001b[0;34m\u001b[0m\u001b[0;34m\u001b[0m\u001b[0m\n\u001b[0m",
            "\u001b[0;31mAttributeError\u001b[0m: 'frozenset' object has no attribute 'add'"
          ]
        }
      ]
    },
    {
      "cell_type": "code",
      "metadata": {
        "id": "0wa5b4RjTqQI"
      },
      "source": [
        "#'frozenset' object has no attribute 'remove'\r\n",
        "fs.remove(2)"
      ],
      "execution_count": null,
      "outputs": []
    },
    {
      "cell_type": "code",
      "metadata": {
        "id": "ruNfeH7VT1KJ"
      },
      "source": [
        "#'frozenset' object does not support item assignment\r\n",
        "fs[0] = 66"
      ],
      "execution_count": null,
      "outputs": []
    },
    {
      "cell_type": "code",
      "metadata": {
        "id": "uVErmnnFT9FY"
      },
      "source": [
        "#'frozenset' object does not support indexing\r\n",
        "fs[0]"
      ],
      "execution_count": null,
      "outputs": []
    },
    {
      "cell_type": "markdown",
      "metadata": {
        "id": "bmpQxEMVUN70"
      },
      "source": [
        "# **dict Data Type:**"
      ]
    },
    {
      "cell_type": "markdown",
      "metadata": {
        "id": "Sp3UfGTSUQDG"
      },
      "source": [
        "* Python's dictionaries are kind of hash table type. \r\n",
        "* They work like associative arrays or hashes found in Perl and consist of key-value pairs. A dictionary key can be almost any Python type, but are usually numbers or strings. \r\n",
        "* Values, on the other hand, can be any arbitrary Python object.\r\n",
        "* If we want to represent a group of values as key-value pairs then we should go for dict\r\n",
        "data type.\r\n",
        "\r\n",
        "* Duplicate keys are not allowed but values can be duplicated. If we are trying to insert an\r\n",
        "entry with duplicate key then old value will be replaced with new value.\r\n",
        "* dict is mutable and the order wont be preserved."
      ]
    },
    {
      "cell_type": "code",
      "metadata": {
        "id": "ly5vcuI8UXX-"
      },
      "source": [
        "# We can create empty dictionary as follows\r\n",
        "d1 = {}"
      ],
      "execution_count": 12,
      "outputs": []
    },
    {
      "cell_type": "code",
      "metadata": {
        "colab": {
          "base_uri": "https://localhost:8080/"
        },
        "id": "dekuxHcBUrHZ",
        "outputId": "01f595e9-a94d-47ee-d4e2-4316c5e040b4"
      },
      "source": [
        "type(d1)"
      ],
      "execution_count": 13,
      "outputs": [
        {
          "output_type": "execute_result",
          "data": {
            "text/plain": [
              "dict"
            ]
          },
          "metadata": {
            "tags": []
          },
          "execution_count": 13
        }
      ]
    },
    {
      "cell_type": "code",
      "metadata": {
        "id": "AJ6S6aRbUtMp"
      },
      "source": [
        "d2 = {1:'python',\r\n",
        "      2: 'java',\r\n",
        "      3: 'c++'}"
      ],
      "execution_count": 14,
      "outputs": []
    },
    {
      "cell_type": "code",
      "metadata": {
        "id": "_K4JpxGeU5vw"
      },
      "source": [
        "d2"
      ],
      "execution_count": null,
      "outputs": []
    },
    {
      "cell_type": "code",
      "metadata": {
        "id": "znZPMdxJU7a4"
      },
      "source": [
        "for key,value in d2.items():\r\n",
        "  print(key,value)"
      ],
      "execution_count": null,
      "outputs": []
    },
    {
      "cell_type": "code",
      "metadata": {
        "id": "jtTN66IyXcvY"
      },
      "source": [
        "d2[4] = 'c'"
      ],
      "execution_count": 26,
      "outputs": []
    },
    {
      "cell_type": "code",
      "metadata": {
        "id": "5CfaMsJkXk4h"
      },
      "source": [
        "for key,value in d2.items():\r\n",
        "  print(key,value)"
      ],
      "execution_count": null,
      "outputs": []
    },
    {
      "cell_type": "code",
      "metadata": {
        "id": "Slx3feCtXh4S"
      },
      "source": [
        ""
      ],
      "execution_count": null,
      "outputs": []
    },
    {
      "cell_type": "markdown",
      "metadata": {
        "id": "WqEQ7DBTY1gq"
      },
      "source": [
        "# **None Data Type:**"
      ]
    },
    {
      "cell_type": "markdown",
      "metadata": {
        "id": "htvlcB40Y4tB"
      },
      "source": [
        "* None means Nothing or No value associated.\r\n",
        "* If the value is not available,then to handle such type of cases None introduced.\r\n",
        "* It is something like null value in Java."
      ]
    },
    {
      "cell_type": "code",
      "metadata": {
        "colab": {
          "base_uri": "https://localhost:8080/"
        },
        "id": "uucdNH-_Y_D5",
        "outputId": "8c867846-6ad6-4a63-fa1c-b5c84390a836"
      },
      "source": [
        "x = None\r\n",
        "\r\n",
        "if x:\r\n",
        "  print(\"Do you think None is True\")\r\n",
        "else:\r\n",
        "  print(\"None is not True...\")"
      ],
      "execution_count": 30,
      "outputs": [
        {
          "output_type": "stream",
          "text": [
            "None is not True...\n"
          ],
          "name": "stdout"
        }
      ]
    }
  ]
}