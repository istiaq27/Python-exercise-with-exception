{
  "nbformat": 4,
  "nbformat_minor": 0,
  "metadata": {
    "colab": {
      "name": "Data_Type.ipynb",
      "provenance": [],
      "collapsed_sections": [
        "S2VR4b8zp6ZI",
        "nXctQwas1orO",
        "CMcEyAfd-yL8",
        "qsr-F3FGC6HW",
        "PvpdhK68DhLT",
        "PkKaTh-3JjtW",
        "75E2samvL0Gw",
        "o7uzCPA8Oyce",
        "4LQjowkOS27I",
        "_N0crlmsUAhJ"
      ],
      "authorship_tag": "ABX9TyPSxqJp6dLSGX5Rhbe6Kxah",
      "include_colab_link": true
    },
    "kernelspec": {
      "name": "python3",
      "display_name": "Python 3"
    }
  },
  "cells": [
    {
      "cell_type": "markdown",
      "metadata": {
        "id": "view-in-github",
        "colab_type": "text"
      },
      "source": [
        "<a href=\"https://colab.research.google.com/github/istiaq27/python-basic-code-example-with-exception/blob/main/Data_Type.ipynb\" target=\"_parent\"><img src=\"https://colab.research.google.com/assets/colab-badge.svg\" alt=\"Open In Colab\"/></a>"
      ]
    },
    {
      "cell_type": "markdown",
      "metadata": {
        "id": "Ikd2RplxofDn"
      },
      "source": [
        "**DATA TYPES**"
      ]
    },
    {
      "cell_type": "markdown",
      "metadata": {
        "id": "MAcKs_gQozLv"
      },
      "source": [
        "Data Type represent the type of data present inside a variable.\r\n",
        "\r\n",
        "Python contains the following inbuilt data types\r\n",
        "\r\n",
        "\r\n",
        "\r\n",
        "*  INT\r\n",
        "*  FLOAT\r\n",
        "*  BOOL\r\n",
        "*  STR\r\n",
        "*  BYTES\r\n",
        "*  BYTEARRAY\r\n",
        "*  COMPLEX\r\n",
        "*  LIST\r\n",
        "*  TUPPLE\r\n",
        "*  SET\r\n",
        "*  FROZENSET\r\n",
        "*  DICT\r\n",
        "*  RANGE\r\n",
        "*  NONE\r\n",
        "\r\n",
        "\r\n",
        "\r\n"
      ]
    },
    {
      "cell_type": "markdown",
      "metadata": {
        "id": "S2VR4b8zp6ZI"
      },
      "source": [
        "# **SOME INBUILT FUNCTION EXAMPLE**"
      ]
    },
    {
      "cell_type": "code",
      "metadata": {
        "id": "3orceHPrqF1g"
      },
      "source": [
        "type(56)"
      ],
      "execution_count": null,
      "outputs": []
    },
    {
      "cell_type": "code",
      "metadata": {
        "id": "vLyDDb0poUqM"
      },
      "source": [
        "type(True)"
      ],
      "execution_count": null,
      "outputs": []
    },
    {
      "cell_type": "code",
      "metadata": {
        "id": "Gt1QOqcLqiGz"
      },
      "source": [
        "type(3+3j)"
      ],
      "execution_count": null,
      "outputs": []
    },
    {
      "cell_type": "code",
      "metadata": {
        "id": "_72jyUVoqngx"
      },
      "source": [
        "type([4,5,7])"
      ],
      "execution_count": null,
      "outputs": []
    },
    {
      "cell_type": "code",
      "metadata": {
        "id": "k3tRSPXSqwBX"
      },
      "source": [
        "type((4,5,6))"
      ],
      "execution_count": null,
      "outputs": []
    },
    {
      "cell_type": "code",
      "metadata": {
        "id": "pyu_tgFxq3Xc"
      },
      "source": [
        "type(range(4))"
      ],
      "execution_count": null,
      "outputs": []
    },
    {
      "cell_type": "code",
      "metadata": {
        "id": "DFiewc-QrGRJ"
      },
      "source": [
        "type(set('khalid'))"
      ],
      "execution_count": null,
      "outputs": []
    },
    {
      "cell_type": "code",
      "metadata": {
        "id": "zu4ns-EesKht"
      },
      "source": [
        "type(set([1,2,'ash',3]))"
      ],
      "execution_count": null,
      "outputs": []
    },
    {
      "cell_type": "code",
      "metadata": {
        "id": "T0mYba-PsYvZ"
      },
      "source": [
        "type({1,3,4})"
      ],
      "execution_count": null,
      "outputs": []
    },
    {
      "cell_type": "code",
      "metadata": {
        "id": "6pSGyQZDtBP3"
      },
      "source": [
        "set1 = set([\"Geeks\", \"For\", \"Geeks\", \"For\"])"
      ],
      "execution_count": null,
      "outputs": []
    },
    {
      "cell_type": "code",
      "metadata": {
        "id": "1MvvRq32tGlv"
      },
      "source": [
        "type(set1)"
      ],
      "execution_count": null,
      "outputs": []
    },
    {
      "cell_type": "code",
      "metadata": {
        "id": "Trn-iuJ-w3xb"
      },
      "source": [
        "type(b'(1,2,3)')"
      ],
      "execution_count": null,
      "outputs": []
    },
    {
      "cell_type": "code",
      "metadata": {
        "id": "tADce52Dwt79"
      },
      "source": [
        "type(bytes([1,2]))"
      ],
      "execution_count": null,
      "outputs": []
    },
    {
      "cell_type": "code",
      "metadata": {
        "id": "1YxNDxPVwTFa"
      },
      "source": [
        "type(bytearray(4))"
      ],
      "execution_count": null,
      "outputs": []
    },
    {
      "cell_type": "code",
      "metadata": {
        "id": "xei8781pXmsw"
      },
      "source": [
        "type(None)"
      ],
      "execution_count": null,
      "outputs": []
    },
    {
      "cell_type": "markdown",
      "metadata": {
        "id": "U0c3JAuPzwuG"
      },
      "source": [
        "**id()---**\r\n",
        "**to get address of object**"
      ]
    },
    {
      "cell_type": "code",
      "metadata": {
        "id": "oU5E8U8b0LYE"
      },
      "source": [
        " a = 12\r\n",
        " b =12"
      ],
      "execution_count": null,
      "outputs": []
    },
    {
      "cell_type": "code",
      "metadata": {
        "id": "aV9KgjOs1DhH"
      },
      "source": [
        "id(a)"
      ],
      "execution_count": null,
      "outputs": []
    },
    {
      "cell_type": "code",
      "metadata": {
        "id": "ckPnFMPE1HmW"
      },
      "source": [
        "#same as a\r\n",
        "id(b)"
      ],
      "execution_count": null,
      "outputs": []
    },
    {
      "cell_type": "markdown",
      "metadata": {
        "id": "j7pp7hRu1mpN"
      },
      "source": [
        ""
      ]
    },
    {
      "cell_type": "markdown",
      "metadata": {
        "id": "nXctQwas1orO"
      },
      "source": [
        "# **int data type**"
      ]
    },
    {
      "cell_type": "markdown",
      "metadata": {
        "id": "oyqwL6Tc1xgu"
      },
      "source": [
        "\r\n",
        "\r\n",
        "*   **Decimal** (Base 10 ----- 0 to 9 ----- eg, a = 5)\r\n",
        "*   **Hexa Decimal** (Base 16 ----- 0 to 9, a to f ----- eg, a = 0xeb83, b = 0X8cdf) ----> Literal value should be prefixed with 0x or 0X\r\n",
        "*   **Binary** (Base 2 ----- 0 & 1 ----- eg, a = 0b11, b = 0B11) ----> Literal value should be prefixed with 0b or 0B.\r\n",
        "*   **Octal** (Base 8 ----- 0 to 7 ----- eg, a =0o123, b = 0O345) ----> Literal value should be prefixed with 0o or 0O.\r\n",
        "\r\n",
        "\r\n",
        "** **PVM will always provide values only in decimal form.**\r\n",
        "\r\n"
      ]
    },
    {
      "cell_type": "markdown",
      "metadata": {
        "id": "S7Z2nS_R71FN"
      },
      "source": [
        "**Type Conversion**"
      ]
    },
    {
      "cell_type": "code",
      "metadata": {
        "id": "7A8grEwj4u5e",
        "colab": {
          "base_uri": "https://localhost:8080/"
        },
        "outputId": "69c2ee54-c54d-4331-bb6a-f4b834bd139c"
      },
      "source": [
        "# By default is will print Decimal Value\r\n",
        "0x1234"
      ],
      "execution_count": null,
      "outputs": [
        {
          "output_type": "execute_result",
          "data": {
            "text/plain": [
              "4660"
            ]
          },
          "metadata": {
            "tags": []
          },
          "execution_count": 93
        }
      ]
    },
    {
      "cell_type": "code",
      "metadata": {
        "id": "pdooOVAq8DV7",
        "colab": {
          "base_uri": "https://localhost:8080/",
          "height": 35
        },
        "outputId": "4cc43c94-70a4-4ebe-8785-e9689dad8bb4"
      },
      "source": [
        "bin(7)"
      ],
      "execution_count": null,
      "outputs": [
        {
          "output_type": "execute_result",
          "data": {
            "application/vnd.google.colaboratory.intrinsic+json": {
              "type": "string"
            },
            "text/plain": [
              "'0b111'"
            ]
          },
          "metadata": {
            "tags": []
          },
          "execution_count": 94
        }
      ]
    },
    {
      "cell_type": "code",
      "metadata": {
        "id": "L7UtDNN_8I9l",
        "colab": {
          "base_uri": "https://localhost:8080/",
          "height": 35
        },
        "outputId": "adfa9dbd-e1d2-4fa0-8740-98ac9502ba2c"
      },
      "source": [
        "hex(15)"
      ],
      "execution_count": null,
      "outputs": [
        {
          "output_type": "execute_result",
          "data": {
            "application/vnd.google.colaboratory.intrinsic+json": {
              "type": "string"
            },
            "text/plain": [
              "'0xf'"
            ]
          },
          "metadata": {
            "tags": []
          },
          "execution_count": 95
        }
      ]
    },
    {
      "cell_type": "code",
      "metadata": {
        "id": "X_ey64Cr8M03",
        "colab": {
          "base_uri": "https://localhost:8080/",
          "height": 35
        },
        "outputId": "e4569142-0a41-49d7-ad54-6ebfa5408f9f"
      },
      "source": [
        "oct(8)"
      ],
      "execution_count": null,
      "outputs": [
        {
          "output_type": "execute_result",
          "data": {
            "application/vnd.google.colaboratory.intrinsic+json": {
              "type": "string"
            },
            "text/plain": [
              "'0o10'"
            ]
          },
          "metadata": {
            "tags": []
          },
          "execution_count": 96
        }
      ]
    },
    {
      "cell_type": "code",
      "metadata": {
        "id": "mViViM5L892w"
      },
      "source": [
        "#both a & b holds same value but different id\r\n",
        "a = 2e3\r\n",
        "b = 2000.0"
      ],
      "execution_count": null,
      "outputs": []
    },
    {
      "cell_type": "code",
      "metadata": {
        "id": "8r5CZv_8-EZO",
        "colab": {
          "base_uri": "https://localhost:8080/"
        },
        "outputId": "a9bf20d4-6735-4952-c1bf-32faa2b77f82"
      },
      "source": [
        "a"
      ],
      "execution_count": null,
      "outputs": [
        {
          "output_type": "execute_result",
          "data": {
            "text/plain": [
              "2000.0"
            ]
          },
          "metadata": {
            "tags": []
          },
          "execution_count": 98
        }
      ]
    },
    {
      "cell_type": "markdown",
      "metadata": {
        "id": "CMcEyAfd-yL8"
      },
      "source": [
        "# **Complex data type**"
      ]
    },
    {
      "cell_type": "markdown",
      "metadata": {
        "id": "MbknE_VwALhn"
      },
      "source": [
        "* In the real part if we use int value then we can specify that either by decimal,octal,binary\r\n",
        "or hexa decimal form.\r\n",
        "* But imaginary part should be specified only by using decimal form."
      ]
    },
    {
      "cell_type": "code",
      "metadata": {
        "id": "gs0BeT9i-z8P"
      },
      "source": [
        "# Both real and imaginary part are decimal\r\n",
        "c = 4+3j"
      ],
      "execution_count": null,
      "outputs": []
    },
    {
      "cell_type": "code",
      "metadata": {
        "id": "DuGupLwk-9th"
      },
      "source": [
        "c"
      ],
      "execution_count": null,
      "outputs": []
    },
    {
      "cell_type": "markdown",
      "metadata": {
        "id": "3r9U8ww5EVn3"
      },
      "source": [
        "* **real and imag are used to retrieve the real and imaginary part**\r\n",
        "* **We can use complex type generally in scientific Applications and electrical engineering\r\n",
        "Applications.**"
      ]
    },
    {
      "cell_type": "code",
      "metadata": {
        "id": "Dqo5ecyODwfW"
      },
      "source": [
        "c.real"
      ],
      "execution_count": null,
      "outputs": []
    },
    {
      "cell_type": "code",
      "metadata": {
        "id": "lYn9WZs1ESPu"
      },
      "source": [
        "c.imag"
      ],
      "execution_count": null,
      "outputs": []
    },
    {
      "cell_type": "code",
      "metadata": {
        "id": "y1juslFj_Al2"
      },
      "source": [
        "# real part binary\r\n",
        "# imaginary part decimal\r\n",
        "a = 0b100+3j"
      ],
      "execution_count": null,
      "outputs": []
    },
    {
      "cell_type": "code",
      "metadata": {
        "id": "O7KDJXQ7_aW0"
      },
      "source": [
        "a"
      ],
      "execution_count": null,
      "outputs": []
    },
    {
      "cell_type": "code",
      "metadata": {
        "id": "dPd__1A7AdT1"
      },
      "source": [
        "type(a)"
      ],
      "execution_count": null,
      "outputs": []
    },
    {
      "cell_type": "code",
      "metadata": {
        "id": "5wbk4ibO_ioQ"
      },
      "source": [
        "# real part decimal\r\n",
        "# imaginary part except decimal\r\n",
        "a = 4+ 0b111j"
      ],
      "execution_count": null,
      "outputs": []
    },
    {
      "cell_type": "markdown",
      "metadata": {
        "id": "qsr-F3FGC6HW"
      },
      "source": [
        "# **bool data type:**"
      ]
    },
    {
      "cell_type": "code",
      "metadata": {
        "id": "wsUrshPrDrRT"
      },
      "source": [
        "a = True"
      ],
      "execution_count": null,
      "outputs": []
    },
    {
      "cell_type": "code",
      "metadata": {
        "id": "T9X-Jb-ODIAP"
      },
      "source": [
        "type(a)"
      ],
      "execution_count": null,
      "outputs": []
    },
    {
      "cell_type": "code",
      "metadata": {
        "id": "HlKAS0SaDMQ8"
      },
      "source": [
        "True + True"
      ],
      "execution_count": null,
      "outputs": []
    },
    {
      "cell_type": "code",
      "metadata": {
        "id": "MHKrjc0cDSiQ"
      },
      "source": [
        "False - True"
      ],
      "execution_count": null,
      "outputs": []
    },
    {
      "cell_type": "markdown",
      "metadata": {
        "id": "PvpdhK68DhLT"
      },
      "source": [
        "# **str data type**"
      ]
    },
    {
      "cell_type": "code",
      "metadata": {
        "id": "S-SOAg7lDfET"
      },
      "source": [
        "str1 = 'ash'"
      ],
      "execution_count": null,
      "outputs": []
    },
    {
      "cell_type": "code",
      "metadata": {
        "id": "b0T_H8C-DoTt"
      },
      "source": [
        "type(str1)"
      ],
      "execution_count": null,
      "outputs": []
    },
    {
      "cell_type": "code",
      "metadata": {
        "id": "LnIRmMy9DrA5"
      },
      "source": [
        "str2 = '''hello \r\n",
        "python\r\n",
        "what's \r\n",
        "up'''"
      ],
      "execution_count": null,
      "outputs": []
    },
    {
      "cell_type": "code",
      "metadata": {
        "id": "1MkAZlpWD_5Z"
      },
      "source": [
        "type(str2)"
      ],
      "execution_count": null,
      "outputs": []
    },
    {
      "cell_type": "code",
      "metadata": {
        "id": "f6eXLx7tEKNp"
      },
      "source": [
        "str3 = 'a'"
      ],
      "execution_count": null,
      "outputs": []
    },
    {
      "cell_type": "code",
      "metadata": {
        "id": "XPAkhk4iEMQh"
      },
      "source": [
        "type(str3)"
      ],
      "execution_count": null,
      "outputs": []
    },
    {
      "cell_type": "markdown",
      "metadata": {
        "id": "PkKaTh-3JjtW"
      },
      "source": [
        "# **bytes data type**"
      ]
    },
    {
      "cell_type": "markdown",
      "metadata": {
        "id": "cAZxnfaPJmS2"
      },
      "source": [
        "* bytes data type represens a group of byte numbers just like an array.\r\n",
        "* The only allowed values for byte data type are 0 to 256. \r\n",
        "* By mistake if we are trying to provide any other values then we will get value error."
      ]
    },
    {
      "cell_type": "code",
      "metadata": {
        "id": "0PMKTlxTKE0F"
      },
      "source": [
        "list1 = [1,2,3,4]"
      ],
      "execution_count": null,
      "outputs": []
    },
    {
      "cell_type": "code",
      "metadata": {
        "id": "g7Pw8_f9KQjO"
      },
      "source": [
        "byte1 = bytes(list1)"
      ],
      "execution_count": null,
      "outputs": []
    },
    {
      "cell_type": "code",
      "metadata": {
        "id": "1LHUnxXkKaSI"
      },
      "source": [
        "type(byte1)"
      ],
      "execution_count": null,
      "outputs": []
    },
    {
      "cell_type": "code",
      "metadata": {
        "id": "XsgaOhgxKd5m"
      },
      "source": [
        "byte1[0]"
      ],
      "execution_count": null,
      "outputs": []
    },
    {
      "cell_type": "code",
      "metadata": {
        "id": "bqpfROACKiA2"
      },
      "source": [
        "byte1[:]"
      ],
      "execution_count": null,
      "outputs": []
    },
    {
      "cell_type": "code",
      "metadata": {
        "id": "4g_VXvECLEk9"
      },
      "source": [
        "for b in byte1:\r\n",
        "  print(b)"
      ],
      "execution_count": null,
      "outputs": []
    },
    {
      "cell_type": "markdown",
      "metadata": {
        "id": "XkQi6bi8Lh1e"
      },
      "source": [
        "Once we creates bytes data type value, we cannot change its values,otherwise we will get\r\n",
        "TypeError."
      ]
    },
    {
      "cell_type": "code",
      "metadata": {
        "id": "KDYNKdHBLjxG"
      },
      "source": [
        "#'bytes' object does not support item assignment\r\n",
        "byte1[0] =111"
      ],
      "execution_count": null,
      "outputs": []
    },
    {
      "cell_type": "markdown",
      "metadata": {
        "id": "h0ibQQHyMWoG"
      },
      "source": [
        "The only allowed values for byte data type are 0 to 256."
      ]
    },
    {
      "cell_type": "code",
      "metadata": {
        "id": "tFEYOS53MQ31"
      },
      "source": [
        "#bytes must be in range(0, 256)\r\n",
        "byte2 = bytes([1,2,3,260])"
      ],
      "execution_count": null,
      "outputs": []
    },
    {
      "cell_type": "markdown",
      "metadata": {
        "id": "75E2samvL0Gw"
      },
      "source": [
        "# **bytearray data type**"
      ]
    },
    {
      "cell_type": "markdown",
      "metadata": {
        "id": "kbQ7vtrfL2Gj"
      },
      "source": [
        "bytearray is exactly same as bytes data type except that its elements can be modified."
      ]
    },
    {
      "cell_type": "code",
      "metadata": {
        "id": "KJ9aMXbjL4c7"
      },
      "source": [
        "bytearray1 = bytearray([1,2,3,4])"
      ],
      "execution_count": null,
      "outputs": []
    },
    {
      "cell_type": "code",
      "metadata": {
        "id": "BCpO2h_rNjFm"
      },
      "source": [
        "type(bytearray1)"
      ],
      "execution_count": null,
      "outputs": []
    },
    {
      "cell_type": "code",
      "metadata": {
        "id": "sM1P3seUNl8m"
      },
      "source": [
        "bytearray1[:]"
      ],
      "execution_count": null,
      "outputs": []
    },
    {
      "cell_type": "code",
      "metadata": {
        "id": "NoCBO6l7NrUe"
      },
      "source": [
        "bytearray1[2]"
      ],
      "execution_count": null,
      "outputs": []
    },
    {
      "cell_type": "code",
      "metadata": {
        "id": "x4okhmNcNtz2"
      },
      "source": [
        "# its elements can be modified\r\n",
        "bytearray1[0] = 111"
      ],
      "execution_count": null,
      "outputs": []
    },
    {
      "cell_type": "code",
      "metadata": {
        "id": "zqjOJ4zGN1F_"
      },
      "source": [
        "for ba in bytearray1:\r\n",
        "  print(ba)"
      ],
      "execution_count": null,
      "outputs": []
    },
    {
      "cell_type": "code",
      "metadata": {
        "id": "HHZcUoKWOBuq"
      },
      "source": [
        "#bytearray must be in range(0, 256) like bytes data type\r\n",
        "bytearray2 = bytearray([1,2,257])"
      ],
      "execution_count": null,
      "outputs": []
    },
    {
      "cell_type": "markdown",
      "metadata": {
        "id": "o7uzCPA8Oyce"
      },
      "source": [
        "# **list data type**"
      ]
    },
    {
      "cell_type": "markdown",
      "metadata": {
        "id": "usXUOXlcOujV"
      },
      "source": [
        "List is a collection data type. It allows multiple values to be stored within the same field. In Table Design, you must configure the List data type with all the values that the field stores."
      ]
    },
    {
      "cell_type": "markdown",
      "metadata": {
        "id": "jTIx7ZK_O-Xp"
      },
      "source": [
        "1. insertion order is preserved\r\n",
        "2. heterogeneous objects are allowed\r\n",
        "3. duplicates are allowed\r\n",
        "4. Growable in nature\r\n",
        "5. values should be enclosed within square brackets."
      ]
    },
    {
      "cell_type": "code",
      "metadata": {
        "id": "W3TVZ21gPMt2"
      },
      "source": [
        "#heterogeneous objects are allowed\r\n",
        "l = [1,1.3, 'ash',  True]"
      ],
      "execution_count": null,
      "outputs": []
    },
    {
      "cell_type": "code",
      "metadata": {
        "id": "uoiAL37aPWow"
      },
      "source": [
        "type(l)"
      ],
      "execution_count": null,
      "outputs": []
    },
    {
      "cell_type": "code",
      "metadata": {
        "id": "volGqwFTPYXL"
      },
      "source": [
        "l[3]"
      ],
      "execution_count": null,
      "outputs": []
    },
    {
      "cell_type": "code",
      "metadata": {
        "id": "sojpF1CdPb8A"
      },
      "source": [
        "for li in l:\r\n",
        "  print(li)"
      ],
      "execution_count": null,
      "outputs": []
    },
    {
      "cell_type": "code",
      "metadata": {
        "id": "pHodxnlIP1Kv"
      },
      "source": [
        "l[0::3] = [444, 'hash']"
      ],
      "execution_count": null,
      "outputs": []
    },
    {
      "cell_type": "code",
      "metadata": {
        "id": "XnMwjB-WP-AP"
      },
      "source": [
        "for li in l:\r\n",
        "  print(li)"
      ],
      "execution_count": null,
      "outputs": []
    },
    {
      "cell_type": "code",
      "metadata": {
        "id": "QtSnStoMRNO3"
      },
      "source": [
        "#change value using zip\r\n",
        "target = [333,555]\r\n",
        "pos = [1,2]\r\n",
        "for x,y in zip(pos, target):\r\n",
        "  l[x] = y"
      ],
      "execution_count": null,
      "outputs": []
    },
    {
      "cell_type": "code",
      "metadata": {
        "id": "Z6sme8_rRsmn"
      },
      "source": [
        "l"
      ],
      "execution_count": null,
      "outputs": []
    },
    {
      "cell_type": "markdown",
      "metadata": {
        "id": "2f8KuX7CSRf6"
      },
      "source": [
        "append"
      ]
    },
    {
      "cell_type": "code",
      "metadata": {
        "id": "uGPPT4GNR931"
      },
      "source": [
        "l.append('mash')"
      ],
      "execution_count": null,
      "outputs": []
    },
    {
      "cell_type": "code",
      "metadata": {
        "colab": {
          "base_uri": "https://localhost:8080/"
        },
        "id": "Rq0zHXUNSD-v",
        "outputId": "3f73ef79-3410-425c-bdff-93bd0b5a7420"
      },
      "source": [
        "l"
      ],
      "execution_count": null,
      "outputs": [
        {
          "output_type": "execute_result",
          "data": {
            "text/plain": [
              "[444, 333, 555, 'hash', 'mash']"
            ]
          },
          "metadata": {
            "tags": []
          },
          "execution_count": 61
        }
      ]
    },
    {
      "cell_type": "markdown",
      "metadata": {
        "id": "0qY2P9DFSTja"
      },
      "source": [
        "remove"
      ]
    },
    {
      "cell_type": "code",
      "metadata": {
        "id": "LZjwviALSIEI"
      },
      "source": [
        "l.remove(333)"
      ],
      "execution_count": null,
      "outputs": []
    },
    {
      "cell_type": "code",
      "metadata": {
        "id": "UTrHTUQDSN7m"
      },
      "source": [
        "l"
      ],
      "execution_count": null,
      "outputs": []
    },
    {
      "cell_type": "markdown",
      "metadata": {
        "id": "dGhwhdltShJp"
      },
      "source": [
        "Multiplication"
      ]
    },
    {
      "cell_type": "code",
      "metadata": {
        "id": "pDQfvMiMSbNP"
      },
      "source": [
        "l2 = l*3"
      ],
      "execution_count": null,
      "outputs": []
    },
    {
      "cell_type": "code",
      "metadata": {
        "id": "jEfr2BkLSbLW"
      },
      "source": [
        "l2"
      ],
      "execution_count": null,
      "outputs": []
    },
    {
      "cell_type": "markdown",
      "metadata": {
        "id": "4LQjowkOS27I"
      },
      "source": [
        "# **tuple data type**"
      ]
    },
    {
      "cell_type": "markdown",
      "metadata": {
        "id": "jttVQgR9S4yJ"
      },
      "source": [
        "* Tuple data type is exactly same as list data type except that it is immutable.i.e we cannot chage values.\r\n",
        "* Tuple elements can be represented within parenthesis."
      ]
    },
    {
      "cell_type": "code",
      "metadata": {
        "id": "LQnLDFdPTEmw"
      },
      "source": [
        "t1 = (1,2,3,4)"
      ],
      "execution_count": null,
      "outputs": []
    },
    {
      "cell_type": "code",
      "metadata": {
        "id": "H7DfhQToTQL8"
      },
      "source": [
        "type(t1)"
      ],
      "execution_count": null,
      "outputs": []
    },
    {
      "cell_type": "code",
      "metadata": {
        "id": "d_eaDj91TSQT"
      },
      "source": [
        "for t in t1:\r\n",
        "  print(t)"
      ],
      "execution_count": null,
      "outputs": []
    },
    {
      "cell_type": "code",
      "metadata": {
        "id": "ycSgv1-6TvOl"
      },
      "source": [
        "t2 = t1*2"
      ],
      "execution_count": null,
      "outputs": []
    },
    {
      "cell_type": "code",
      "metadata": {
        "id": "rJNaGgAZTyj-"
      },
      "source": [
        "t2"
      ],
      "execution_count": null,
      "outputs": []
    },
    {
      "cell_type": "code",
      "metadata": {
        "id": "xeZORbqqTYCf"
      },
      "source": [
        "#'tuple' object does not support item assignment\r\n",
        "t1[0] = 666"
      ],
      "execution_count": null,
      "outputs": []
    },
    {
      "cell_type": "code",
      "metadata": {
        "id": "jFPT-tAfTg0Z"
      },
      "source": [
        "#'tuple' object has no attribute 'append'\r\n",
        "t1.append('assss')"
      ],
      "execution_count": null,
      "outputs": []
    },
    {
      "cell_type": "code",
      "metadata": {
        "id": "u9SXImNkTnbh"
      },
      "source": [
        "#'tuple' object has no attribute 'remove\r\n",
        "t1.remove(3)"
      ],
      "execution_count": null,
      "outputs": []
    },
    {
      "cell_type": "markdown",
      "metadata": {
        "id": "_N0crlmsUAhJ"
      },
      "source": [
        "# **range Data Type**"
      ]
    },
    {
      "cell_type": "markdown",
      "metadata": {
        "id": "dxsdHyB2UEar"
      },
      "source": [
        "* Range Data Type represents a sequence of numbers.\r\n",
        "* The elements present in range Data type are not modifiable. i.e range Data type is immutable."
      ]
    },
    {
      "cell_type": "markdown",
      "metadata": {
        "id": "PKGmJFlTUllL"
      },
      "source": [
        "* Type-1: range(20)\r\n",
        "* generate numbers from 0 to 19"
      ]
    },
    {
      "cell_type": "code",
      "metadata": {
        "id": "3fttgOKZUhvj"
      },
      "source": [
        "r1 = range(20)"
      ],
      "execution_count": null,
      "outputs": []
    },
    {
      "cell_type": "code",
      "metadata": {
        "colab": {
          "base_uri": "https://localhost:8080/"
        },
        "id": "_11tvIw_Y6qZ",
        "outputId": "cf64ba22-2490-46c2-903f-a0448f178774"
      },
      "source": [
        "type(r1)"
      ],
      "execution_count": null,
      "outputs": [
        {
          "output_type": "execute_result",
          "data": {
            "text/plain": [
              "range"
            ]
          },
          "metadata": {
            "tags": []
          },
          "execution_count": 103
        }
      ]
    },
    {
      "cell_type": "code",
      "metadata": {
        "id": "iKSYhwgDUtfB"
      },
      "source": [
        "for i in r1:\r\n",
        "  print(i)"
      ],
      "execution_count": null,
      "outputs": []
    },
    {
      "cell_type": "markdown",
      "metadata": {
        "id": "1POlYDGuU0ev"
      },
      "source": [
        "* Type-2: \r\n",
        "* range(5,9)"
      ]
    },
    {
      "cell_type": "code",
      "metadata": {
        "id": "trMLy1YEU3Ei"
      },
      "source": [
        "r2 = range(5,9)"
      ],
      "execution_count": null,
      "outputs": []
    },
    {
      "cell_type": "code",
      "metadata": {
        "id": "iJNvhUVRU-hS"
      },
      "source": [
        "for i in r2:\r\n",
        "  print(i)"
      ],
      "execution_count": null,
      "outputs": []
    },
    {
      "cell_type": "markdown",
      "metadata": {
        "id": "LXIg559PVIH7"
      },
      "source": [
        "* Type -3:\r\n",
        "* range(5,15,2)"
      ]
    },
    {
      "cell_type": "code",
      "metadata": {
        "id": "IW4oxK2GVVA0"
      },
      "source": [
        "r3 = range(5,15,2)"
      ],
      "execution_count": null,
      "outputs": []
    },
    {
      "cell_type": "code",
      "metadata": {
        "id": "VeNztdM4VYr-"
      },
      "source": [
        "for i in r3:\r\n",
        "  print(i)"
      ],
      "execution_count": null,
      "outputs": []
    },
    {
      "cell_type": "markdown",
      "metadata": {
        "id": "YmA_t-ywVtql"
      },
      "source": [
        "**We can access elements present in the range Data Type by using index.**"
      ]
    },
    {
      "cell_type": "code",
      "metadata": {
        "id": "1J1SVbxnVwaO"
      },
      "source": [
        "r3[3]"
      ],
      "execution_count": null,
      "outputs": []
    },
    {
      "cell_type": "code",
      "metadata": {
        "id": "ZZ_aCJp4V8ha"
      },
      "source": [
        "r3[:]"
      ],
      "execution_count": null,
      "outputs": []
    },
    {
      "cell_type": "code",
      "metadata": {
        "id": "iJ-09ZVqWBMt"
      },
      "source": [
        "r3[-1]"
      ],
      "execution_count": null,
      "outputs": []
    },
    {
      "cell_type": "code",
      "metadata": {
        "id": "2_OaC5ZAWItI"
      },
      "source": [
        "#We cannot modify the values of range data type\r\n",
        "r3[2]=44"
      ],
      "execution_count": null,
      "outputs": []
    },
    {
      "cell_type": "code",
      "metadata": {
        "id": "Gi6qatXtWiiW"
      },
      "source": [
        "#We can create a list of values with range data type\r\n",
        "l = list(r3)"
      ],
      "execution_count": null,
      "outputs": []
    },
    {
      "cell_type": "markdown",
      "metadata": {
        "id": "fywB1zVHYG1K"
      },
      "source": [
        "# **set data type:**"
      ]
    },
    {
      "cell_type": "markdown",
      "metadata": {
        "id": "PChyz9YNYB-f"
      },
      "source": [
        "If we want to represent a group of values without duplicates where order is not important\r\n",
        "then we should go for set Data Type."
      ]
    },
    {
      "cell_type": "markdown",
      "metadata": {
        "id": "6gxoRNbnYTAI"
      },
      "source": [
        "1. insertion order is not preserved\r\n",
        "2. duplicates are not allowed\r\n",
        "3. heterogeneous objects are allowed\r\n",
        "4. index concept is not applicable\r\n",
        "5. It is mutable collection\r\n",
        "6. Growable in nature"
      ]
    },
    {
      "cell_type": "code",
      "metadata": {
        "id": "fAVcGeqbYnYQ"
      },
      "source": [
        "s1 = {1,2,1.44, 'ash',2}"
      ],
      "execution_count": null,
      "outputs": []
    },
    {
      "cell_type": "code",
      "metadata": {
        "id": "ZzeHbL1UYsEp"
      },
      "source": [
        "s1"
      ],
      "execution_count": null,
      "outputs": []
    },
    {
      "cell_type": "code",
      "metadata": {
        "id": "QK_fVLINYvUD"
      },
      "source": [
        "type(s1)"
      ],
      "execution_count": null,
      "outputs": []
    },
    {
      "cell_type": "code",
      "metadata": {
        "id": "M7a9MRxpZGLA"
      },
      "source": [
        "s1.add(555)"
      ],
      "execution_count": null,
      "outputs": []
    },
    {
      "cell_type": "code",
      "metadata": {
        "id": "JYIx0phtZI1a"
      },
      "source": [
        "s1"
      ],
      "execution_count": null,
      "outputs": []
    },
    {
      "cell_type": "code",
      "metadata": {
        "id": "mVzntdQ1ZWdY"
      },
      "source": [
        "s1.remove(555)"
      ],
      "execution_count": null,
      "outputs": []
    },
    {
      "cell_type": "code",
      "metadata": {
        "id": "OJKOSFFpZc9Z"
      },
      "source": [
        "s1"
      ],
      "execution_count": null,
      "outputs": []
    },
    {
      "cell_type": "code",
      "metadata": {
        "id": "F2j4RcAFZtJq"
      },
      "source": [
        "l = list(s1)"
      ],
      "execution_count": null,
      "outputs": []
    },
    {
      "cell_type": "code",
      "metadata": {
        "id": "GIb_FJ4FZwa0"
      },
      "source": [
        "l"
      ],
      "execution_count": null,
      "outputs": []
    },
    {
      "cell_type": "code",
      "metadata": {
        "id": "SmeoR0HDZkrY"
      },
      "source": [
        "#'set' object does not support indexing\r\n",
        "s1[2]"
      ],
      "execution_count": null,
      "outputs": []
    },
    {
      "cell_type": "code",
      "metadata": {
        "id": "qXKIvXkAZz36"
      },
      "source": [
        "#unsupported operand type(s) for *: 'set' and 'int\r\n",
        "s2 = s1*3"
      ],
      "execution_count": null,
      "outputs": []
    },
    {
      "cell_type": "code",
      "metadata": {
        "id": "FiEDAtfWaQCo"
      },
      "source": [
        "#'set' object does not support item assignment\r\n",
        "s1[2] = 4"
      ],
      "execution_count": null,
      "outputs": []
    }
  ]
}