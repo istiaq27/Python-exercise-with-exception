{
  "nbformat": 4,
  "nbformat_minor": 0,
  "metadata": {
    "colab": {
      "name": "Data_Types.ipynb",
      "provenance": [],
      "authorship_tag": "ABX9TyNfRCJzoRpQ67gtmjE0zMww",
      "include_colab_link": true
    },
    "kernelspec": {
      "name": "python3",
      "display_name": "Python 3"
    }
  },
  "cells": [
    {
      "cell_type": "markdown",
      "metadata": {
        "id": "view-in-github",
        "colab_type": "text"
      },
      "source": [
        "<a href=\"https://colab.research.google.com/github/istiaq27/python-basic-code-example-with-exception/blob/main/Data_Types.ipynb\" target=\"_parent\"><img src=\"https://colab.research.google.com/assets/colab-badge.svg\" alt=\"Open In Colab\"/></a>"
      ]
    },
    {
      "cell_type": "markdown",
      "metadata": {
        "id": "Ikd2RplxofDn"
      },
      "source": [
        "**DATA TYPES**"
      ]
    },
    {
      "cell_type": "markdown",
      "metadata": {
        "id": "MAcKs_gQozLv"
      },
      "source": [
        "Data Type represent the type of data present inside a variable.\r\n",
        "\r\n",
        "Python contains the following inbuilt data types\r\n",
        "\r\n",
        "\r\n",
        "\r\n",
        "*  INT\r\n",
        "*  FLOAT\r\n",
        "*  BOOL\r\n",
        "*  STR\r\n",
        "*  BYTES\r\n",
        "*  BYTEARRAY\r\n",
        "*  COMPLEX\r\n",
        "*  LIST\r\n",
        "*  TUPPLE\r\n",
        "*  SET\r\n",
        "*  FROZENSET\r\n",
        "*  DICT\r\n",
        "*  RANGE\r\n",
        "*  NONE\r\n",
        "\r\n",
        "\r\n",
        "\r\n"
      ]
    },
    {
      "cell_type": "markdown",
      "metadata": {
        "id": "S2VR4b8zp6ZI"
      },
      "source": [
        "# **SOME INBUILT FUNCTION EXAMPLE**"
      ]
    },
    {
      "cell_type": "code",
      "metadata": {
        "id": "3orceHPrqF1g"
      },
      "source": [
        "type(56)"
      ],
      "execution_count": null,
      "outputs": []
    },
    {
      "cell_type": "code",
      "metadata": {
        "id": "vLyDDb0poUqM"
      },
      "source": [
        "type(True)"
      ],
      "execution_count": null,
      "outputs": []
    },
    {
      "cell_type": "code",
      "metadata": {
        "id": "Gt1QOqcLqiGz"
      },
      "source": [
        "type(3+3j)"
      ],
      "execution_count": null,
      "outputs": []
    },
    {
      "cell_type": "code",
      "metadata": {
        "id": "_72jyUVoqngx"
      },
      "source": [
        "type([4,5,7])"
      ],
      "execution_count": null,
      "outputs": []
    },
    {
      "cell_type": "code",
      "metadata": {
        "id": "k3tRSPXSqwBX"
      },
      "source": [
        "type((4,5,6))"
      ],
      "execution_count": null,
      "outputs": []
    },
    {
      "cell_type": "code",
      "metadata": {
        "id": "pyu_tgFxq3Xc"
      },
      "source": [
        "type(range(4))"
      ],
      "execution_count": null,
      "outputs": []
    },
    {
      "cell_type": "code",
      "metadata": {
        "id": "DFiewc-QrGRJ"
      },
      "source": [
        "type(set('khalid'))"
      ],
      "execution_count": null,
      "outputs": []
    },
    {
      "cell_type": "code",
      "metadata": {
        "id": "zu4ns-EesKht"
      },
      "source": [
        "type(set([1,2,'ash',3]))"
      ],
      "execution_count": null,
      "outputs": []
    },
    {
      "cell_type": "code",
      "metadata": {
        "id": "T0mYba-PsYvZ"
      },
      "source": [
        "type({1,3,4})"
      ],
      "execution_count": null,
      "outputs": []
    },
    {
      "cell_type": "code",
      "metadata": {
        "id": "6pSGyQZDtBP3"
      },
      "source": [
        "set1 = set([\"Geeks\", \"For\", \"Geeks\", \"For\"])"
      ],
      "execution_count": 34,
      "outputs": []
    },
    {
      "cell_type": "code",
      "metadata": {
        "id": "1MvvRq32tGlv"
      },
      "source": [
        "type(set1)"
      ],
      "execution_count": null,
      "outputs": []
    },
    {
      "cell_type": "code",
      "metadata": {
        "id": "Trn-iuJ-w3xb"
      },
      "source": [
        "type(b'(1,2,3)')"
      ],
      "execution_count": null,
      "outputs": []
    },
    {
      "cell_type": "code",
      "metadata": {
        "id": "tADce52Dwt79"
      },
      "source": [
        "type(bytes([1,2]))"
      ],
      "execution_count": null,
      "outputs": []
    },
    {
      "cell_type": "code",
      "metadata": {
        "id": "1YxNDxPVwTFa"
      },
      "source": [
        "type(bytearray(4))"
      ],
      "execution_count": null,
      "outputs": []
    },
    {
      "cell_type": "markdown",
      "metadata": {
        "id": "U0c3JAuPzwuG"
      },
      "source": [
        "**id()---**\r\n",
        "**to get address of object**"
      ]
    },
    {
      "cell_type": "code",
      "metadata": {
        "id": "oU5E8U8b0LYE"
      },
      "source": [
        " a = 12\r\n",
        " b =12"
      ],
      "execution_count": 48,
      "outputs": []
    },
    {
      "cell_type": "code",
      "metadata": {
        "id": "aV9KgjOs1DhH"
      },
      "source": [
        "id(a)"
      ],
      "execution_count": null,
      "outputs": []
    },
    {
      "cell_type": "code",
      "metadata": {
        "id": "ckPnFMPE1HmW"
      },
      "source": [
        "#same as a\r\n",
        "id(b)"
      ],
      "execution_count": null,
      "outputs": []
    },
    {
      "cell_type": "markdown",
      "metadata": {
        "id": "j7pp7hRu1mpN"
      },
      "source": [
        ""
      ]
    },
    {
      "cell_type": "markdown",
      "metadata": {
        "id": "nXctQwas1orO"
      },
      "source": [
        "## **We can represent int values in the following ways**"
      ]
    },
    {
      "cell_type": "markdown",
      "metadata": {
        "id": "oyqwL6Tc1xgu"
      },
      "source": [
        "\r\n",
        "\r\n",
        "*   **Decimal** (Base 10 ----- 0 to 9 ----- eg, a = 5)\r\n",
        "*   **Hexa Decimal** (Base 16 ----- 0 to 9, a to f ----- eg, a = 0xeb83, b = 0X8cdf) ----> Literal value should be prefixed with 0x or 0X\r\n",
        "*   **Binary** (Base 2 ----- 0 & 1 ----- eg, a = 0b11, b = 0B11) ----> Literal value should be prefixed with 0b or 0B.\r\n",
        "*   **Octal** (Base 8 ----- 0 to 7 ----- eg, a =0o123, b = 0O345) ----> Literal value should be prefixed with 0o or 0O.\r\n",
        "\r\n",
        "\r\n",
        "** **PVM will always provide values only in decimal form.**\r\n",
        "\r\n"
      ]
    },
    {
      "cell_type": "markdown",
      "metadata": {
        "id": "S7Z2nS_R71FN"
      },
      "source": [
        "**Type Conversion**"
      ]
    },
    {
      "cell_type": "code",
      "metadata": {
        "id": "7A8grEwj4u5e"
      },
      "source": [
        "# By default is will print Decimal Value\r\n",
        "0x1234"
      ],
      "execution_count": null,
      "outputs": []
    },
    {
      "cell_type": "code",
      "metadata": {
        "id": "pdooOVAq8DV7"
      },
      "source": [
        "bin(7)"
      ],
      "execution_count": null,
      "outputs": []
    },
    {
      "cell_type": "code",
      "metadata": {
        "id": "L7UtDNN_8I9l"
      },
      "source": [
        "hex(15)"
      ],
      "execution_count": null,
      "outputs": []
    },
    {
      "cell_type": "code",
      "metadata": {
        "id": "X_ey64Cr8M03"
      },
      "source": [
        "oct(8)"
      ],
      "execution_count": null,
      "outputs": []
    },
    {
      "cell_type": "code",
      "metadata": {
        "id": "mViViM5L892w"
      },
      "source": [
        "#both a & b holds same value but different id\r\n",
        "a = 2e3\r\n",
        "b = 2000.0"
      ],
      "execution_count": 73,
      "outputs": []
    },
    {
      "cell_type": "code",
      "metadata": {
        "id": "8r5CZv_8-EZO"
      },
      "source": [
        "a"
      ],
      "execution_count": null,
      "outputs": []
    },
    {
      "cell_type": "markdown",
      "metadata": {
        "id": "CMcEyAfd-yL8"
      },
      "source": [
        "**Complex**"
      ]
    },
    {
      "cell_type": "markdown",
      "metadata": {
        "id": "MbknE_VwALhn"
      },
      "source": [
        "* In the real part if we use int value then we can specify that either by decimal,octal,binary\r\n",
        "or hexa decimal form.\r\n",
        "* But imaginary part should be specified only by using decimal form."
      ]
    },
    {
      "cell_type": "code",
      "metadata": {
        "id": "gs0BeT9i-z8P"
      },
      "source": [
        "# Both real and imaginary part are decimal\r\n",
        "c = 4+3j"
      ],
      "execution_count": 99,
      "outputs": []
    },
    {
      "cell_type": "code",
      "metadata": {
        "id": "DuGupLwk-9th"
      },
      "source": [
        "c"
      ],
      "execution_count": null,
      "outputs": []
    },
    {
      "cell_type": "markdown",
      "metadata": {
        "id": "3r9U8ww5EVn3"
      },
      "source": [
        "* **real and imag are used to retrieve the real and imaginary part**\r\n",
        "* **We can use complex type generally in scientific Applications and electrical engineering\r\n",
        "Applications.**"
      ]
    },
    {
      "cell_type": "code",
      "metadata": {
        "id": "Dqo5ecyODwfW"
      },
      "source": [
        "c.real"
      ],
      "execution_count": null,
      "outputs": []
    },
    {
      "cell_type": "code",
      "metadata": {
        "id": "lYn9WZs1ESPu"
      },
      "source": [
        "c.imag"
      ],
      "execution_count": null,
      "outputs": []
    },
    {
      "cell_type": "code",
      "metadata": {
        "id": "y1juslFj_Al2"
      },
      "source": [
        "# real part binary\r\n",
        "# imaginary part decimal\r\n",
        "a = 0b100+3j"
      ],
      "execution_count": 87,
      "outputs": []
    },
    {
      "cell_type": "code",
      "metadata": {
        "id": "O7KDJXQ7_aW0"
      },
      "source": [
        "a"
      ],
      "execution_count": null,
      "outputs": []
    },
    {
      "cell_type": "code",
      "metadata": {
        "id": "dPd__1A7AdT1"
      },
      "source": [
        "type(a)"
      ],
      "execution_count": null,
      "outputs": []
    },
    {
      "cell_type": "code",
      "metadata": {
        "id": "5wbk4ibO_ioQ"
      },
      "source": [
        "# real part decimal\r\n",
        "# imaginary part except decimal\r\n",
        "a = 4+ 0b111j"
      ],
      "execution_count": null,
      "outputs": []
    },
    {
      "cell_type": "code",
      "metadata": {
        "id": "wsUrshPrDrRT"
      },
      "source": [
        ""
      ],
      "execution_count": null,
      "outputs": []
    }
  ]
}