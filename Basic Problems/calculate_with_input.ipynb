{
  "nbformat": 4,
  "nbformat_minor": 0,
  "metadata": {
    "kernelspec": {
      "display_name": "Python 2",
      "language": "python",
      "name": "python2"
    },
    "language_info": {
      "codemirror_mode": {
        "name": "ipython",
        "version": 2
      },
      "file_extension": ".py",
      "mimetype": "text/x-python",
      "name": "python",
      "nbconvert_exporter": "python",
      "pygments_lexer": "ipython2",
      "version": "2.7.13"
    },
    "colab": {
      "name": "calculate_with_input.ipynb",
      "provenance": [],
      "collapsed_sections": [],
      "include_colab_link": true
    }
  },
  "cells": [
    {
      "cell_type": "markdown",
      "metadata": {
        "id": "view-in-github",
        "colab_type": "text"
      },
      "source": [
        "<a href=\"https://colab.research.google.com/github/istiaq27/Python-exercise-with-exception/blob/main/Basic%20Problems/calculate_with_input.ipynb\" target=\"_parent\"><img src=\"https://colab.research.google.com/assets/colab-badge.svg\" alt=\"Open In Colab\"/></a>"
      ]
    },
    {
      "cell_type": "markdown",
      "metadata": {
        "id": "64DywTw0oERo"
      },
      "source": [
        "# Write a Python program that accepts an integer (n) and computes the value of n+nn+nnn. \n",
        "\n",
        "* Sample value of n is 2\n",
        "* Expected Result : 246"
      ]
    },
    {
      "cell_type": "code",
      "metadata": {
        "colab": {
          "base_uri": "https://localhost:8080/"
        },
        "id": "D-9DPO3haClf",
        "outputId": "8096b911-047d-4e65-dc7a-8b065397b3ff"
      },
      "source": [
        "# M1\n",
        "# quite slower than 2\n",
        "import time\n",
        "\n",
        "num1 = int(input(\"Input an integer : \"))\n",
        "start_time = time.time()\n",
        "num2 = int(str(num1)*2)\n",
        "num3 = int(str(num1)*3) \n",
        "print(num1+num2+num3)\n",
        "print(\"--- Execution time is: %s seconds ---\" % (time.time() - start_time))"
      ],
      "execution_count": 33,
      "outputs": [
        {
          "output_type": "stream",
          "name": "stdout",
          "text": [
            "Input an integer : 2\n",
            "246\n",
            "--- Execution time is: 0.000622034072876 seconds ---\n"
          ]
        }
      ]
    },
    {
      "cell_type": "code",
      "metadata": {
        "colab": {
          "base_uri": "https://localhost:8080/"
        },
        "id": "u2thJYOKZxrd",
        "outputId": "e464835c-ddbe-4478-f78e-90c16f6b08d2"
      },
      "source": [
        "import time\n",
        "\n",
        "num1 = int(input(\"Input an integer : \"))\n",
        "start_time = time.time()\n",
        "num2 = int( \"%s%s\" % (num1,num1) )\n",
        "num3 = int( \"%s%s%s\" % (num1,num1,num1) )\n",
        "print (num1+num2+num3)\n",
        "print(\"--- Execution time is: %s seconds ---\" % (time.time() - start_time))"
      ],
      "execution_count": 32,
      "outputs": [
        {
          "output_type": "stream",
          "name": "stdout",
          "text": [
            "Input an integer : 2\n",
            "246\n",
            "--- Execution time is: 0.000478029251099 seconds ---\n"
          ]
        }
      ]
    },
    {
      "cell_type": "code",
      "metadata": {
        "id": "yb89X2BgcX75"
      },
      "source": [
        ""
      ],
      "execution_count": null,
      "outputs": []
    }
  ]
}