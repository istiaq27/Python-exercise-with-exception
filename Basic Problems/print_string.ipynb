{
  "nbformat": 4,
  "nbformat_minor": 0,
  "metadata": {
    "kernelspec": {
      "name": "python3",
      "display_name": "Python 3"
    },
    "colab": {
      "name": "print_string.ipynb",
      "provenance": [],
      "collapsed_sections": [],
      "include_colab_link": true
    },
    "language_info": {
      "name": "python"
    },
    "accelerator": "GPU"
  },
  "cells": [
    {
      "cell_type": "markdown",
      "metadata": {
        "id": "view-in-github",
        "colab_type": "text"
      },
      "source": [
        "<a href=\"https://colab.research.google.com/github/istiaq27/Python-exercise-with-exception/blob/main/Basic%20Problems/print_string.ipynb\" target=\"_parent\"><img src=\"https://colab.research.google.com/assets/colab-badge.svg\" alt=\"Open In Colab\"/></a>"
      ]
    },
    {
      "cell_type": "markdown",
      "metadata": {
        "id": "I0ft3TXUerlW"
      },
      "source": [
        "# Write a Python program to print the following string in a specific format (see the output).\n",
        "\n",
        "Sample String : \n",
        "\"Twinkle, twinkle, little star, How I wonder what you are! Up above the world so high, Like a diamond in the sky. Twinkle, twinkle, little star, How I wonder what you are\" \n",
        "\n",
        "# Output :\n"
      ]
    },
    {
      "cell_type": "markdown",
      "metadata": {
        "id": "UyizyiHzjPZz"
      },
      "source": [
        "![output.PNG](data:image/png;base64,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)"
      ]
    },
    {
      "cell_type": "code",
      "metadata": {
        "collapsed": true,
        "id": "5tig1eVxg6xe",
        "colab": {
          "base_uri": "https://localhost:8080/"
        },
        "outputId": "4f88610e-3a9c-4de7-8d61-492909968ebf"
      },
      "source": [
        "print('''\n",
        "Twinkle, twinkle, little star,\n",
        "    How I wonder what you are! \n",
        "            Up above the world so high,\n",
        "            Like a diamond in the sky. \n",
        "Twinkle, twinkle, little star, \n",
        "    How I wonder what you are\n",
        "''')"
      ],
      "execution_count": 1,
      "outputs": [
        {
          "output_type": "stream",
          "name": "stdout",
          "text": [
            "\n",
            "Twinkle, twinkle, little star,\n",
            "    How I wonder what you are! \n",
            "            Up above the world so high,\n",
            "            Like a diamond in the sky. \n",
            "Twinkle, twinkle, little star, \n",
            "    How I wonder what you are\n",
            "\n"
          ]
        }
      ]
    }
  ]
}