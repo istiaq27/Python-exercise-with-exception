{
  "nbformat": 4,
  "nbformat_minor": 0,
  "metadata": {
    "kernelspec": {
      "name": "python3",
      "display_name": "Python 3"
    },
    "colab": {
      "name": "input_age.ipynb",
      "provenance": [],
      "collapsed_sections": [],
      "include_colab_link": true
    },
    "language_info": {
      "name": "python"
    }
  },
  "cells": [
    {
      "cell_type": "markdown",
      "metadata": {
        "id": "view-in-github",
        "colab_type": "text"
      },
      "source": [
        "<a href=\"https://colab.research.google.com/github/istiaq27/Python-exercise-with-exception/blob/main/Basic%20Problems/input_age.ipynb\" target=\"_parent\"><img src=\"https://colab.research.google.com/assets/colab-badge.svg\" alt=\"Open In Colab\"/></a>"
      ]
    },
    {
      "cell_type": "markdown",
      "metadata": {
        "id": "KMbN8DRnkYPI"
      },
      "source": [
        "\n",
        "# Create a program that asks the user to enter their name and their age.\n",
        "# Print out a message addressed to them that tells them the year that they will turn 100 years old."
      ]
    },
    {
      "cell_type": "code",
      "metadata": {
        "colab": {
          "base_uri": "https://localhost:8080/"
        },
        "id": "TL9ghOeBkb-w",
        "outputId": "0b22795d-44ab-4c01-b91b-e8eb929bc989"
      },
      "source": [
        "name = input(\"What is your name: \")\n",
        "age = int(input(\"How old are you: \"))\n",
        "year = str((2021 - age)+100)\n",
        "print(f\"{name} will be 100 years old in the year {year}\")"
      ],
      "execution_count": 2,
      "outputs": [
        {
          "output_type": "stream",
          "name": "stdout",
          "text": [
            "What is your name: ash\n",
            "How old are you: 21\n",
            "ash will be 100 years old in the year 2100\n"
          ]
        }
      ]
    }
  ]
}