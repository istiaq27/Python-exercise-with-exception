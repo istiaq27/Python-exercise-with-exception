{
  "nbformat": 4,
  "nbformat_minor": 0,
  "metadata": {
    "kernelspec": {
      "display_name": "Python 3",
      "language": "python",
      "name": "python3"
    },
    "language_info": {
      "codemirror_mode": {
        "name": "ipython",
        "version": 3
      },
      "file_extension": ".py",
      "mimetype": "text/x-python",
      "name": "python",
      "nbconvert_exporter": "python",
      "pygments_lexer": "ipython3",
      "version": "3.6.1"
    },
    "colab": {
      "name": "remove_duplicate.ipynb",
      "provenance": [],
      "collapsed_sections": [],
      "include_colab_link": true
    }
  },
  "cells": [
    {
      "cell_type": "markdown",
      "metadata": {
        "id": "view-in-github",
        "colab_type": "text"
      },
      "source": [
        "<a href=\"https://colab.research.google.com/github/istiaq27/Python-exercise-with-exception/blob/main/list/8.%20remove%20duplicate.ipynb\" target=\"_parent\"><img src=\"https://colab.research.google.com/assets/colab-badge.svg\" alt=\"Open In Colab\"/></a>"
      ]
    },
    {
      "cell_type": "code",
      "metadata": {
        "collapsed": true,
        "id": "NIzgt3SOB5oo"
      },
      "source": [
        "# Write a Python program to remove duplicates from a list.\n",
        "# Input a = [10,20,30,20,10,50,60,40,80,50,40]\n",
        "# Output [40, 10, 80, 50, 20, 60, 30]"
      ],
      "execution_count": null,
      "outputs": []
    },
    {
      "cell_type": "code",
      "metadata": {
        "colab": {
          "base_uri": "https://localhost:8080/"
        },
        "id": "wnsqvCAYCUOZ",
        "outputId": "e20a94fc-52aa-48d5-ce8b-7ce8d108cf4c"
      },
      "source": [
        "a = [10,20,30,20,10,50,60,40,80,50,40]\n",
        "u1 = list(set(a))\n",
        "u1"
      ],
      "execution_count": 3,
      "outputs": [
        {
          "output_type": "execute_result",
          "data": {
            "text/plain": [
              "[40, 10, 80, 50, 20, 60, 30]"
            ]
          },
          "metadata": {},
          "execution_count": 3
        }
      ]
    },
    {
      "cell_type": "code",
      "metadata": {
        "colab": {
          "base_uri": "https://localhost:8080/"
        },
        "id": "LUwWVcntCevE",
        "outputId": "e764dd51-f391-499a-daba-7c55ccb02984"
      },
      "source": [
        "a = [10,20,30,20,10,50,60,40,80,50,40]\n",
        "unique_items = []\n",
        "for i in a:\n",
        "    if i not in unique_items:\n",
        "        unique_items.append(i)\n",
        "print(unique_items)"
      ],
      "execution_count": 5,
      "outputs": [
        {
          "output_type": "stream",
          "name": "stdout",
          "text": [
            "[10, 20, 30, 50, 60, 40, 80]\n"
          ]
        }
      ]
    }
  ]
}