{
  "nbformat": 4,
  "nbformat_minor": 0,
  "metadata": {
    "kernelspec": {
      "display_name": "Python 3",
      "language": "python",
      "name": "python3"
    },
    "language_info": {
      "codemirror_mode": {
        "name": "ipython",
        "version": 3
      },
      "file_extension": ".py",
      "mimetype": "text/x-python",
      "name": "python",
      "nbconvert_exporter": "python",
      "pygments_lexer": "ipython3",
      "version": "3.6.1"
    },
    "colab": {
      "name": "2. check_a_list_contains_sublist.ipynb",
      "provenance": [],
      "collapsed_sections": [],
      "include_colab_link": true
    }
  },
  "cells": [
    {
      "cell_type": "markdown",
      "metadata": {
        "id": "view-in-github",
        "colab_type": "text"
      },
      "source": [
        "<a href=\"https://colab.research.google.com/github/istiaq27/Python-exercise-with-exception/blob/main/list/2.%20check%20a%20list%20contains%20sublist.ipynb\" target=\"_parent\"><img src=\"https://colab.research.google.com/assets/colab-badge.svg\" alt=\"Open In Colab\"/></a>"
      ]
    },
    {
      "cell_type": "code",
      "metadata": {
        "collapsed": true,
        "id": "VD_6jyezrVHm"
      },
      "source": [
        "# Write a Python program to check whether a list contains a sublist.\n",
        "# Input\n",
        "# a = [2,4,3,5,7]\n",
        "# b = [4,3]\n",
        "# c = [3,7]\n",
        "# print(is_Sublist(a, b))\n",
        "# print(is_Sublist(a, c))\n",
        "# Output\n"
      ],
      "execution_count": 1,
      "outputs": []
    },
    {
      "cell_type": "code",
      "metadata": {
        "colab": {
          "base_uri": "https://localhost:8080/"
        },
        "id": "B7JtFc_TrklC",
        "outputId": "c25fe2b4-cfe7-416f-fa87-dc71df56fa89"
      },
      "source": [
        "a = [2,4,3,5,7]\n",
        "b = [4,3]\n",
        "c = [3,7]\n",
        "def is_Sublist(l,s):\n",
        "    sub_set = False\n",
        "    if s == []:\n",
        "        sub_set = True\n",
        "    elif s == l:\n",
        "        sub_set = True\n",
        "    elif len(s) > len(l):\n",
        "        sub_set = False\n",
        "    else:\n",
        "        for i in range(len(l)):\n",
        "            if l[i] == s[0]:\n",
        "                n = 1\n",
        "                while (n<len(s)) and (l[i+n]==s[n]):\n",
        "                    n += 1\n",
        "\n",
        "                if n == len(s):\n",
        "                    sub_set = True\n",
        "\n",
        "    return sub_set\n",
        "\n",
        "print(is_Sublist(a, b))\n",
        "print(is_Sublist(a, c))\n",
        "\n"
      ],
      "execution_count": 6,
      "outputs": [
        {
          "output_type": "stream",
          "name": "stdout",
          "text": [
            "True\n",
            "False\n"
          ]
        }
      ]
    }
  ]
}