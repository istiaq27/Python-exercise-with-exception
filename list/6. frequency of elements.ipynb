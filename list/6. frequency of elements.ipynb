{
  "nbformat": 4,
  "nbformat_minor": 0,
  "metadata": {
    "kernelspec": {
      "display_name": "Python 3",
      "language": "python",
      "name": "python3"
    },
    "language_info": {
      "codemirror_mode": {
        "name": "ipython",
        "version": 3
      },
      "file_extension": ".py",
      "mimetype": "text/x-python",
      "name": "python",
      "nbconvert_exporter": "python",
      "pygments_lexer": "ipython3",
      "version": "3.6.1"
    },
    "colab": {
      "name": "6. frequency_of_elements.ipynb",
      "provenance": [],
      "collapsed_sections": [],
      "include_colab_link": true
    }
  },
  "cells": [
    {
      "cell_type": "markdown",
      "metadata": {
        "id": "view-in-github",
        "colab_type": "text"
      },
      "source": [
        "<a href=\"https://colab.research.google.com/github/istiaq27/Python-exercise-with-exception/blob/main/list/6.%20frequency%20of%20elements.ipynb\" target=\"_parent\"><img src=\"https://colab.research.google.com/assets/colab-badge.svg\" alt=\"Open In Colab\"/></a>"
      ]
    },
    {
      "cell_type": "code",
      "metadata": {
        "collapsed": true,
        "id": "Md20B98_-htk"
      },
      "source": [
        "# Write a Python program to get the frequency of the elements in a list.\n",
        "# input\n",
        "# my_list = [10,10,10,10,20,20,20,20,40,40,50,50,30]\n",
        "# outout\n",
        "# {10: 4, 20: 4, 40: 2, 50: 2, 30: 1}\n"
      ],
      "execution_count": null,
      "outputs": []
    },
    {
      "cell_type": "code",
      "metadata": {
        "colab": {
          "base_uri": "https://localhost:8080/"
        },
        "id": "u4PRQXMr-uRE",
        "outputId": "d6bb1991-5121-4451-f97f-df0a1cc648c1"
      },
      "source": [
        "import collections\n",
        "my_list = [10,10,10,10,20,20,20,20,40,40,50,50,30]\n",
        "fr = collections.Counter(my_list)\n",
        "print(fr)"
      ],
      "execution_count": 2,
      "outputs": [
        {
          "output_type": "stream",
          "name": "stdout",
          "text": [
            "Counter({10: 4, 20: 4, 40: 2, 50: 2, 30: 1})\n"
          ]
        }
      ]
    }
  ]
}