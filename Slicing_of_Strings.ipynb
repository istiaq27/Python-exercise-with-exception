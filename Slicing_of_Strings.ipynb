{
  "nbformat": 4,
  "nbformat_minor": 0,
  "metadata": {
    "colab": {
      "name": "Slicing of Strings.ipynb",
      "provenance": [],
      "collapsed_sections": [],
      "authorship_tag": "ABX9TyOzFZ+QXfjoIzEeYqeNnL/n",
      "include_colab_link": true
    },
    "kernelspec": {
      "name": "python3",
      "display_name": "Python 3"
    }
  },
  "cells": [
    {
      "cell_type": "markdown",
      "metadata": {
        "id": "view-in-github",
        "colab_type": "text"
      },
      "source": [
        "<a href=\"https://colab.research.google.com/github/istiaq27/python-basic-code-example-with-exception/blob/main/Slicing_of_Strings.ipynb\" target=\"_parent\"><img src=\"https://colab.research.google.com/assets/colab-badge.svg\" alt=\"Open In Colab\"/></a>"
      ]
    },
    {
      "cell_type": "markdown",
      "metadata": {
        "id": "R1gp7SYiFJm5"
      },
      "source": [
        "# **Slicing of Strings**"
      ]
    },
    {
      "cell_type": "markdown",
      "metadata": {
        "id": "lT3awqa8FXTF"
      },
      "source": [
        "* Slice means a piece\r\n",
        "* This [ ] operator is called slice operator,which can be used to retrieve parts of String.\r\n",
        "* In Python Strings follows zero based index.\r\n",
        "* The index can be either +ve or -ve.\r\n",
        "* +ve index means forward direction from Left to Right\r\n",
        "* -ve index means backward direction from Right to Left"
      ]
    },
    {
      "cell_type": "code",
      "metadata": {
        "id": "y4nO2HTSEsIi"
      },
      "source": [
        "st = 'Slicing of String'"
      ],
      "execution_count": 4,
      "outputs": []
    },
    {
      "cell_type": "code",
      "metadata": {
        "id": "77qoNenMGAyH"
      },
      "source": [
        "st[0]"
      ],
      "execution_count": null,
      "outputs": []
    },
    {
      "cell_type": "code",
      "metadata": {
        "id": "oYLUD8gUGDdt"
      },
      "source": [
        "st[3]"
      ],
      "execution_count": null,
      "outputs": []
    },
    {
      "cell_type": "code",
      "metadata": {
        "id": "HnFaqeVkGKcG"
      },
      "source": [
        "st[9]"
      ],
      "execution_count": null,
      "outputs": []
    },
    {
      "cell_type": "code",
      "metadata": {
        "id": "QX46eXV-GWMN"
      },
      "source": [
        "st[16]"
      ],
      "execution_count": null,
      "outputs": []
    },
    {
      "cell_type": "code",
      "metadata": {
        "id": "HkJR_6N-GbI-"
      },
      "source": [
        "st[-1]"
      ],
      "execution_count": null,
      "outputs": []
    },
    {
      "cell_type": "code",
      "metadata": {
        "id": "Yw2GnyX8Gdmh"
      },
      "source": [
        "st[0:]"
      ],
      "execution_count": null,
      "outputs": []
    },
    {
      "cell_type": "code",
      "metadata": {
        "id": "Z_tg5OQeGhsV"
      },
      "source": [
        "st[:]"
      ],
      "execution_count": null,
      "outputs": []
    },
    {
      "cell_type": "code",
      "metadata": {
        "id": "ZJtTkpzjGjS9"
      },
      "source": [
        "st[:-1]"
      ],
      "execution_count": null,
      "outputs": []
    },
    {
      "cell_type": "code",
      "metadata": {
        "id": "EIQEayM0GnuV"
      },
      "source": [
        "st[4:12]"
      ],
      "execution_count": null,
      "outputs": []
    },
    {
      "cell_type": "code",
      "metadata": {
        "id": "155M6oycG1cu"
      },
      "source": [
        "#from index 2 to 8 with interval 2\r\n",
        "st[2:8:2]"
      ],
      "execution_count": null,
      "outputs": []
    },
    {
      "cell_type": "code",
      "metadata": {
        "id": "R5Vlz4bAHMjM"
      },
      "source": [
        "#from index 0 to -1 with interval 3\r\n",
        "st[:-1:3]"
      ],
      "execution_count": null,
      "outputs": []
    },
    {
      "cell_type": "code",
      "metadata": {
        "id": "_jAHPqUiHzgv"
      },
      "source": [
        "st*2"
      ],
      "execution_count": null,
      "outputs": []
    },
    {
      "cell_type": "code",
      "metadata": {
        "id": "ZBEq38KnH3UZ"
      },
      "source": [
        "#string index out of range\r\n",
        "st[30]"
      ],
      "execution_count": null,
      "outputs": []
    }
  ]
}