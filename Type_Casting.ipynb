{
  "nbformat": 4,
  "nbformat_minor": 0,
  "metadata": {
    "colab": {
      "name": "Type Casting.ipynb",
      "provenance": [],
      "authorship_tag": "ABX9TyPa8wBTjE2FTULcL0Aw2njr",
      "include_colab_link": true
    },
    "kernelspec": {
      "name": "python3",
      "display_name": "Python 3"
    }
  },
  "cells": [
    {
      "cell_type": "markdown",
      "metadata": {
        "id": "view-in-github",
        "colab_type": "text"
      },
      "source": [
        "<a href=\"https://colab.research.google.com/github/istiaq27/python-basic-code-example-with-exception/blob/main/Type_Casting.ipynb\" target=\"_parent\"><img src=\"https://colab.research.google.com/assets/colab-badge.svg\" alt=\"Open In Colab\"/></a>"
      ]
    },
    {
      "cell_type": "markdown",
      "metadata": {
        "id": "snfskx5KERoj"
      },
      "source": [
        "We can convert one type value to another type. This conversion is called Typecasting or\r\n",
        "Type coersion.\r\n",
        "The following are various inbuilt functions for type casting.\r\n",
        "1. int()\r\n",
        "2. float()\r\n",
        "3. complex()\r\n",
        "4. bool()\r\n",
        "5. str() **bold text**"
      ]
    },
    {
      "cell_type": "markdown",
      "metadata": {
        "id": "lSG2INKiEeJ0"
      },
      "source": [
        "# We can use this function to convert values from other types to int, float, complex, bool, str"
      ]
    },
    {
      "cell_type": "code",
      "metadata": {
        "id": "0M6boIbZAwxu"
      },
      "source": [
        "int(True)"
      ],
      "execution_count": null,
      "outputs": []
    },
    {
      "cell_type": "code",
      "metadata": {
        "id": "LBSm3Hw3Bu2g"
      },
      "source": [
        "float(True)"
      ],
      "execution_count": null,
      "outputs": []
    },
    {
      "cell_type": "code",
      "metadata": {
        "id": "2AVsV1jzBq9q"
      },
      "source": [
        "complex(True)"
      ],
      "execution_count": null,
      "outputs": []
    },
    {
      "cell_type": "code",
      "metadata": {
        "id": "rKEDC-eCBHUu"
      },
      "source": [
        "int('20')"
      ],
      "execution_count": null,
      "outputs": []
    },
    {
      "cell_type": "code",
      "metadata": {
        "id": "kHpmXB9aBu_C"
      },
      "source": [
        "float('20')"
      ],
      "execution_count": null,
      "outputs": []
    },
    {
      "cell_type": "code",
      "metadata": {
        "id": "YQ5-ucmXBe-G"
      },
      "source": [
        "complex('20')"
      ],
      "execution_count": null,
      "outputs": []
    },
    {
      "cell_type": "code",
      "metadata": {
        "id": "rPYaXZBYIdKO"
      },
      "source": [
        "# Invalid literal for int()\r\n",
        "int('20.44')"
      ],
      "execution_count": null,
      "outputs": []
    },
    {
      "cell_type": "code",
      "metadata": {
        "id": "xF_Kok0kIn9-"
      },
      "source": [
        "float('20.44')"
      ],
      "execution_count": null,
      "outputs": []
    },
    {
      "cell_type": "code",
      "metadata": {
        "id": "lHtAbhYvIsLu"
      },
      "source": [
        "complex('20.44')"
      ],
      "execution_count": null,
      "outputs": []
    },
    {
      "cell_type": "code",
      "metadata": {
        "id": "C7AnFt1WG7h9"
      },
      "source": [
        "int(20.5)"
      ],
      "execution_count": null,
      "outputs": []
    },
    {
      "cell_type": "code",
      "metadata": {
        "id": "IrrlhYBLG7cl"
      },
      "source": [
        "float(20)"
      ],
      "execution_count": null,
      "outputs": []
    },
    {
      "cell_type": "code",
      "metadata": {
        "id": "Wxzax_GYI6LV"
      },
      "source": [
        "float(20.5)"
      ],
      "execution_count": null,
      "outputs": []
    },
    {
      "cell_type": "code",
      "metadata": {
        "id": "npIksOiOBji_"
      },
      "source": [
        "complex(20.0)"
      ],
      "execution_count": null,
      "outputs": []
    },
    {
      "cell_type": "markdown",
      "metadata": {
        "id": "CdgD0KRRDjwY"
      },
      "source": [
        "# **We can use this method to convert x and y into complex number such that x will be real part and y will be imaginary part.**"
      ]
    },
    {
      "cell_type": "code",
      "metadata": {
        "id": "s_LIrZD_7XkA"
      },
      "source": [
        "complex(True, False)"
      ],
      "execution_count": null,
      "outputs": []
    },
    {
      "cell_type": "code",
      "metadata": {
        "id": "SaJgDP7SBvF7"
      },
      "source": [
        "complex(3, -6)"
      ],
      "execution_count": null,
      "outputs": []
    },
    {
      "cell_type": "code",
      "metadata": {
        "colab": {
          "base_uri": "https://localhost:8080/"
        },
        "id": "ltFSiEotGIAF",
        "outputId": "a2582b8f-fb10-4f1d-8793-6f3f37cfaefa"
      },
      "source": [
        "complex(4, True)"
      ],
      "execution_count": 32,
      "outputs": [
        {
          "output_type": "execute_result",
          "data": {
            "text/plain": [
              "(4+1j)"
            ]
          },
          "metadata": {
            "tags": []
          },
          "execution_count": 32
        }
      ]
    },
    {
      "cell_type": "markdown",
      "metadata": {
        "id": "t60d3GPzDtA7"
      },
      "source": [
        "# **Invalid literal for int(), float() with base 10**\r\n",
        "\r\n",
        "\r\n",
        "\r\n",
        "\r\n"
      ]
    },
    {
      "cell_type": "code",
      "metadata": {
        "id": "_mttEVtJBKXw"
      },
      "source": [
        "int('20.5')"
      ],
      "execution_count": null,
      "outputs": []
    },
    {
      "cell_type": "code",
      "metadata": {
        "id": "PhH723CkC9iQ"
      },
      "source": [
        "int('ten')"
      ],
      "execution_count": null,
      "outputs": []
    },
    {
      "cell_type": "code",
      "metadata": {
        "id": "-xi3Ud_eGrSy"
      },
      "source": [
        "int(ten)"
      ],
      "execution_count": null,
      "outputs": []
    },
    {
      "cell_type": "code",
      "metadata": {
        "id": "CcClDDLEMSm0"
      },
      "source": [
        ""
      ],
      "execution_count": null,
      "outputs": []
    },
    {
      "cell_type": "markdown",
      "metadata": {
        "id": "mgGBsmlGJhG-"
      },
      "source": [
        "# **Bool**"
      ]
    },
    {
      "cell_type": "markdown",
      "metadata": {
        "id": "Tfvp2okeL6u0"
      },
      "source": [
        "**Total 4 case for False. 0, 0.0, (0+0J), \" \"**"
      ]
    },
    {
      "cell_type": "markdown",
      "metadata": {
        "id": "8iGDTELyK0QA"
      },
      "source": [
        "\r\n",
        "\r\n",
        "*   bool(0)==>False \r\n",
        "*   bool(1)==>True\r\n",
        "*   bool(10)===>True \r\n",
        "*   bool(10.5)===>True \r\n",
        "*   bool(0.178)==>True\r\n",
        "*   bool(0.0)==>False\r\n",
        "*   bool(10-2j)==>True \r\n",
        "*   bool(0+1.5j)==>True \r\n",
        "*   bool(0+0j)==>False\r\n",
        "*   bool(\"True\")==>True\r\n",
        "*   bool(\"False\")==>True \r\n",
        "*   bool(\"\")==>False\r\n",
        "\r\n",
        "\r\n",
        "\r\n",
        "\r\n",
        "\r\n"
      ]
    },
    {
      "cell_type": "markdown",
      "metadata": {
        "id": "wJXxQsxgMYR8"
      },
      "source": [
        "# **str()**"
      ]
    },
    {
      "cell_type": "code",
      "metadata": {
        "id": "ZQM_4asZMhsS"
      },
      "source": [
        "str(10)"
      ],
      "execution_count": null,
      "outputs": []
    },
    {
      "cell_type": "code",
      "metadata": {
        "id": "Kx4gfvynMl5G"
      },
      "source": [
        "str(10.50)"
      ],
      "execution_count": null,
      "outputs": []
    },
    {
      "cell_type": "code",
      "metadata": {
        "id": "iTjBQXuDMp8X"
      },
      "source": [
        "str(5+2j)"
      ],
      "execution_count": null,
      "outputs": []
    },
    {
      "cell_type": "code",
      "metadata": {
        "colab": {
          "base_uri": "https://localhost:8080/",
          "height": 35
        },
        "id": "1bblDHv8Mvct",
        "outputId": "5d519766-8a62-4af6-834a-e96b823bbc94"
      },
      "source": [
        "str(True)"
      ],
      "execution_count": 48,
      "outputs": [
        {
          "output_type": "execute_result",
          "data": {
            "application/vnd.google.colaboratory.intrinsic+json": {
              "type": "string"
            },
            "text/plain": [
              "'True'"
            ]
          },
          "metadata": {
            "tags": []
          },
          "execution_count": 48
        }
      ]
    }
  ]
}